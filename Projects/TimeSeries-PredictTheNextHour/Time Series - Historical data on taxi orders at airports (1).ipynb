{
 "cells": [
  {
   "cell_type": "markdown",
   "metadata": {},
   "source": [
    "# Time Series - Historical data on taxi orders at airports"
   ]
  },
  {
   "cell_type": "markdown",
   "metadata": {},
   "source": [
    "# Project description\n",
    "\n",
    "Sweet Lift Taxi company has collected historical data on taxi orders at airports. To attract more drivers during peak hours, we need to predict the amount of taxi orders for the next hour. Build a model for such a prediction.\n",
    "\n",
    "The RMSE metric on the test set should not be more than 48.\n",
    "\n",
    "## Project instructions\n",
    "\n",
    "1. Download the data and resample it by one hour.\n",
    "2. Analyze the data.\n",
    "3. Train different models with different hyperparameters. The test sample should be 10% of the initial dataset. \n",
    "4. Test the data using the test sample and provide a conclusion.\n",
    "\n",
    "## Data description\n",
    "\n",
    "The data is stored in file `taxi.csv`. The number of orders is in the '*num_orders*' column."
   ]
  },
  {
   "cell_type": "markdown",
   "metadata": {},
   "source": [
    "## Preparation"
   ]
  },
  {
   "cell_type": "code",
   "execution_count": 1,
   "metadata": {},
   "outputs": [],
   "source": [
    "#!pip install pmdarima"
   ]
  },
  {
   "cell_type": "code",
   "execution_count": 2,
   "metadata": {},
   "outputs": [],
   "source": [
    "#pip install --upgrade patsy"
   ]
  },
  {
   "cell_type": "code",
   "execution_count": 3,
   "metadata": {},
   "outputs": [],
   "source": [
    "#pip install statsmodels"
   ]
  },
  {
   "cell_type": "code",
   "execution_count": 4,
   "metadata": {},
   "outputs": [],
   "source": [
    "from sklearn.model_selection import train_test_split\n",
    "import numpy as np, pandas as pd\n",
    "from math import sqrt\n",
    "from statsmodels.graphics.tsaplots import plot_acf, plot_pacf\n",
    "import matplotlib.pyplot as plt\n",
    "\n",
    "from sklearn.metrics import mean_absolute_error, mean_squared_error\n",
    "\n",
    "from statsmodels.tsa.stattools import acf\n",
    "from statsmodels.tsa.stattools import adfuller\n",
    "from numpy import log\n",
    "\n",
    "from statsmodels.tsa.arima.model import ARIMA\n",
    "from statsmodels.tsa.seasonal import seasonal_decompose\n",
    "from pmdarima import auto_arima\n",
    "\n",
    "from sklearn.linear_model import LinearRegression\n",
    "from sklearn.model_selection import TimeSeriesSplit, cross_validate\n",
    "\n",
    "\n",
    "import warnings\n",
    "warnings.filterwarnings('ignore')\n",
    "warnings.simplefilter(action='ignore', category=FutureWarning)"
   ]
  },
  {
   "cell_type": "code",
   "execution_count": 5,
   "metadata": {},
   "outputs": [
    {
     "data": {
      "text/html": [
       "<div>\n",
       "<style scoped>\n",
       "    .dataframe tbody tr th:only-of-type {\n",
       "        vertical-align: middle;\n",
       "    }\n",
       "\n",
       "    .dataframe tbody tr th {\n",
       "        vertical-align: top;\n",
       "    }\n",
       "\n",
       "    .dataframe thead th {\n",
       "        text-align: right;\n",
       "    }\n",
       "</style>\n",
       "<table border=\"1\" class=\"dataframe\">\n",
       "  <thead>\n",
       "    <tr style=\"text-align: right;\">\n",
       "      <th></th>\n",
       "      <th>num_orders</th>\n",
       "    </tr>\n",
       "    <tr>\n",
       "      <th>datetime</th>\n",
       "      <th></th>\n",
       "    </tr>\n",
       "  </thead>\n",
       "  <tbody>\n",
       "    <tr>\n",
       "      <td>2018-03-01 00:00:00</td>\n",
       "      <td>9</td>\n",
       "    </tr>\n",
       "    <tr>\n",
       "      <td>2018-03-01 00:10:00</td>\n",
       "      <td>14</td>\n",
       "    </tr>\n",
       "    <tr>\n",
       "      <td>2018-03-01 00:20:00</td>\n",
       "      <td>28</td>\n",
       "    </tr>\n",
       "    <tr>\n",
       "      <td>2018-03-01 00:30:00</td>\n",
       "      <td>20</td>\n",
       "    </tr>\n",
       "    <tr>\n",
       "      <td>2018-03-01 00:40:00</td>\n",
       "      <td>32</td>\n",
       "    </tr>\n",
       "  </tbody>\n",
       "</table>\n",
       "</div>"
      ],
      "text/plain": [
       "                     num_orders\n",
       "datetime                       \n",
       "2018-03-01 00:00:00           9\n",
       "2018-03-01 00:10:00          14\n",
       "2018-03-01 00:20:00          28\n",
       "2018-03-01 00:30:00          20\n",
       "2018-03-01 00:40:00          32"
      ]
     },
     "execution_count": 5,
     "metadata": {},
     "output_type": "execute_result"
    }
   ],
   "source": [
    "df = pd.read_csv('/datasets/taxi.csv', parse_dates=[0], index_col=[0])\n",
    "df.head()"
   ]
  },
  {
   "cell_type": "code",
   "execution_count": 6,
   "metadata": {},
   "outputs": [],
   "source": [
    "# Sort values chronologically\n",
    "df.sort_index(inplace=True)"
   ]
  },
  {
   "cell_type": "code",
   "execution_count": 7,
   "metadata": {},
   "outputs": [
    {
     "name": "stdout",
     "output_type": "stream",
     "text": [
      "<class 'pandas.core.frame.DataFrame'>\n",
      "DatetimeIndex: 26496 entries, 2018-03-01 00:00:00 to 2018-08-31 23:50:00\n",
      "Data columns (total 1 columns):\n",
      "num_orders    26496 non-null int64\n",
      "dtypes: int64(1)\n",
      "memory usage: 414.0 KB\n"
     ]
    }
   ],
   "source": [
    "df.info()"
   ]
  },
  {
   "cell_type": "markdown",
   "metadata": {},
   "source": [
    "The data contains information for a period of six months between the dates March 2018 to August 2018."
   ]
  },
  {
   "cell_type": "code",
   "execution_count": 8,
   "metadata": {},
   "outputs": [
    {
     "data": {
      "text/plain": [
       "0"
      ]
     },
     "execution_count": 8,
     "metadata": {},
     "output_type": "execute_result"
    }
   ],
   "source": [
    "# Check duplicates\n",
    "df.index.duplicated().sum()"
   ]
  },
  {
   "cell_type": "code",
   "execution_count": 9,
   "metadata": {},
   "outputs": [],
   "source": [
    "# Resmaple the intervals to 1H and sum up the values in the group \n",
    "df = df.resample('1H').sum()"
   ]
  },
  {
   "cell_type": "code",
   "execution_count": 10,
   "metadata": {},
   "outputs": [
    {
     "data": {
      "text/html": [
       "<div>\n",
       "<style scoped>\n",
       "    .dataframe tbody tr th:only-of-type {\n",
       "        vertical-align: middle;\n",
       "    }\n",
       "\n",
       "    .dataframe tbody tr th {\n",
       "        vertical-align: top;\n",
       "    }\n",
       "\n",
       "    .dataframe thead th {\n",
       "        text-align: right;\n",
       "    }\n",
       "</style>\n",
       "<table border=\"1\" class=\"dataframe\">\n",
       "  <thead>\n",
       "    <tr style=\"text-align: right;\">\n",
       "      <th></th>\n",
       "      <th>num_orders</th>\n",
       "    </tr>\n",
       "  </thead>\n",
       "  <tbody>\n",
       "    <tr>\n",
       "      <td>count</td>\n",
       "      <td>4416.000000</td>\n",
       "    </tr>\n",
       "    <tr>\n",
       "      <td>mean</td>\n",
       "      <td>84.422781</td>\n",
       "    </tr>\n",
       "    <tr>\n",
       "      <td>std</td>\n",
       "      <td>45.023853</td>\n",
       "    </tr>\n",
       "    <tr>\n",
       "      <td>min</td>\n",
       "      <td>0.000000</td>\n",
       "    </tr>\n",
       "    <tr>\n",
       "      <td>25%</td>\n",
       "      <td>54.000000</td>\n",
       "    </tr>\n",
       "    <tr>\n",
       "      <td>50%</td>\n",
       "      <td>78.000000</td>\n",
       "    </tr>\n",
       "    <tr>\n",
       "      <td>75%</td>\n",
       "      <td>107.000000</td>\n",
       "    </tr>\n",
       "    <tr>\n",
       "      <td>max</td>\n",
       "      <td>462.000000</td>\n",
       "    </tr>\n",
       "  </tbody>\n",
       "</table>\n",
       "</div>"
      ],
      "text/plain": [
       "        num_orders\n",
       "count  4416.000000\n",
       "mean     84.422781\n",
       "std      45.023853\n",
       "min       0.000000\n",
       "25%      54.000000\n",
       "50%      78.000000\n",
       "75%     107.000000\n",
       "max     462.000000"
      ]
     },
     "execution_count": 10,
     "metadata": {},
     "output_type": "execute_result"
    }
   ],
   "source": [
    "df.describe()"
   ]
  },
  {
   "cell_type": "markdown",
   "metadata": {},
   "source": [
    "The data is ready for analysis because the time interval is an hour, there are no duplicate values, and there are no missing values. In most valus, the average travels per hour is between 50 and 100 orders per hour and now is the time to check how the data is distributed over time, and what is its trend."
   ]
  },
  {
   "cell_type": "markdown",
   "metadata": {},
   "source": [
    "## Analysis"
   ]
  },
  {
   "cell_type": "markdown",
   "metadata": {},
   "source": [
    "### General analysis"
   ]
  },
  {
   "cell_type": "code",
   "execution_count": 11,
   "metadata": {},
   "outputs": [
    {
     "data": {
      "image/png": "[encoded data removed]",
      "text/plain": [
       "<Figure size 432x288 with 1 Axes>"
      ]
     },
     "metadata": {
      "needs_background": "light"
     },
     "output_type": "display_data"
    }
   ],
   "source": [
    "# General distibution of orders over time\n",
    "df.plot();"
   ]
  },
  {
   "cell_type": "markdown",
   "metadata": {},
   "source": [
    "The data looks generally stationary with a slight upward trend towards summer"
   ]
  },
  {
   "cell_type": "code",
   "execution_count": 12,
   "metadata": {},
   "outputs": [
    {
     "data": {
      "image/png": "[encoded data removed]",
      "text/plain": [
       "<Figure size 432x288 with 1 Axes>"
      ]
     },
     "metadata": {
      "needs_background": "light"
     },
     "output_type": "display_data"
    }
   ],
   "source": [
    "# Check the rolling mean\n",
    "df1 = df.copy()\n",
    "df1['rolling_mean'] = df1.num_orders.rolling(30).mean()\n",
    "df1['rolling_std'] = df1.num_orders.rolling(30).std()\n",
    "df1.plot();"
   ]
  },
  {
   "cell_type": "markdown",
   "metadata": {},
   "source": [
    "The rolling mean (the greater its value) shows the trend of the data, it can be seen that it is relatively constant over time with a slight increase towards the summer. This means that the average does change over time and therefore the data is not so stationary"
   ]
  },
  {
   "cell_type": "code",
   "execution_count": 13,
   "metadata": {},
   "outputs": [
    {
     "data": {
      "image/png": "[encoded data removed]",
      "text/plain": [
       "<Figure size 432x288 with 1 Axes>"
      ]
     },
     "metadata": {
      "needs_background": "light"
     },
     "output_type": "display_data"
    }
   ],
   "source": [
    "# Check the seasonality for two days\n",
    "df['2018-03-01':'2018-03-02'].plot();"
   ]
  },
  {
   "cell_type": "markdown",
   "metadata": {},
   "source": [
    "There is a certain recurrence of the total orders for the day and night. When during the day there is an increase in the number of orders and during the night there is a drop in the number of orders."
   ]
  },
  {
   "cell_type": "code",
   "execution_count": 14,
   "metadata": {},
   "outputs": [
    {
     "data": {
      "image/png": "[encoded data removed]",
      "text/plain": [
       "<Figure size 432x576 with 3 Axes>"
      ]
     },
     "metadata": {
      "needs_background": "light"
     },
     "output_type": "display_data"
    }
   ],
   "source": [
    "# Trend and Seasonality\n",
    "decompose = seasonal_decompose(df)\n",
    "\n",
    "plt.figure(figsize=(6, 8))\n",
    "\n",
    "# Graph fot trend\n",
    "plt.subplot(311) # Arranging the graph in spatial\n",
    "decompose.trend.plot(ax = plt.gca()) #\n",
    "plt.title('Trend')\n",
    "\n",
    "# Graph for seasonality\n",
    "plt.subplot(312)\n",
    "decompose.seasonal[0:720].plot(ax = plt.gca())\n",
    "plt.title('Seasonality')\n",
    "\n",
    "# Graph for residual \n",
    "plt.subplot(313)\n",
    "decompose.resid.plot(ax = plt.gca())\n",
    "plt.title('Residuals')\n",
    "\n",
    "plt.tight_layout()"
   ]
  },
  {
   "cell_type": "markdown",
   "metadata": {},
   "source": [
    "Using seasonal_decompose it can be see the trend, the seasonality and the residuals. As we have already written, there is indeed a slight upward trend towards the summer in the total orders but in general the total orders are quite constant over time. In terms of seasonality, there is a recurrence in the total orders, and from a monthly check (24 * 30) as shown in the graph, a significant recurrence can be seen. The residuals are basically the differences between the original values and trend and seasonality."
   ]
  },
  {
   "cell_type": "code",
   "execution_count": 15,
   "metadata": {},
   "outputs": [
    {
     "data": {
      "image/png": "[encoded data removed]",
      "text/plain": [
       "<Figure size 432x288 with 1 Axes>"
      ]
     },
     "metadata": {
      "needs_background": "light"
     },
     "output_type": "display_data"
    },
    {
     "data": {
      "image/png": "[encoded data removed]",
      "text/plain": [
       "<Figure size 432x288 with 1 Axes>"
      ]
     },
     "metadata": {
      "needs_background": "light"
     },
     "output_type": "display_data"
    }
   ],
   "source": [
    "plot_acf(df);\n",
    "plot_pacf(df);"
   ]
  },
  {
   "cell_type": "markdown",
   "metadata": {},
   "source": [
    "According to the graphs it is not possible to unambiguously determine the type of data (stationary) since sometimes there is a gradual decrease and sometimes there are sharp changes. It is therefore necessary to test this using the ADF test"
   ]
  },
  {
   "cell_type": "markdown",
   "metadata": {},
   "source": [
    "### Check the stationary "
   ]
  },
  {
   "cell_type": "markdown",
   "metadata": {},
   "source": [
    "A stationary process is a stochastic process in which the density of the joint split does not change with time shift. We will check if the data is stationary using the Augmented Dickey Fuller test. In this test we can define the null hypothesis where a time series is not stationary so if p-value is less than the significant level we can reject a null hypothesis and say that the data is stationary.\n",
    "\n",
    "alpha = 0.05\n",
    "\n",
    "* H0: the data is non-stationary\n",
    "* H1: the data is stationary"
   ]
  },
  {
   "cell_type": "code",
   "execution_count": 16,
   "metadata": {},
   "outputs": [
    {
     "name": "stdout",
     "output_type": "stream",
     "text": [
      "ADF Statistic: -3.068924\n",
      "p-value: 0.028940\n"
     ]
    }
   ],
   "source": [
    "result = adfuller(df.num_orders)\n",
    "print('ADF Statistic: %f' % result[0])\n",
    "print('p-value: %f' % result[1])"
   ]
  },
  {
   "cell_type": "markdown",
   "metadata": {},
   "source": [
    "According to the result obtained, the null hypothesis can be rejected, the data is considered stationary even though the negative value of ADF is relatively low and indicates that the data is not stationary at 100%. We will examine the ADF around a deterministic trend (the range of the test set where the increase begins) and see if the data is stationary even then."
   ]
  },
  {
   "cell_type": "code",
   "execution_count": 17,
   "metadata": {},
   "outputs": [
    {
     "name": "stdout",
     "output_type": "stream",
     "text": [
      "ADF Statistic: -1.783860\n",
      "p-value: 0.388504\n"
     ]
    }
   ],
   "source": [
    "result = adfuller(df.num_orders[3000:])\n",
    "print('ADF Statistic: %f' % result[0])\n",
    "print('p-value: %f' % result[1])"
   ]
  },
  {
   "cell_type": "markdown",
   "metadata": {},
   "source": [
    "Here it can already be seen that the data is non-stationary and this means that the data should be treated as non-stationary in the construction of the model"
   ]
  },
  {
   "cell_type": "markdown",
   "metadata": {},
   "source": [
    "## Trainig"
   ]
  },
  {
   "cell_type": "markdown",
   "metadata": {},
   "source": [
    "### Dummy model"
   ]
  },
  {
   "cell_type": "code",
   "execution_count": 18,
   "metadata": {},
   "outputs": [],
   "source": [
    "# Create training and test sets without shuffle in order to maintain the order of the data\n",
    "train, test = train_test_split(df, shuffle=False, test_size=0.1) "
   ]
  },
  {
   "cell_type": "code",
   "execution_count": 19,
   "metadata": {},
   "outputs": [
    {
     "name": "stdout",
     "output_type": "stream",
     "text": [
      "RMSE for dummy model with constant = 87.15277582981295\n"
     ]
    }
   ],
   "source": [
    "# All the values in test set predict as constant number\n",
    "pred_mdeian = np.ones(test.shape) * train.num_orders.median()\n",
    "rmse_dm = sqrt(mean_squared_error(test.num_orders, pred_mdeian))\n",
    "print('RMSE for dummy model with constant =', rmse_dm)"
   ]
  },
  {
   "cell_type": "code",
   "execution_count": 20,
   "metadata": {},
   "outputs": [
    {
     "data": {
      "image/png": "[encoded data removed]",
      "text/plain": [
       "<Figure size 1200x500 with 1 Axes>"
      ]
     },
     "metadata": {
      "needs_background": "light"
     },
     "output_type": "display_data"
    }
   ],
   "source": [
    "my_list = map(lambda x: x[0], pred_mdeian)\n",
    "fc_series = pd.Series(my_list, index=test.index)\n",
    "\n",
    "# Plot\n",
    "plt.figure(figsize=(12,5), dpi=100)\n",
    "plt.plot(train[3500:], label='training')\n",
    "plt.plot(test, label='actual')\n",
    "plt.plot(fc_series, label='forecast')\n",
    "plt.title('Forecast vs Actuals in Dummy Model with constant')\n",
    "plt.legend(loc='upper left', fontsize=8)\n",
    "plt.show()"
   ]
  },
  {
   "cell_type": "code",
   "execution_count": 21,
   "metadata": {},
   "outputs": [
    {
     "name": "stdout",
     "output_type": "stream",
     "text": [
      "RMSE for dummy model with prediction previous value = 58.856486242815066\n"
     ]
    }
   ],
   "source": [
    "pred_previous = test.shift()\n",
    "pred_previous.iloc[0] = train.iloc[-1]\n",
    "rmse_dm = sqrt(mean_squared_error(test.num_orders, pred_previous))\n",
    "print('RMSE for dummy model with prediction previous value =', rmse_dm)"
   ]
  },
  {
   "cell_type": "code",
   "execution_count": 22,
   "metadata": {},
   "outputs": [
    {
     "data": {
      "image/png": "[encoded data removed]",
      "text/plain": [
       "<Figure size 1200x500 with 1 Axes>"
      ]
     },
     "metadata": {
      "needs_background": "light"
     },
     "output_type": "display_data"
    }
   ],
   "source": [
    "# Plot\n",
    "plt.figure(figsize=(12,5), dpi=100)\n",
    "plt.plot(train[3500:], label='training')\n",
    "plt.plot(test, label='actual')\n",
    "plt.plot(pred_previous, label='forecast')\n",
    "plt.title('Forecast vs Actuals in Dummy Model with prediction previous value')\n",
    "plt.legend(loc='upper left', fontsize=8)\n",
    "plt.show()"
   ]
  },
  {
   "cell_type": "markdown",
   "metadata": {},
   "source": [
    "### ARIMA"
   ]
  },
  {
   "cell_type": "code",
   "execution_count": 23,
   "metadata": {},
   "outputs": [
    {
     "name": "stdout",
     "output_type": "stream",
     "text": [
      "Performing stepwise search to minimize aic\n",
      " ARIMA(2,0,2)(1,0,1)[24] intercept   : AIC=8698.474, Time=104.21 sec\n",
      " ARIMA(0,0,0)(0,0,0)[24] intercept   : AIC=9597.990, Time=0.02 sec\n",
      " ARIMA(1,0,0)(1,0,0)[24] intercept   : AIC=8998.184, Time=31.99 sec\n",
      " ARIMA(0,0,1)(0,0,1)[24] intercept   : AIC=9209.755, Time=19.98 sec\n",
      " ARIMA(0,0,0)(0,0,0)[24]             : AIC=11163.386, Time=0.01 sec\n",
      " ARIMA(2,0,2)(0,0,1)[24] intercept   : AIC=9106.217, Time=77.68 sec\n",
      " ARIMA(2,0,2)(1,0,0)[24] intercept   : AIC=inf, Time=72.30 sec\n",
      " ARIMA(2,0,2)(2,0,1)[24] intercept   : AIC=inf, Time=142.83 sec\n",
      " ARIMA(2,0,2)(1,0,2)[24] intercept   : AIC=inf, Time=131.60 sec\n",
      " ARIMA(2,0,2)(0,0,0)[24] intercept   : AIC=9273.680, Time=2.77 sec\n",
      " ARIMA(2,0,2)(0,0,2)[24] intercept   : AIC=8974.274, Time=109.43 sec\n",
      " ARIMA(2,0,2)(2,0,0)[24] intercept   : AIC=inf, Time=105.50 sec\n",
      " ARIMA(2,0,2)(2,0,2)[24] intercept   : AIC=inf, Time=160.40 sec\n",
      " ARIMA(1,0,2)(1,0,1)[24] intercept   : AIC=inf, Time=88.27 sec\n",
      " ARIMA(2,0,1)(1,0,1)[24] intercept   : AIC=inf, Time=70.80 sec\n",
      " ARIMA(3,0,2)(1,0,1)[24] intercept   : AIC=inf, Time=99.60 sec\n",
      " ARIMA(2,0,3)(1,0,1)[24] intercept   : AIC=inf, Time=89.70 sec\n",
      " ARIMA(1,0,1)(1,0,1)[24] intercept   : AIC=inf, Time=48.80 sec\n",
      " ARIMA(1,0,3)(1,0,1)[24] intercept   : AIC=inf, Time=82.90 sec\n",
      " ARIMA(3,0,1)(1,0,1)[24] intercept   : AIC=inf, Time=93.00 sec\n",
      " ARIMA(3,0,3)(1,0,1)[24] intercept   : AIC=inf, Time=121.50 sec\n",
      " ARIMA(2,0,2)(1,0,1)[24]             : AIC=inf, Time=37.60 sec\n",
      "\n",
      "Best model:  ARIMA(2,0,2)(1,0,1)[24] intercept\n",
      "Total fit time: 1690.935 seconds\n"
     ]
    }
   ],
   "source": [
    "# Check the values of hyperparameters for tuning ARIMA model using auto arima\n",
    "train_1 = train.copy()\n",
    "train_1 = train_1.astype('uint8')\n",
    "train_1 = train_1[:1000]\n",
    "stepwis_fit = auto_arima(train_1, trace=True, seasonality=True, suppress_warning=True, m=24)"
   ]
  },
  {
   "cell_type": "markdown",
   "metadata": {},
   "source": [
    "Since the data is large, it is not possible to put it all for testing in auto_arima and therefore the values it will give will not be good enough to get the best score. The data is not so stationary in the test range and therefore it was determined that m = 1, and in general in order to improve the score I increased by 1 what auto_arima offers."
   ]
  },
  {
   "cell_type": "code",
   "execution_count": 24,
   "metadata": {},
   "outputs": [
    {
     "data": {
      "image/png": "[encoded data removed]",
      "text/plain": [
       "<Figure size 1200x500 with 1 Axes>"
      ]
     },
     "metadata": {
      "needs_background": "light"
     },
     "output_type": "display_data"
    }
   ],
   "source": [
    "# Build Model\n",
    "model = ARIMA(train, order=(3,1,1), seasonal_order=(2,0,1,24))  \n",
    "fit = model.fit()  \n",
    "\n",
    "# Forecast\n",
    "forecast = fit.forecast(443, alpha=0.05) \n",
    "\n",
    "# Make as pandas series\n",
    "fc_series = pd.Series(forecast, index=test.index)\n",
    "\n",
    "# Plot\n",
    "plt.figure(figsize=(12,5), dpi=100)\n",
    "plt.plot(train[3500:], label='training')\n",
    "plt.plot(test, label='actual')\n",
    "plt.plot(fc_series, label='forecast')\n",
    "plt.title('Forecast vs Actuals im ARIMA model')\n",
    "plt.legend(loc='upper left', fontsize=8)\n",
    "plt.show()"
   ]
  },
  {
   "cell_type": "code",
   "execution_count": 25,
   "metadata": {},
   "outputs": [],
   "source": [
    "fc_series = pd.Series(forecast, index=test.index)"
   ]
  },
  {
   "cell_type": "code",
   "execution_count": 26,
   "metadata": {},
   "outputs": [
    {
     "name": "stdout",
     "output_type": "stream",
     "text": [
      "RMSE for forecast ARIMA model = 41.77758370029496\n"
     ]
    }
   ],
   "source": [
    "rmse_am = sqrt(mean_squared_error(test.num_orders, fc_series))\n",
    "print('RMSE for forecast ARIMA model =', rmse_am)"
   ]
  },
  {
   "cell_type": "markdown",
   "metadata": {},
   "source": [
    "**Model with prediction**"
   ]
  },
  {
   "cell_type": "code",
   "execution_count": 27,
   "metadata": {},
   "outputs": [],
   "source": [
    "# Build Model with train set to predict the test set \n",
    "model_ar = ARIMA(train, order=(3,1,1), seasonal_order=(2,0,1,24)) \n",
    "model_ar = model_ar.fit() \n",
    "pred_test = model_ar.predict(start=test.index[0], end=test.index[-1], type='levels')"
   ]
  },
  {
   "cell_type": "code",
   "execution_count": 28,
   "metadata": {},
   "outputs": [
    {
     "name": "stdout",
     "output_type": "stream",
     "text": [
      "RMSE for predict ARIMA model = 41.77758370029496\n"
     ]
    }
   ],
   "source": [
    "rmse_am = sqrt(mean_squared_error(test.num_orders, pred_test))\n",
    "print('RMSE for predict ARIMA model =', rmse_am)"
   ]
  },
  {
   "cell_type": "code",
   "execution_count": 29,
   "metadata": {},
   "outputs": [],
   "source": [
    "# Build Model with df set to forcast the next hour\n",
    "model_arf = ARIMA(df, order=(2,0,1), seasonal_order=(1,0,1,24)) \n",
    "model_arf = model_arf.fit() \n",
    "pred_test = model_arf.predict(start=test.index[0], end=test.index[-1], type='levels')\n",
    "forecast = model_arf.forecast(2, alpha=0.05)"
   ]
  },
  {
   "cell_type": "code",
   "execution_count": 30,
   "metadata": {},
   "outputs": [
    {
     "data": {
      "text/plain": [
       "2018-09-01 00:00:00    245.189925\n",
       "2018-09-01 01:00:00    200.232340\n",
       "Freq: H, Name: predicted_mean, dtype: float64"
      ]
     },
     "execution_count": 30,
     "metadata": {},
     "output_type": "execute_result"
    }
   ],
   "source": [
    "forecast"
   ]
  },
  {
   "cell_type": "code",
   "execution_count": 31,
   "metadata": {},
   "outputs": [
    {
     "name": "stdout",
     "output_type": "stream",
     "text": [
      "RMSE for predict ARIMA model = 38.856335725982646\n"
     ]
    }
   ],
   "source": [
    "rmse_am = sqrt(mean_squared_error(test.num_orders, pred_test))\n",
    "print('RMSE for predict ARIMA model =', rmse_am)"
   ]
  },
  {
   "cell_type": "code",
   "execution_count": 32,
   "metadata": {},
   "outputs": [
    {
     "data": {
      "image/png": "[encoded data removed]",
      "text/plain": [
       "<Figure size 1200x500 with 1 Axes>"
      ]
     },
     "metadata": {
      "needs_background": "light"
     },
     "output_type": "display_data"
    }
   ],
   "source": [
    "plt.figure(figsize=(12,5), dpi=100)\n",
    "plt.plot(df['2018-08-31'], label='actual')\n",
    "plt.plot(forecast, label='forecast')\n",
    "plt.title('Actuals and Forecast the next hour im ARIMA model')\n",
    "plt.legend(loc='upper left', fontsize=8)\n",
    "plt.show()"
   ]
  },
  {
   "cell_type": "code",
   "execution_count": 33,
   "metadata": {},
   "outputs": [],
   "source": [
    "def make_features(data, max_lag, rolling_mean_size):\n",
    "    data['year'] = data.index.year\n",
    "    data['month'] = data.index.month\n",
    "    data['day'] = data.index.day\n",
    "    data['dayofweek'] = data.index.dayofweek\n",
    "    data['hour'] = data.index.hour\n",
    "    \n",
    "    for lag in range(1, max_lag + 1):\n",
    "        data['lag_{}'.format(lag)] = data['num_orders'].shift(lag)\n",
    "       \n",
    "    data['rolling_mean'] = data['num_orders'].shift().rolling(rolling_mean_size).mean()"
   ]
  },
  {
   "cell_type": "markdown",
   "metadata": {},
   "source": [
    "### LinearRegression with creating features"
   ]
  },
  {
   "cell_type": "code",
   "execution_count": 34,
   "metadata": {},
   "outputs": [],
   "source": [
    "train, test = train_test_split(df, shuffle=False, test_size=0.1)"
   ]
  },
  {
   "cell_type": "code",
   "execution_count": 35,
   "metadata": {},
   "outputs": [
    {
     "name": "stdout",
     "output_type": "stream",
     "text": [
      "i = 2 | RMSE for LinearRegression model = 31.536670551190838\n",
      "i = 6 | RMSE for LinearRegression model = 31.53457364610562\n",
      "i = 10 | RMSE for LinearRegression model = 31.531047573229944\n",
      "i = 14 | RMSE for LinearRegression model = 31.267952317802393\n",
      "i = 18 | RMSE for LinearRegression model = 31.092836549080765\n",
      "i = 22 | RMSE for LinearRegression model = 30.270900408958937\n",
      "i = 26 | RMSE for LinearRegression model = 26.781610450262427\n",
      "i = 30 | RMSE for LinearRegression model = 26.43512061507828\n",
      "i = 34 | RMSE for LinearRegression model = 26.551894790253062\n",
      "i = 38 | RMSE for LinearRegression model = 26.69837791862907\n",
      "i = 42 | RMSE for LinearRegression model = 27.01485454379958\n",
      "i = 46 | RMSE for LinearRegression model = 26.67024034894468\n",
      "i = 50 | RMSE for LinearRegression model = 24.91149421998408\n",
      "i = 54 | RMSE for LinearRegression model = 24.98202591358181\n",
      "i = 58 | RMSE for LinearRegression model = 25.044062898236785\n",
      "i = 62 | RMSE for LinearRegression model = 25.189208348887007\n",
      "i = 66 | RMSE for LinearRegression model = 25.42995439954521\n",
      "i = 70 | RMSE for LinearRegression model = 25.582987996850722\n",
      "i = 74 | RMSE for LinearRegression model = 28.457835764046234\n"
     ]
    }
   ],
   "source": [
    "train1 = train.copy()\n",
    "for i in range(2, 75, 4):\n",
    "    make_features(train1, i, i)\n",
    "    train1.dropna(inplace=True)\n",
    "    X_train = train1.drop('num_orders', axis=1)\n",
    "    y_train = train1['num_orders']\n",
    "    \n",
    "    model = LinearRegression().fit(X_train, y_train)\n",
    "    cv_score = cross_validate(model, X_train, y_train, cv=TimeSeriesSplit(), scoring=\"neg_root_mean_squared_error\")\n",
    "    mean_cv = abs(cv_score['test_score'].mean())\n",
    "    print('i =', i, '| RMSE for LinearRegression model =', mean_cv)"
   ]
  },
  {
   "cell_type": "markdown",
   "metadata": {},
   "source": [
    "The best RMSE was obtained when i = 50, now we test the data with i=50"
   ]
  },
  {
   "cell_type": "code",
   "execution_count": 36,
   "metadata": {},
   "outputs": [
    {
     "name": "stdout",
     "output_type": "stream",
     "text": [
      "RMSE of LinearRegression model for test set = 43.46182834908472\n"
     ]
    }
   ],
   "source": [
    "train2 = train.copy()\n",
    "make_features(train2, 50, 50)\n",
    "train2.dropna(inplace=True)\n",
    "X_train = train2.drop('num_orders', axis=1)\n",
    "y_train = train2['num_orders']\n",
    "\n",
    "test1 = test.copy()\n",
    "make_features(test1, 50, 50)\n",
    "test1.dropna(inplace=True)\n",
    "X_test = test1.drop('num_orders', axis=1)\n",
    "y_test = test1['num_orders']\n",
    "\n",
    "model = LinearRegression().fit(X_train, y_train)\n",
    "test_pred = model.predict(X_test)\n",
    "\n",
    "rmse_lr = sqrt(mean_squared_error(test[-test_pred.shape[0]:], test_pred))\n",
    "print('RMSE of LinearRegression model for test set =', rmse_lr)"
   ]
  },
  {
   "cell_type": "code",
   "execution_count": 40,
   "metadata": {},
   "outputs": [],
   "source": [
    "# Forecast the next hour with shift of the last value in the test set\n",
    "\n",
    "# Select the last 50 values from test set (since the lag=50)\n",
    "f = test[-50:]\n",
    "\n",
    "# Replicate the last value\n",
    "f1 = f.append(f[-1:])\n",
    "\n",
    "# Set the index for the new data set\n",
    "idx = pd.date_range('2018-08-29 21:00:00', periods=51, freq=\"H\")\n",
    "f1.set_index(idx, inplace=True)\n",
    "\n",
    "# Make features\n",
    "make_features(f1, 50, 50)\n",
    "f1.drop('num_orders', axis=1, inplace=True)\n",
    "\n",
    "# Forcast the last value (the next hour)\n",
    "f1_forcast = model.predict(f1[-1:])"
   ]
  },
  {
   "cell_type": "code",
   "execution_count": 41,
   "metadata": {},
   "outputs": [
    {
     "data": {
      "text/plain": [
       "2018-09-01    215.569352\n",
       "Freq: H, dtype: float64"
      ]
     },
     "execution_count": 41,
     "metadata": {},
     "output_type": "execute_result"
    }
   ],
   "source": [
    "idx = pd.date_range('2018-09-01 00:00:00', periods=1, freq=\"H\")\n",
    "fc_series = pd.Series(f1_forcast, index=idx)\n",
    "fc_series"
   ]
  },
  {
   "cell_type": "code",
   "execution_count": 42,
   "metadata": {},
   "outputs": [
    {
     "data": {
      "image/png": "[encoded data removed]",
      "text/plain": [
       "<Figure size 1200x500 with 1 Axes>"
      ]
     },
     "metadata": {
      "needs_background": "light"
     },
     "output_type": "display_data"
    }
   ],
   "source": [
    "pred = pd.Series(test_pred, index=test[-test_pred.shape[0]:].index)\n",
    "plt.figure(figsize=(12,5), dpi=100)\n",
    "plt.plot(test['2018-08-31'], label='actual')\n",
    "plt.plot(pred['2018-08-31'], label='predict')\n",
    "plt.plot(fc_series, label='forecast', markersize=80)\n",
    "plt.title('Predict vs Actuals in LinearRegression model')\n",
    "plt.hlines(y=fc_series, xmin=fc_series.index, xmax='2018-09-01 01:00:00', linewidth=2, color='r')\n",
    "plt.legend(loc='upper left', fontsize=8)\n",
    "plt.show()"
   ]
  },
  {
   "cell_type": "markdown",
   "metadata": {},
   "source": [
    "## Conclusion\n",
    "\n",
    "In this project done for Sweet Lift Taxi company the goal is to attract drivers during peak hours so it is necessary to predict the number of future orders. For this purpose, data of several orders were received every 10 minutes from the last six months. We divided the data into one hour intervals and summed the groups between the intervals. According to the information, it could be seen that the data is not so stationary (mostly yes, but towards the summer it has an upward trend that generally makes it non-stationary).\n",
    "\n",
    "Two models and a sanity model were tested. Indeed in general there is a difference in rmse between sanity model and the other two models which indicates that these models will be better than sanity model. \n",
    "\n",
    "In the ARIMA model auto_arima was done to test the best values of hyperparamters, using these hyperparameters we build the model to forcast the next hour. The result obtained 245 orders for the next hour and the rmse obtained was 41. In contrast, in the linear regression model with make features, the best value obtained was for lag = 50 and using it we made a prediction for the test set when the rmse obtained was 43 with a forecast of 215 orders. \n",
    "\n",
    "It can be assumed that since the ARUMA model is more accurate, then its forecast is also more accurate and in any case it is also larger, so potentially it can attract more drivers to enlist in the company."
   ]
  },
  {
   "cell_type": "code",
   "execution_count": null,
   "metadata": {},
   "outputs": [],
   "source": []
  }
 ],
 "metadata": {
  "ExecuteTimeLog": [
   {
    "duration": 630,
    "start_time": "2021-11-24T19:45:53.694Z"
   },
   {
    "duration": 2,
    "start_time": "2021-11-24T19:45:56.070Z"
   },
   {
    "duration": 33,
    "start_time": "2021-11-24T19:46:29.214Z"
   },
   {
    "duration": 32,
    "start_time": "2021-11-24T19:46:31.086Z"
   },
   {
    "duration": 15,
    "start_time": "2021-11-24T19:46:31.789Z"
   },
   {
    "duration": 53,
    "start_time": "2021-11-24T19:46:51.272Z"
   },
   {
    "duration": 8,
    "start_time": "2021-11-24T19:46:52.960Z"
   },
   {
    "duration": 454,
    "start_time": "2021-11-24T19:49:13.474Z"
   },
   {
    "duration": 4,
    "start_time": "2021-11-24T19:49:16.907Z"
   },
   {
    "duration": 342,
    "start_time": "2021-11-24T19:49:18.800Z"
   },
   {
    "duration": 344,
    "start_time": "2021-11-24T19:49:51.898Z"
   },
   {
    "duration": 41,
    "start_time": "2021-11-24T19:50:39.658Z"
   },
   {
    "duration": 14,
    "start_time": "2021-11-24T19:51:04.858Z"
   },
   {
    "duration": 14,
    "start_time": "2021-11-24T19:52:04.355Z"
   },
   {
    "duration": 8,
    "start_time": "2021-11-24T19:52:14.147Z"
   },
   {
    "duration": 9,
    "start_time": "2021-11-24T19:52:16.787Z"
   },
   {
    "duration": 343,
    "start_time": "2021-11-24T19:52:44.196Z"
   },
   {
    "duration": 270,
    "start_time": "2021-11-24T19:53:29.884Z"
   },
   {
    "duration": 109,
    "start_time": "2021-11-24T19:54:05.605Z"
   },
   {
    "duration": 319,
    "start_time": "2021-11-24T19:54:07.612Z"
   },
   {
    "duration": 567,
    "start_time": "2021-11-24T19:54:36.757Z"
   },
   {
    "duration": 48,
    "start_time": "2021-11-24T19:54:37.326Z"
   },
   {
    "duration": 9,
    "start_time": "2021-11-24T19:54:37.376Z"
   },
   {
    "duration": 355,
    "start_time": "2021-11-24T19:54:37.386Z"
   },
   {
    "duration": 3,
    "start_time": "2021-11-24T19:55:00.557Z"
   },
   {
    "duration": 41,
    "start_time": "2021-11-24T19:55:03.755Z"
   },
   {
    "duration": 6,
    "start_time": "2021-11-24T19:55:10.283Z"
   },
   {
    "duration": 7,
    "start_time": "2021-11-24T19:55:16.105Z"
   },
   {
    "duration": 454,
    "start_time": "2021-11-24T19:55:21.833Z"
   },
   {
    "duration": 7,
    "start_time": "2021-11-24T19:55:25.226Z"
   },
   {
    "duration": 6,
    "start_time": "2021-11-24T19:55:33.763Z"
   },
   {
    "duration": 5,
    "start_time": "2021-11-24T19:56:43.238Z"
   },
   {
    "duration": 4,
    "start_time": "2021-11-24T19:56:46.586Z"
   },
   {
    "duration": 4,
    "start_time": "2021-11-24T19:56:50.955Z"
   },
   {
    "duration": 4,
    "start_time": "2021-11-24T19:57:23.539Z"
   },
   {
    "duration": 362,
    "start_time": "2021-11-24T20:03:53.259Z"
   },
   {
    "duration": 609,
    "start_time": "2021-11-24T20:04:09.538Z"
   },
   {
    "duration": 615,
    "start_time": "2021-11-24T20:04:21.585Z"
   },
   {
    "duration": 622,
    "start_time": "2021-11-24T20:07:03.854Z"
   },
   {
    "duration": 11,
    "start_time": "2021-11-24T20:07:15.005Z"
   },
   {
    "duration": 310,
    "start_time": "2021-11-24T20:07:31.363Z"
   },
   {
    "duration": 617,
    "start_time": "2021-11-24T20:07:39.158Z"
   },
   {
    "duration": 323,
    "start_time": "2021-11-24T20:07:54.281Z"
   },
   {
    "duration": 4,
    "start_time": "2021-11-24T20:25:18.047Z"
   },
   {
    "duration": 9861,
    "start_time": "2021-11-24T20:25:26.290Z"
   },
   {
    "duration": 5,
    "start_time": "2021-11-24T20:26:01.689Z"
   },
   {
    "duration": 19,
    "start_time": "2021-11-24T20:26:04.233Z"
   },
   {
    "duration": 16,
    "start_time": "2021-11-24T20:26:11.824Z"
   },
   {
    "duration": 17,
    "start_time": "2021-11-24T20:26:12.879Z"
   },
   {
    "duration": 841,
    "start_time": "2021-11-24T21:22:32.548Z"
   },
   {
    "duration": 6,
    "start_time": "2021-11-24T21:22:59.070Z"
   },
   {
    "duration": 16,
    "start_time": "2021-11-24T21:28:45.147Z"
   },
   {
    "duration": 15,
    "start_time": "2021-11-24T21:28:55.627Z"
   },
   {
    "duration": 3252,
    "start_time": "2021-11-24T21:29:05.091Z"
   },
   {
    "duration": 5,
    "start_time": "2021-11-24T21:29:35.964Z"
   },
   {
    "duration": 15,
    "start_time": "2021-11-24T21:29:54.963Z"
   },
   {
    "duration": 10,
    "start_time": "2021-11-24T21:30:24.635Z"
   },
   {
    "duration": 8,
    "start_time": "2021-11-24T21:30:29.748Z"
   },
   {
    "duration": 15,
    "start_time": "2021-11-24T21:30:32.005Z"
   },
   {
    "duration": 512,
    "start_time": "2021-11-24T21:30:35.451Z"
   },
   {
    "duration": 906,
    "start_time": "2021-11-24T21:30:55.854Z"
   },
   {
    "duration": 1124,
    "start_time": "2021-11-24T21:32:48.342Z"
   },
   {
    "duration": 863,
    "start_time": "2021-11-24T21:33:46.214Z"
   },
   {
    "duration": 12,
    "start_time": "2021-11-24T21:34:44.616Z"
   },
   {
    "duration": 931,
    "start_time": "2021-11-24T21:34:46.399Z"
   },
   {
    "duration": 5,
    "start_time": "2021-11-24T21:35:02.712Z"
   },
   {
    "duration": 5,
    "start_time": "2021-11-24T21:35:57.103Z"
   },
   {
    "duration": 6,
    "start_time": "2021-11-24T21:36:03.215Z"
   },
   {
    "duration": 5,
    "start_time": "2021-11-24T21:36:13.112Z"
   },
   {
    "duration": 3,
    "start_time": "2021-11-24T21:36:20.880Z"
   },
   {
    "duration": 2,
    "start_time": "2021-11-24T21:36:25.855Z"
   },
   {
    "duration": 4,
    "start_time": "2021-11-24T21:40:07.960Z"
   },
   {
    "duration": 5,
    "start_time": "2021-11-24T21:40:12.738Z"
   },
   {
    "duration": 8,
    "start_time": "2021-11-24T21:43:11.959Z"
   },
   {
    "duration": 783,
    "start_time": "2021-11-24T21:43:50.653Z"
   },
   {
    "duration": 5,
    "start_time": "2021-11-24T21:44:30.071Z"
   },
   {
    "duration": 2,
    "start_time": "2021-11-24T21:44:32.455Z"
   },
   {
    "duration": 2,
    "start_time": "2021-11-24T21:44:33.431Z"
   },
   {
    "duration": 645,
    "start_time": "2021-11-24T21:44:34.799Z"
   },
   {
    "duration": 5,
    "start_time": "2021-11-24T21:46:29.128Z"
   },
   {
    "duration": 345,
    "start_time": "2021-11-24T21:46:31.991Z"
   },
   {
    "duration": 5,
    "start_time": "2021-11-24T21:50:25.676Z"
   },
   {
    "duration": 3,
    "start_time": "2021-11-24T21:50:28.570Z"
   },
   {
    "duration": 3,
    "start_time": "2021-11-24T21:50:30.523Z"
   },
   {
    "duration": 532,
    "start_time": "2021-11-24T21:50:31.491Z"
   },
   {
    "duration": 6,
    "start_time": "2021-11-24T21:50:40.407Z"
   },
   {
    "duration": 3,
    "start_time": "2021-11-24T21:50:41.450Z"
   },
   {
    "duration": 3,
    "start_time": "2021-11-24T21:50:42.386Z"
   },
   {
    "duration": 371,
    "start_time": "2021-11-24T21:50:44.715Z"
   },
   {
    "duration": 4,
    "start_time": "2021-11-24T21:50:56.972Z"
   },
   {
    "duration": 3,
    "start_time": "2021-11-24T21:51:02.267Z"
   },
   {
    "duration": 3,
    "start_time": "2021-11-24T21:51:03.084Z"
   },
   {
    "duration": 913,
    "start_time": "2021-11-24T21:51:04.837Z"
   },
   {
    "duration": 5,
    "start_time": "2021-11-24T21:52:12.587Z"
   },
   {
    "duration": 3,
    "start_time": "2021-11-24T21:52:14.284Z"
   },
   {
    "duration": 3,
    "start_time": "2021-11-24T21:52:15.084Z"
   },
   {
    "duration": 643,
    "start_time": "2021-11-24T21:52:15.886Z"
   },
   {
    "duration": 5,
    "start_time": "2021-11-24T21:54:53.571Z"
   },
   {
    "duration": 3,
    "start_time": "2021-11-24T21:54:56.406Z"
   },
   {
    "duration": 3,
    "start_time": "2021-11-24T21:54:57.357Z"
   },
   {
    "duration": 611,
    "start_time": "2021-11-24T21:54:58.896Z"
   },
   {
    "duration": 5,
    "start_time": "2021-11-24T21:55:11.135Z"
   },
   {
    "duration": 3,
    "start_time": "2021-11-24T21:55:12.247Z"
   },
   {
    "duration": 3,
    "start_time": "2021-11-24T21:55:13.142Z"
   },
   {
    "duration": 700,
    "start_time": "2021-11-24T21:55:14.055Z"
   },
   {
    "duration": 5,
    "start_time": "2021-11-24T21:55:44.605Z"
   },
   {
    "duration": 4,
    "start_time": "2021-11-24T21:55:53.679Z"
   },
   {
    "duration": 4,
    "start_time": "2021-11-24T21:56:19.246Z"
   },
   {
    "duration": 5,
    "start_time": "2021-11-24T21:58:34.257Z"
   },
   {
    "duration": 15,
    "start_time": "2021-11-24T21:59:08.699Z"
   },
   {
    "duration": 3,
    "start_time": "2021-11-24T21:59:49.318Z"
   },
   {
    "duration": 41,
    "start_time": "2021-11-24T21:59:49.323Z"
   },
   {
    "duration": 5,
    "start_time": "2021-11-24T21:59:49.366Z"
   },
   {
    "duration": 12,
    "start_time": "2021-11-24T21:59:49.373Z"
   },
   {
    "duration": 642,
    "start_time": "2021-11-24T21:59:49.386Z"
   },
   {
    "duration": 8,
    "start_time": "2021-11-24T21:59:50.030Z"
   },
   {
    "duration": 280,
    "start_time": "2021-11-24T21:59:50.040Z"
   },
   {
    "duration": 303,
    "start_time": "2021-11-24T21:59:50.322Z"
   },
   {
    "duration": 3,
    "start_time": "2021-11-24T21:59:50.627Z"
   },
   {
    "duration": 38,
    "start_time": "2021-11-24T21:59:50.632Z"
   },
   {
    "duration": 32,
    "start_time": "2021-11-24T21:59:50.671Z"
   },
   {
    "duration": 526,
    "start_time": "2021-11-24T21:59:50.705Z"
   },
   {
    "duration": 4,
    "start_time": "2021-11-24T21:59:51.233Z"
   },
   {
    "duration": 15,
    "start_time": "2021-11-24T21:59:51.239Z"
   },
   {
    "duration": 13,
    "start_time": "2021-11-24T21:59:51.256Z"
   },
   {
    "duration": 34,
    "start_time": "2021-11-24T21:59:51.271Z"
   },
   {
    "duration": 18,
    "start_time": "2021-11-24T21:59:51.307Z"
   },
   {
    "duration": 15,
    "start_time": "2021-11-24T21:59:51.327Z"
   },
   {
    "duration": 646,
    "start_time": "2021-11-24T21:59:51.344Z"
   },
   {
    "duration": -1570,
    "start_time": "2021-11-24T21:59:53.562Z"
   },
   {
    "duration": 3,
    "start_time": "2021-11-24T22:00:09.173Z"
   },
   {
    "duration": 53,
    "start_time": "2021-11-24T22:00:09.178Z"
   },
   {
    "duration": 6,
    "start_time": "2021-11-24T22:00:09.233Z"
   },
   {
    "duration": 14,
    "start_time": "2021-11-24T22:00:09.241Z"
   },
   {
    "duration": 623,
    "start_time": "2021-11-24T22:00:09.257Z"
   },
   {
    "duration": 10,
    "start_time": "2021-11-24T22:00:09.882Z"
   },
   {
    "duration": 369,
    "start_time": "2021-11-24T22:00:09.894Z"
   },
   {
    "duration": 5,
    "start_time": "2021-11-24T22:00:19.128Z"
   },
   {
    "duration": 9,
    "start_time": "2021-11-24T22:00:25.458Z"
   },
   {
    "duration": 3,
    "start_time": "2021-11-24T22:00:33.924Z"
   },
   {
    "duration": 2,
    "start_time": "2021-11-24T22:00:35.067Z"
   },
   {
    "duration": 6,
    "start_time": "2021-11-24T22:00:36.188Z"
   },
   {
    "duration": 3,
    "start_time": "2021-11-24T22:00:38.054Z"
   },
   {
    "duration": 2,
    "start_time": "2021-11-24T22:00:38.794Z"
   },
   {
    "duration": 645,
    "start_time": "2021-11-24T22:00:39.387Z"
   },
   {
    "duration": 360,
    "start_time": "2021-11-24T22:01:52.636Z"
   },
   {
    "duration": 3,
    "start_time": "2021-11-24T22:02:36.766Z"
   },
   {
    "duration": 3,
    "start_time": "2021-11-24T22:02:37.564Z"
   },
   {
    "duration": 5,
    "start_time": "2021-11-24T22:02:38.550Z"
   },
   {
    "duration": 3,
    "start_time": "2021-11-24T22:02:41.878Z"
   },
   {
    "duration": 3,
    "start_time": "2021-11-24T22:02:42.803Z"
   },
   {
    "duration": 614,
    "start_time": "2021-11-24T22:02:43.758Z"
   },
   {
    "duration": 339,
    "start_time": "2021-11-24T22:03:42.051Z"
   },
   {
    "duration": 585,
    "start_time": "2021-11-24T22:04:01.949Z"
   },
   {
    "duration": 613,
    "start_time": "2021-11-24T22:04:08.864Z"
   },
   {
    "duration": 671,
    "start_time": "2021-11-24T22:04:19.598Z"
   },
   {
    "duration": 3,
    "start_time": "2021-11-24T22:04:53.127Z"
   },
   {
    "duration": 612,
    "start_time": "2021-11-24T22:04:58.207Z"
   },
   {
    "duration": 349,
    "start_time": "2021-11-24T22:05:47.173Z"
   },
   {
    "duration": 5,
    "start_time": "2021-11-24T22:06:58.834Z"
   },
   {
    "duration": 2,
    "start_time": "2021-11-24T22:06:59.879Z"
   },
   {
    "duration": 3,
    "start_time": "2021-11-24T22:07:00.527Z"
   },
   {
    "duration": 601,
    "start_time": "2021-11-24T22:07:01.762Z"
   },
   {
    "duration": 4,
    "start_time": "2021-11-24T22:07:19.244Z"
   },
   {
    "duration": 3,
    "start_time": "2021-11-24T22:07:20.335Z"
   },
   {
    "duration": 4,
    "start_time": "2021-11-24T22:07:21.464Z"
   },
   {
    "duration": 861,
    "start_time": "2021-11-24T22:07:22.441Z"
   },
   {
    "duration": 4,
    "start_time": "2021-11-24T22:08:24.306Z"
   },
   {
    "duration": 2,
    "start_time": "2021-11-24T22:08:44.481Z"
   },
   {
    "duration": 3,
    "start_time": "2021-11-24T22:08:46.801Z"
   },
   {
    "duration": 9,
    "start_time": "2021-11-24T22:08:47.616Z"
   },
   {
    "duration": 7,
    "start_time": "2021-11-24T22:08:49.611Z"
   },
   {
    "duration": 3,
    "start_time": "2021-11-24T22:08:54.811Z"
   },
   {
    "duration": 9,
    "start_time": "2021-11-24T22:08:58.376Z"
   },
   {
    "duration": 4,
    "start_time": "2021-11-24T22:09:00.081Z"
   },
   {
    "duration": 8,
    "start_time": "2021-11-24T22:09:04.316Z"
   },
   {
    "duration": 12,
    "start_time": "2021-11-24T22:09:12.778Z"
   },
   {
    "duration": 335,
    "start_time": "2021-11-24T22:09:58.427Z"
   },
   {
    "duration": 696,
    "start_time": "2021-11-24T22:10:10.187Z"
   },
   {
    "duration": 5,
    "start_time": "2021-11-24T22:10:13.147Z"
   },
   {
    "duration": 8,
    "start_time": "2021-11-24T22:10:41.557Z"
   },
   {
    "duration": 2,
    "start_time": "2021-11-24T22:10:59.632Z"
   },
   {
    "duration": 48,
    "start_time": "2021-11-24T22:10:59.636Z"
   },
   {
    "duration": 5,
    "start_time": "2021-11-24T22:10:59.686Z"
   },
   {
    "duration": 9,
    "start_time": "2021-11-24T22:10:59.693Z"
   },
   {
    "duration": 595,
    "start_time": "2021-11-24T22:10:59.703Z"
   },
   {
    "duration": 11,
    "start_time": "2021-11-24T22:11:00.299Z"
   },
   {
    "duration": 276,
    "start_time": "2021-11-24T22:11:00.312Z"
   },
   {
    "duration": 4,
    "start_time": "2021-11-24T22:11:00.590Z"
   },
   {
    "duration": 10,
    "start_time": "2021-11-24T22:11:00.596Z"
   },
   {
    "duration": 14,
    "start_time": "2021-11-24T22:11:00.608Z"
   },
   {
    "duration": 4,
    "start_time": "2021-11-24T22:11:31.496Z"
   },
   {
    "duration": 12,
    "start_time": "2021-11-24T22:11:36.604Z"
   },
   {
    "duration": 464,
    "start_time": "2021-11-24T22:12:02.989Z"
   },
   {
    "duration": 6,
    "start_time": "2021-11-24T22:12:41.814Z"
   },
   {
    "duration": 2,
    "start_time": "2021-11-24T22:13:08.365Z"
   },
   {
    "duration": 7,
    "start_time": "2021-11-24T22:13:26.164Z"
   },
   {
    "duration": 4,
    "start_time": "2021-11-24T22:13:38.709Z"
   },
   {
    "duration": 799,
    "start_time": "2021-11-24T22:13:41.861Z"
   },
   {
    "duration": 2,
    "start_time": "2021-11-24T22:13:50.423Z"
   },
   {
    "duration": 43,
    "start_time": "2021-11-24T22:13:50.427Z"
   },
   {
    "duration": 5,
    "start_time": "2021-11-24T22:13:50.472Z"
   },
   {
    "duration": 7,
    "start_time": "2021-11-24T22:13:50.479Z"
   },
   {
    "duration": 682,
    "start_time": "2021-11-24T22:13:50.488Z"
   },
   {
    "duration": 9,
    "start_time": "2021-11-24T22:13:51.173Z"
   },
   {
    "duration": 287,
    "start_time": "2021-11-24T22:13:51.185Z"
   },
   {
    "duration": 5,
    "start_time": "2021-11-24T22:13:51.474Z"
   },
   {
    "duration": 7,
    "start_time": "2021-11-24T22:13:51.481Z"
   },
   {
    "duration": 17,
    "start_time": "2021-11-24T22:13:51.489Z"
   },
   {
    "duration": 13,
    "start_time": "2021-11-24T22:13:51.508Z"
   },
   {
    "duration": 468,
    "start_time": "2021-11-24T22:13:51.523Z"
   },
   {
    "duration": 6,
    "start_time": "2021-11-24T22:13:51.992Z"
   },
   {
    "duration": 19,
    "start_time": "2021-11-24T22:13:51.999Z"
   },
   {
    "duration": 19,
    "start_time": "2021-11-24T22:13:52.019Z"
   },
   {
    "duration": 4,
    "start_time": "2021-11-24T22:14:01.038Z"
   },
   {
    "duration": 4,
    "start_time": "2021-11-24T22:14:10.317Z"
   },
   {
    "duration": 4,
    "start_time": "2021-11-24T22:14:50.951Z"
   },
   {
    "duration": 15,
    "start_time": "2021-11-24T22:14:56.117Z"
   },
   {
    "duration": 6,
    "start_time": "2021-11-24T22:16:19.635Z"
   },
   {
    "duration": 3,
    "start_time": "2021-11-24T22:16:20.770Z"
   },
   {
    "duration": 3,
    "start_time": "2021-11-24T22:16:21.528Z"
   },
   {
    "duration": 379,
    "start_time": "2021-11-24T22:16:22.449Z"
   },
   {
    "duration": 3,
    "start_time": "2021-11-24T22:16:45.720Z"
   },
   {
    "duration": 332,
    "start_time": "2021-11-24T22:16:47.527Z"
   },
   {
    "duration": 8,
    "start_time": "2021-11-24T22:16:59.136Z"
   },
   {
    "duration": 334,
    "start_time": "2021-11-24T22:17:02.575Z"
   },
   {
    "duration": 9,
    "start_time": "2021-11-24T22:17:06.882Z"
   },
   {
    "duration": 2,
    "start_time": "2021-11-24T22:17:17.432Z"
   },
   {
    "duration": 390,
    "start_time": "2021-11-24T22:17:18.497Z"
   },
   {
    "duration": 6,
    "start_time": "2021-11-24T22:17:43.841Z"
   },
   {
    "duration": 6,
    "start_time": "2021-11-24T22:18:06.627Z"
   },
   {
    "duration": 3,
    "start_time": "2021-11-24T22:18:07.449Z"
   },
   {
    "duration": 3,
    "start_time": "2021-11-24T22:18:08.255Z"
   },
   {
    "duration": 351,
    "start_time": "2021-11-24T22:18:10.042Z"
   },
   {
    "duration": 6,
    "start_time": "2021-11-24T22:19:27.118Z"
   },
   {
    "duration": 3,
    "start_time": "2021-11-24T22:19:28.597Z"
   },
   {
    "duration": 3,
    "start_time": "2021-11-24T22:19:29.402Z"
   },
   {
    "duration": 340,
    "start_time": "2021-11-24T22:19:30.506Z"
   },
   {
    "duration": 3,
    "start_time": "2021-11-24T22:20:01.263Z"
   },
   {
    "duration": 392,
    "start_time": "2021-11-24T22:20:02.483Z"
   },
   {
    "duration": 9,
    "start_time": "2021-11-24T22:20:15.188Z"
   },
   {
    "duration": 6,
    "start_time": "2021-11-24T22:20:23.907Z"
   },
   {
    "duration": 2,
    "start_time": "2021-11-24T22:21:41.448Z"
   },
   {
    "duration": 47,
    "start_time": "2021-11-24T22:21:41.453Z"
   },
   {
    "duration": 7,
    "start_time": "2021-11-24T22:21:41.502Z"
   },
   {
    "duration": 5,
    "start_time": "2021-11-24T22:21:41.512Z"
   },
   {
    "duration": 613,
    "start_time": "2021-11-24T22:21:41.519Z"
   },
   {
    "duration": 10,
    "start_time": "2021-11-24T22:21:42.134Z"
   },
   {
    "duration": 283,
    "start_time": "2021-11-24T22:21:42.147Z"
   },
   {
    "duration": 5,
    "start_time": "2021-11-24T22:21:42.433Z"
   },
   {
    "duration": 7,
    "start_time": "2021-11-24T22:21:42.440Z"
   },
   {
    "duration": 6,
    "start_time": "2021-11-24T22:21:42.449Z"
   },
   {
    "duration": 14,
    "start_time": "2021-11-24T22:21:42.456Z"
   },
   {
    "duration": 512,
    "start_time": "2021-11-24T22:21:42.471Z"
   },
   {
    "duration": 6,
    "start_time": "2021-11-24T22:21:42.985Z"
   },
   {
    "duration": 15,
    "start_time": "2021-11-24T22:21:42.992Z"
   },
   {
    "duration": 7,
    "start_time": "2021-11-24T22:21:43.009Z"
   },
   {
    "duration": 5,
    "start_time": "2021-11-24T22:21:43.017Z"
   },
   {
    "duration": 6,
    "start_time": "2021-11-24T22:21:43.024Z"
   },
   {
    "duration": 10,
    "start_time": "2021-11-24T22:21:43.032Z"
   },
   {
    "duration": 5,
    "start_time": "2021-11-24T22:21:49.115Z"
   },
   {
    "duration": 4,
    "start_time": "2021-11-24T22:21:53.389Z"
   },
   {
    "duration": 4,
    "start_time": "2021-11-24T22:21:58.060Z"
   },
   {
    "duration": 3,
    "start_time": "2021-11-24T22:22:02.560Z"
   },
   {
    "duration": 2,
    "start_time": "2021-11-24T22:22:03.589Z"
   },
   {
    "duration": 6,
    "start_time": "2021-11-24T22:22:05.889Z"
   },
   {
    "duration": 3,
    "start_time": "2021-11-24T22:22:08.726Z"
   },
   {
    "duration": 3,
    "start_time": "2021-11-24T22:22:10.034Z"
   },
   {
    "duration": 700,
    "start_time": "2021-11-24T22:22:13.181Z"
   },
   {
    "duration": 6,
    "start_time": "2021-11-24T22:22:32.726Z"
   },
   {
    "duration": 3,
    "start_time": "2021-11-24T22:22:33.629Z"
   },
   {
    "duration": 3,
    "start_time": "2021-11-24T22:22:34.619Z"
   },
   {
    "duration": 623,
    "start_time": "2021-11-24T22:22:35.485Z"
   },
   {
    "duration": 942,
    "start_time": "2021-11-25T10:42:47.319Z"
   },
   {
    "duration": 49,
    "start_time": "2021-11-25T10:42:50.462Z"
   },
   {
    "duration": 6,
    "start_time": "2021-11-25T10:42:53.924Z"
   },
   {
    "duration": 5,
    "start_time": "2021-11-25T10:42:55.019Z"
   },
   {
    "duration": 716,
    "start_time": "2021-11-25T10:42:55.949Z"
   },
   {
    "duration": 13,
    "start_time": "2021-11-25T10:42:58.700Z"
   },
   {
    "duration": 315,
    "start_time": "2021-11-25T10:42:59.533Z"
   },
   {
    "duration": 4,
    "start_time": "2021-11-25T10:43:38.742Z"
   },
   {
    "duration": 3,
    "start_time": "2021-11-25T10:43:40.214Z"
   },
   {
    "duration": 664,
    "start_time": "2021-11-25T10:44:01.444Z"
   },
   {
    "duration": 508,
    "start_time": "2021-11-25T10:44:16.886Z"
   },
   {
    "duration": 6,
    "start_time": "2021-11-25T10:44:22.350Z"
   },
   {
    "duration": 10,
    "start_time": "2021-11-25T10:44:30.141Z"
   },
   {
    "duration": 621,
    "start_time": "2021-11-25T10:44:34.574Z"
   },
   {
    "duration": 4,
    "start_time": "2021-11-25T10:44:41.893Z"
   },
   {
    "duration": 15,
    "start_time": "2021-11-25T10:44:53.358Z"
   },
   {
    "duration": 16,
    "start_time": "2021-11-25T10:45:03.709Z"
   },
   {
    "duration": 7,
    "start_time": "2021-11-25T10:45:11.381Z"
   },
   {
    "duration": 5,
    "start_time": "2021-11-25T10:45:33.032Z"
   },
   {
    "duration": 5,
    "start_time": "2021-11-25T10:46:18.447Z"
   },
   {
    "duration": 6,
    "start_time": "2021-11-25T10:46:23.591Z"
   },
   {
    "duration": 6,
    "start_time": "2021-11-25T10:47:43.431Z"
   },
   {
    "duration": 813,
    "start_time": "2021-11-25T10:47:55.720Z"
   },
   {
    "duration": 582,
    "start_time": "2021-11-25T10:48:05.715Z"
   },
   {
    "duration": 6,
    "start_time": "2021-11-25T10:48:08.481Z"
   },
   {
    "duration": 679,
    "start_time": "2021-11-25T10:48:25.193Z"
   },
   {
    "duration": 5,
    "start_time": "2021-11-25T10:48:51.601Z"
   },
   {
    "duration": 5,
    "start_time": "2021-11-25T10:48:53.832Z"
   },
   {
    "duration": 410,
    "start_time": "2021-11-25T10:50:38.262Z"
   },
   {
    "duration": 321,
    "start_time": "2021-11-25T10:51:03.099Z"
   },
   {
    "duration": 312,
    "start_time": "2021-11-25T10:51:59.354Z"
   },
   {
    "duration": 295,
    "start_time": "2021-11-25T10:53:06.373Z"
   },
   {
    "duration": 5,
    "start_time": "2021-11-25T10:53:28.323Z"
   },
   {
    "duration": 4,
    "start_time": "2021-11-25T10:53:31.052Z"
   },
   {
    "duration": 5,
    "start_time": "2021-11-25T10:53:35.685Z"
   },
   {
    "duration": 16,
    "start_time": "2021-11-25T10:54:01.005Z"
   },
   {
    "duration": 13,
    "start_time": "2021-11-25T10:54:02.747Z"
   },
   {
    "duration": 8,
    "start_time": "2021-11-25T10:54:07.582Z"
   },
   {
    "duration": 5,
    "start_time": "2021-11-25T10:54:16.160Z"
   },
   {
    "duration": 3,
    "start_time": "2021-11-25T10:54:17.990Z"
   },
   {
    "duration": 2,
    "start_time": "2021-11-25T10:54:19.925Z"
   },
   {
    "duration": 279,
    "start_time": "2021-11-25T10:54:23.775Z"
   },
   {
    "duration": 562,
    "start_time": "2021-11-25T10:54:35.758Z"
   },
   {
    "duration": 6,
    "start_time": "2021-11-25T10:55:12.000Z"
   },
   {
    "duration": 3,
    "start_time": "2021-11-25T10:55:13.119Z"
   },
   {
    "duration": 2,
    "start_time": "2021-11-25T10:55:14.124Z"
   },
   {
    "duration": 586,
    "start_time": "2021-11-25T10:55:15.454Z"
   },
   {
    "duration": 3,
    "start_time": "2021-11-25T10:58:17.312Z"
   },
   {
    "duration": 567,
    "start_time": "2021-11-25T10:58:18.169Z"
   },
   {
    "duration": 149,
    "start_time": "2021-11-25T13:13:42.827Z"
   },
   {
    "duration": 8,
    "start_time": "2021-11-25T13:13:49.195Z"
   },
   {
    "duration": 3,
    "start_time": "2021-11-25T13:13:52.024Z"
   },
   {
    "duration": 2,
    "start_time": "2021-11-25T13:13:54.219Z"
   },
   {
    "duration": 782,
    "start_time": "2021-11-25T13:13:55.340Z"
   },
   {
    "duration": 7,
    "start_time": "2021-11-25T13:15:04.422Z"
   },
   {
    "duration": 3,
    "start_time": "2021-11-25T13:15:05.850Z"
   },
   {
    "duration": 3,
    "start_time": "2021-11-25T13:15:06.674Z"
   },
   {
    "duration": 595,
    "start_time": "2021-11-25T13:15:07.475Z"
   },
   {
    "duration": 6,
    "start_time": "2021-11-25T13:15:23.332Z"
   },
   {
    "duration": 3,
    "start_time": "2021-11-25T13:15:24.906Z"
   },
   {
    "duration": 2,
    "start_time": "2021-11-25T13:15:25.900Z"
   },
   {
    "duration": 691,
    "start_time": "2021-11-25T13:15:26.860Z"
   },
   {
    "duration": 7,
    "start_time": "2021-11-25T13:15:45.604Z"
   },
   {
    "duration": 3,
    "start_time": "2021-11-25T13:15:46.634Z"
   },
   {
    "duration": 6,
    "start_time": "2021-11-25T13:15:50.787Z"
   },
   {
    "duration": 3,
    "start_time": "2021-11-25T13:15:52.203Z"
   },
   {
    "duration": 3,
    "start_time": "2021-11-25T13:15:53.226Z"
   },
   {
    "duration": 605,
    "start_time": "2021-11-25T13:15:54.189Z"
   },
   {
    "duration": 6,
    "start_time": "2021-11-25T13:16:10.934Z"
   },
   {
    "duration": 3,
    "start_time": "2021-11-25T13:16:12.818Z"
   },
   {
    "duration": 2,
    "start_time": "2021-11-25T13:16:13.629Z"
   },
   {
    "duration": 587,
    "start_time": "2021-11-25T13:16:15.668Z"
   },
   {
    "duration": 6,
    "start_time": "2021-11-25T13:16:38.895Z"
   },
   {
    "duration": 6,
    "start_time": "2021-11-25T13:16:43.775Z"
   },
   {
    "duration": 3,
    "start_time": "2021-11-25T13:16:45.522Z"
   },
   {
    "duration": 3,
    "start_time": "2021-11-25T13:16:46.482Z"
   },
   {
    "duration": 740,
    "start_time": "2021-11-25T13:16:47.421Z"
   },
   {
    "duration": 7,
    "start_time": "2021-11-25T13:17:57.013Z"
   },
   {
    "duration": 3,
    "start_time": "2021-11-25T13:17:58.412Z"
   },
   {
    "duration": 3,
    "start_time": "2021-11-25T13:17:59.453Z"
   },
   {
    "duration": 321,
    "start_time": "2021-11-25T13:18:00.390Z"
   },
   {
    "duration": 6,
    "start_time": "2021-11-25T13:18:09.314Z"
   },
   {
    "duration": 6,
    "start_time": "2021-11-25T13:20:05.171Z"
   },
   {
    "duration": 3,
    "start_time": "2021-11-25T13:20:07.677Z"
   },
   {
    "duration": 3,
    "start_time": "2021-11-25T13:20:08.653Z"
   },
   {
    "duration": 275,
    "start_time": "2021-11-25T13:20:09.511Z"
   },
   {
    "duration": 5,
    "start_time": "2021-11-25T13:23:20.507Z"
   },
   {
    "duration": 3,
    "start_time": "2021-11-25T13:23:23.503Z"
   },
   {
    "duration": 3,
    "start_time": "2021-11-25T13:23:24.628Z"
   },
   {
    "duration": 576,
    "start_time": "2021-11-25T13:23:25.232Z"
   },
   {
    "duration": 330,
    "start_time": "2021-11-25T13:23:46.377Z"
   },
   {
    "duration": 404,
    "start_time": "2021-11-25T13:26:34.460Z"
   },
   {
    "duration": 287,
    "start_time": "2021-11-25T13:26:53.563Z"
   },
   {
    "duration": 312,
    "start_time": "2021-11-25T13:26:57.883Z"
   },
   {
    "duration": 278,
    "start_time": "2021-11-25T13:27:04.728Z"
   },
   {
    "duration": 1407,
    "start_time": "2021-11-25T13:27:21.684Z"
   },
   {
    "duration": 294,
    "start_time": "2021-11-25T13:27:32.630Z"
   },
   {
    "duration": 6,
    "start_time": "2021-11-25T13:27:42.195Z"
   },
   {
    "duration": 6,
    "start_time": "2021-11-25T13:30:04.949Z"
   },
   {
    "duration": 635,
    "start_time": "2021-11-25T13:30:23.230Z"
   },
   {
    "duration": 3,
    "start_time": "2021-11-25T13:32:37.333Z"
   },
   {
    "duration": 2,
    "start_time": "2021-11-25T13:32:40.256Z"
   },
   {
    "duration": 604,
    "start_time": "2021-11-25T13:33:05.100Z"
   },
   {
    "duration": 647,
    "start_time": "2021-11-25T13:33:17.347Z"
   },
   {
    "duration": 1320,
    "start_time": "2021-11-25T20:02:45.072Z"
   },
   {
    "duration": 78,
    "start_time": "2021-11-25T20:02:46.395Z"
   },
   {
    "duration": 10,
    "start_time": "2021-11-25T20:02:46.477Z"
   },
   {
    "duration": 6,
    "start_time": "2021-11-25T20:02:46.490Z"
   },
   {
    "duration": 1060,
    "start_time": "2021-11-25T20:02:46.499Z"
   },
   {
    "duration": 18,
    "start_time": "2021-11-25T20:02:47.561Z"
   },
   {
    "duration": 477,
    "start_time": "2021-11-25T20:02:47.581Z"
   },
   {
    "duration": 477,
    "start_time": "2021-11-25T20:03:23.799Z"
   },
   {
    "duration": 217,
    "start_time": "2021-11-25T20:03:26.256Z"
   },
   {
    "duration": 12,
    "start_time": "2021-11-25T20:03:31.945Z"
   },
   {
    "duration": 2395,
    "start_time": "2021-11-25T20:03:41.936Z"
   },
   {
    "duration": 2133,
    "start_time": "2021-11-25T20:04:06.050Z"
   },
   {
    "duration": 2092,
    "start_time": "2021-11-25T20:04:15.867Z"
   },
   {
    "duration": 2398,
    "start_time": "2021-11-25T20:04:26.994Z"
   },
   {
    "duration": 2044,
    "start_time": "2021-11-25T20:04:41.914Z"
   },
   {
    "duration": 765,
    "start_time": "2021-11-25T20:05:10.436Z"
   },
   {
    "duration": 492,
    "start_time": "2021-11-25T20:05:37.627Z"
   },
   {
    "duration": 106,
    "start_time": "2021-11-25T20:07:30.390Z"
   },
   {
    "duration": 154,
    "start_time": "2021-11-25T20:07:36.077Z"
   },
   {
    "duration": 2449,
    "start_time": "2021-11-25T20:07:52.332Z"
   },
   {
    "duration": 428,
    "start_time": "2021-11-25T20:08:16.422Z"
   },
   {
    "duration": 458,
    "start_time": "2021-11-25T20:09:04.630Z"
   },
   {
    "duration": 2774,
    "start_time": "2021-11-25T20:09:56.702Z"
   },
   {
    "duration": 7,
    "start_time": "2021-11-25T20:11:55.249Z"
   },
   {
    "duration": 304,
    "start_time": "2021-11-25T20:12:34.185Z"
   },
   {
    "duration": 6233,
    "start_time": "2021-11-25T20:13:05.794Z"
   },
   {
    "duration": 5116,
    "start_time": "2021-11-25T20:13:49.195Z"
   },
   {
    "duration": 20,
    "start_time": "2021-11-25T20:14:33.745Z"
   },
   {
    "duration": 9,
    "start_time": "2021-11-25T20:14:41.978Z"
   },
   {
    "duration": 6,
    "start_time": "2021-11-25T20:15:00.474Z"
   },
   {
    "duration": 326,
    "start_time": "2021-11-25T20:15:03.347Z"
   },
   {
    "duration": 315,
    "start_time": "2021-11-25T20:16:41.213Z"
   },
   {
    "duration": 6,
    "start_time": "2021-11-25T20:16:59.268Z"
   },
   {
    "duration": 4510,
    "start_time": "2021-11-25T20:17:01.068Z"
   },
   {
    "duration": 5147,
    "start_time": "2021-11-25T20:17:16.614Z"
   },
   {
    "duration": 11,
    "start_time": "2021-11-25T20:18:24.764Z"
   },
   {
    "duration": 11,
    "start_time": "2021-11-25T20:18:42.788Z"
   },
   {
    "duration": 19,
    "start_time": "2021-11-25T20:18:53.018Z"
   },
   {
    "duration": 7,
    "start_time": "2021-11-25T20:20:50.494Z"
   },
   {
    "duration": 4593,
    "start_time": "2021-11-25T20:21:19.097Z"
   },
   {
    "duration": 5343,
    "start_time": "2021-11-25T20:21:36.041Z"
   },
   {
    "duration": 7,
    "start_time": "2021-11-25T20:21:59.294Z"
   },
   {
    "duration": 6549,
    "start_time": "2021-11-25T20:22:07.681Z"
   },
   {
    "duration": 6,
    "start_time": "2021-11-25T20:22:18.576Z"
   },
   {
    "duration": 112546,
    "start_time": "2021-11-25T20:22:24.746Z"
   },
   {
    "duration": 6,
    "start_time": "2021-11-25T20:32:57.014Z"
   },
   {
    "duration": 6180,
    "start_time": "2021-11-25T20:53:51.568Z"
   },
   {
    "duration": 7,
    "start_time": "2021-11-25T20:54:06.593Z"
   },
   {
    "duration": 19930,
    "start_time": "2021-11-25T20:54:12.197Z"
   },
   {
    "duration": 7,
    "start_time": "2021-11-25T20:54:41.944Z"
   },
   {
    "duration": 7161,
    "start_time": "2021-11-25T20:54:47.476Z"
   },
   {
    "duration": 24160,
    "start_time": "2021-11-25T20:55:07.928Z"
   },
   {
    "duration": 6,
    "start_time": "2021-11-25T20:55:38.748Z"
   },
   {
    "duration": 92839,
    "start_time": "2021-11-25T20:55:48.246Z"
   },
   {
    "duration": 6,
    "start_time": "2021-11-25T20:57:37.690Z"
   },
   {
    "duration": 6,
    "start_time": "2021-11-25T20:58:07.382Z"
   },
   {
    "duration": 6,
    "start_time": "2021-11-25T20:58:27.126Z"
   },
   {
    "duration": 15,
    "start_time": "2021-11-25T20:58:31.789Z"
   },
   {
    "duration": 735,
    "start_time": "2021-11-25T20:58:39.780Z"
   },
   {
    "duration": 106858,
    "start_time": "2021-11-25T20:59:18.742Z"
   },
   {
    "duration": 7,
    "start_time": "2021-11-25T21:03:06.530Z"
   },
   {
    "duration": 5,
    "start_time": "2021-11-25T21:03:09.303Z"
   },
   {
    "duration": 711,
    "start_time": "2021-11-25T21:03:12.114Z"
   },
   {
    "duration": 1088,
    "start_time": "2021-11-27T16:15:28.277Z"
   },
   {
    "duration": 45,
    "start_time": "2021-11-27T16:15:32.836Z"
   },
   {
    "duration": 8,
    "start_time": "2021-11-27T16:15:35.821Z"
   },
   {
    "duration": 5,
    "start_time": "2021-11-27T16:15:39.786Z"
   },
   {
    "duration": 675,
    "start_time": "2021-11-27T16:15:46.003Z"
   },
   {
    "duration": 635,
    "start_time": "2021-11-27T16:15:52.227Z"
   },
   {
    "duration": 39,
    "start_time": "2021-11-27T16:17:59.176Z"
   },
   {
    "duration": 3,
    "start_time": "2021-11-27T16:18:24.270Z"
   },
   {
    "duration": 6,
    "start_time": "2021-11-27T16:18:25.958Z"
   },
   {
    "duration": 4,
    "start_time": "2021-11-27T16:18:28.589Z"
   },
   {
    "duration": 594,
    "start_time": "2021-11-27T16:18:29.573Z"
   },
   {
    "duration": 186,
    "start_time": "2021-11-27T16:21:31.864Z"
   },
   {
    "duration": 176,
    "start_time": "2021-11-27T16:21:59.633Z"
   },
   {
    "duration": 187,
    "start_time": "2021-11-27T16:22:13.032Z"
   },
   {
    "duration": 6,
    "start_time": "2021-11-27T16:24:10.050Z"
   },
   {
    "duration": 12,
    "start_time": "2021-11-27T16:24:13.490Z"
   },
   {
    "duration": 18931,
    "start_time": "2021-11-27T16:25:09.915Z"
   },
   {
    "duration": 4,
    "start_time": "2021-11-27T16:34:38.075Z"
   },
   {
    "duration": 4,
    "start_time": "2021-11-27T16:35:08.575Z"
   },
   {
    "duration": 49,
    "start_time": "2021-11-27T16:35:08.581Z"
   },
   {
    "duration": 3,
    "start_time": "2021-11-27T16:35:08.633Z"
   },
   {
    "duration": 19,
    "start_time": "2021-11-27T16:35:08.638Z"
   },
   {
    "duration": 5,
    "start_time": "2021-11-27T16:35:08.659Z"
   },
   {
    "duration": 991,
    "start_time": "2021-11-27T16:35:08.666Z"
   },
   {
    "duration": 11,
    "start_time": "2021-11-27T16:35:09.659Z"
   },
   {
    "duration": 354,
    "start_time": "2021-11-27T16:35:09.671Z"
   },
   {
    "duration": 24,
    "start_time": "2021-11-27T16:35:10.028Z"
   },
   {
    "duration": 1391,
    "start_time": "2021-11-27T16:35:10.053Z"
   },
   {
    "duration": 4,
    "start_time": "2021-11-27T16:35:36.535Z"
   },
   {
    "duration": 43,
    "start_time": "2021-11-27T16:35:36.541Z"
   },
   {
    "duration": 3,
    "start_time": "2021-11-27T16:35:36.586Z"
   },
   {
    "duration": 22,
    "start_time": "2021-11-27T16:35:36.591Z"
   },
   {
    "duration": 11,
    "start_time": "2021-11-27T16:35:36.615Z"
   },
   {
    "duration": 751,
    "start_time": "2021-11-27T16:35:36.627Z"
   },
   {
    "duration": 7,
    "start_time": "2021-11-27T16:35:37.380Z"
   },
   {
    "duration": 267,
    "start_time": "2021-11-27T16:35:37.389Z"
   },
   {
    "duration": 11,
    "start_time": "2021-11-27T16:35:37.658Z"
   },
   {
    "duration": 1876,
    "start_time": "2021-11-27T16:35:37.670Z"
   },
   {
    "duration": 9,
    "start_time": "2021-11-27T16:35:55.084Z"
   },
   {
    "duration": 453,
    "start_time": "2021-11-27T16:36:04.460Z"
   },
   {
    "duration": 388,
    "start_time": "2021-11-27T16:36:22.060Z"
   },
   {
    "duration": 265,
    "start_time": "2021-11-27T16:36:25.527Z"
   },
   {
    "duration": 386,
    "start_time": "2021-11-27T16:40:42.891Z"
   },
   {
    "duration": 5,
    "start_time": "2021-11-27T16:40:47.601Z"
   },
   {
    "duration": 205767,
    "start_time": "2021-11-27T16:40:48.698Z"
   },
   {
    "duration": 5,
    "start_time": "2021-11-27T16:44:27.932Z"
   },
   {
    "duration": 7,
    "start_time": "2021-11-27T16:45:56.706Z"
   },
   {
    "duration": 5,
    "start_time": "2021-11-27T16:47:09.684Z"
   },
   {
    "duration": 1132,
    "start_time": "2021-11-27T16:49:56.576Z"
   },
   {
    "duration": 282,
    "start_time": "2021-11-27T16:53:19.746Z"
   },
   {
    "duration": 1766,
    "start_time": "2021-11-27T16:53:33.682Z"
   },
   {
    "duration": 6,
    "start_time": "2021-11-27T16:54:55.074Z"
   },
   {
    "duration": 6,
    "start_time": "2021-11-27T16:55:14.578Z"
   },
   {
    "duration": 8,
    "start_time": "2021-11-27T16:55:18.442Z"
   },
   {
    "duration": 591,
    "start_time": "2021-11-27T16:58:17.845Z"
   },
   {
    "duration": 569,
    "start_time": "2021-11-27T16:58:26.238Z"
   },
   {
    "duration": 4,
    "start_time": "2021-11-27T16:58:47.847Z"
   },
   {
    "duration": 37,
    "start_time": "2021-11-27T16:58:50.366Z"
   },
   {
    "duration": 3,
    "start_time": "2021-11-27T16:58:52.045Z"
   },
   {
    "duration": 6,
    "start_time": "2021-11-27T16:58:52.876Z"
   },
   {
    "duration": 4,
    "start_time": "2021-11-27T16:58:54.606Z"
   },
   {
    "duration": 1212,
    "start_time": "2021-11-27T16:58:55.359Z"
   },
   {
    "duration": 4,
    "start_time": "2021-11-27T16:59:08.297Z"
   },
   {
    "duration": 36,
    "start_time": "2021-11-27T16:59:09.102Z"
   },
   {
    "duration": 3,
    "start_time": "2021-11-27T16:59:09.870Z"
   },
   {
    "duration": 5,
    "start_time": "2021-11-27T16:59:11.117Z"
   },
   {
    "duration": 4,
    "start_time": "2021-11-27T16:59:12.454Z"
   },
   {
    "duration": 1124,
    "start_time": "2021-11-27T16:59:12.934Z"
   },
   {
    "duration": 5,
    "start_time": "2021-11-27T16:59:26.288Z"
   },
   {
    "duration": 73,
    "start_time": "2021-11-27T16:59:26.296Z"
   },
   {
    "duration": 3,
    "start_time": "2021-11-27T16:59:26.371Z"
   },
   {
    "duration": 16,
    "start_time": "2021-11-27T16:59:26.377Z"
   },
   {
    "duration": 10,
    "start_time": "2021-11-27T16:59:26.395Z"
   },
   {
    "duration": 1037,
    "start_time": "2021-11-27T16:59:26.407Z"
   },
   {
    "duration": 9,
    "start_time": "2021-11-27T16:59:27.446Z"
   },
   {
    "duration": 427,
    "start_time": "2021-11-27T16:59:27.456Z"
   },
   {
    "duration": 280,
    "start_time": "2021-11-27T16:59:27.886Z"
   },
   {
    "duration": 12,
    "start_time": "2021-11-27T16:59:28.169Z"
   },
   {
    "duration": 993,
    "start_time": "2021-11-27T16:59:28.182Z"
   },
   {
    "duration": 924,
    "start_time": "2021-11-27T17:00:45.161Z"
   },
   {
    "duration": 978,
    "start_time": "2021-11-27T17:01:09.512Z"
   },
   {
    "duration": 4,
    "start_time": "2021-11-27T17:05:56.428Z"
   },
   {
    "duration": 413,
    "start_time": "2021-11-27T17:06:03.123Z"
   },
   {
    "duration": 1515,
    "start_time": "2021-11-27T17:06:15.236Z"
   },
   {
    "duration": 1366,
    "start_time": "2021-11-27T17:06:24.084Z"
   },
   {
    "duration": 4,
    "start_time": "2021-11-27T17:06:42.764Z"
   },
   {
    "duration": 426,
    "start_time": "2021-11-27T17:06:44.383Z"
   },
   {
    "duration": 414,
    "start_time": "2021-11-27T17:07:01.504Z"
   },
   {
    "duration": 5,
    "start_time": "2021-11-27T17:07:14.321Z"
   },
   {
    "duration": 4,
    "start_time": "2021-11-27T17:07:15.908Z"
   },
   {
    "duration": 4713,
    "start_time": "2021-11-27T17:07:17.359Z"
   },
   {
    "duration": 6,
    "start_time": "2021-11-27T17:07:27.124Z"
   },
   {
    "duration": 1249,
    "start_time": "2021-11-27T17:09:13.216Z"
   },
   {
    "duration": 165,
    "start_time": "2021-11-27T17:09:36.784Z"
   },
   {
    "duration": 93,
    "start_time": "2021-11-27T17:10:25.818Z"
   },
   {
    "duration": 174,
    "start_time": "2021-11-27T17:10:32.087Z"
   },
   {
    "duration": 102,
    "start_time": "2021-11-27T17:11:07.474Z"
   },
   {
    "duration": 692,
    "start_time": "2021-11-27T17:12:00.476Z"
   },
   {
    "duration": 652,
    "start_time": "2021-11-27T17:12:32.867Z"
   },
   {
    "duration": 8,
    "start_time": "2021-11-27T17:12:50.788Z"
   },
   {
    "duration": 4,
    "start_time": "2021-11-27T17:20:04.923Z"
   },
   {
    "duration": 815,
    "start_time": "2021-11-27T17:20:21.009Z"
   },
   {
    "duration": 4572,
    "start_time": "2021-11-27T17:20:41.889Z"
   },
   {
    "duration": 4135,
    "start_time": "2021-11-27T17:23:53.093Z"
   },
   {
    "duration": 4,
    "start_time": "2021-11-27T17:24:00.914Z"
   },
   {
    "duration": 4939,
    "start_time": "2021-11-27T17:25:37.384Z"
   },
   {
    "duration": 4,
    "start_time": "2021-11-27T17:25:47.852Z"
   },
   {
    "duration": 82,
    "start_time": "2021-11-27T17:26:09.461Z"
   },
   {
    "duration": 7,
    "start_time": "2021-11-27T17:28:13.908Z"
   },
   {
    "duration": 4,
    "start_time": "2021-11-27T17:28:35.699Z"
   },
   {
    "duration": 4,
    "start_time": "2021-11-27T17:28:42.277Z"
   },
   {
    "duration": 4241,
    "start_time": "2021-11-27T17:29:04.468Z"
   },
   {
    "duration": 4,
    "start_time": "2021-11-27T17:29:18.085Z"
   },
   {
    "duration": 7014,
    "start_time": "2021-11-27T17:29:47.013Z"
   },
   {
    "duration": 5,
    "start_time": "2021-11-27T17:30:09.066Z"
   },
   {
    "duration": 6958,
    "start_time": "2021-11-27T17:30:24.894Z"
   },
   {
    "duration": 5,
    "start_time": "2021-11-27T17:30:40.773Z"
   },
   {
    "duration": 619,
    "start_time": "2021-11-27T17:30:46.784Z"
   },
   {
    "duration": 4221,
    "start_time": "2021-11-27T17:30:52.223Z"
   },
   {
    "duration": 5,
    "start_time": "2021-11-27T17:31:01.847Z"
   },
   {
    "duration": 4391,
    "start_time": "2021-11-27T17:31:30.456Z"
   },
   {
    "duration": 5,
    "start_time": "2021-11-27T17:31:41.455Z"
   },
   {
    "duration": 6,
    "start_time": "2021-11-27T17:31:59.150Z"
   },
   {
    "duration": 12,
    "start_time": "2021-11-27T17:32:38.735Z"
   },
   {
    "duration": 4,
    "start_time": "2021-11-27T17:33:20.879Z"
   },
   {
    "duration": 5,
    "start_time": "2021-11-27T17:34:28.987Z"
   },
   {
    "duration": 14,
    "start_time": "2021-11-27T17:37:13.570Z"
   },
   {
    "duration": 9,
    "start_time": "2021-11-27T17:37:26.219Z"
   },
   {
    "duration": 279,
    "start_time": "2021-11-27T17:40:56.886Z"
   },
   {
    "duration": 6283,
    "start_time": "2021-11-27T17:41:22.078Z"
   },
   {
    "duration": 265,
    "start_time": "2021-11-27T17:41:31.671Z"
   },
   {
    "duration": 20,
    "start_time": "2021-11-27T17:41:34.638Z"
   },
   {
    "duration": 6591,
    "start_time": "2021-11-27T17:42:03.462Z"
   },
   {
    "duration": 7,
    "start_time": "2021-11-27T17:42:14.550Z"
   },
   {
    "duration": 5102,
    "start_time": "2021-11-27T17:42:35.633Z"
   },
   {
    "duration": 7,
    "start_time": "2021-11-27T17:42:45.170Z"
   },
   {
    "duration": 6,
    "start_time": "2021-11-27T17:43:05.477Z"
   },
   {
    "duration": 8,
    "start_time": "2021-11-27T17:43:17.665Z"
   },
   {
    "duration": 4,
    "start_time": "2021-11-27T17:43:21.271Z"
   },
   {
    "duration": 8,
    "start_time": "2021-11-27T17:43:31.991Z"
   },
   {
    "duration": 3,
    "start_time": "2021-11-27T17:43:35.999Z"
   },
   {
    "duration": 7,
    "start_time": "2021-11-27T17:43:40.720Z"
   },
   {
    "duration": 12,
    "start_time": "2021-11-27T17:44:25.408Z"
   },
   {
    "duration": 4726,
    "start_time": "2021-11-27T17:44:42.218Z"
   },
   {
    "duration": 5,
    "start_time": "2021-11-27T17:44:51.345Z"
   },
   {
    "duration": 13,
    "start_time": "2021-11-27T17:44:54.281Z"
   },
   {
    "duration": 4872,
    "start_time": "2021-11-27T17:56:48.724Z"
   },
   {
    "duration": 281,
    "start_time": "2021-11-27T18:02:46.252Z"
   },
   {
    "duration": 13018,
    "start_time": "2021-11-27T18:03:19.063Z"
   },
   {
    "duration": 2,
    "start_time": "2021-11-27T18:03:36.940Z"
   },
   {
    "duration": 699,
    "start_time": "2021-11-27T18:03:38.996Z"
   },
   {
    "duration": 315,
    "start_time": "2021-11-27T18:04:31.281Z"
   },
   {
    "duration": 3,
    "start_time": "2021-11-27T18:04:45.135Z"
   },
   {
    "duration": 430,
    "start_time": "2021-11-27T18:18:58.264Z"
   },
   {
    "duration": 2,
    "start_time": "2021-11-27T18:19:02.843Z"
   },
   {
    "duration": 4,
    "start_time": "2021-11-27T18:24:21.402Z"
   },
   {
    "duration": 3209,
    "start_time": "2021-11-27T18:24:21.407Z"
   },
   {
    "duration": 43,
    "start_time": "2021-11-27T18:24:24.618Z"
   },
   {
    "duration": 3,
    "start_time": "2021-11-27T18:24:24.662Z"
   },
   {
    "duration": 25,
    "start_time": "2021-11-27T18:24:24.667Z"
   },
   {
    "duration": 22,
    "start_time": "2021-11-27T18:24:24.693Z"
   },
   {
    "duration": 31,
    "start_time": "2021-11-27T18:24:24.717Z"
   },
   {
    "duration": 36,
    "start_time": "2021-11-27T18:24:24.749Z"
   },
   {
    "duration": 297,
    "start_time": "2021-11-27T18:24:24.788Z"
   },
   {
    "duration": 296,
    "start_time": "2021-11-27T18:24:25.087Z"
   },
   {
    "duration": 184,
    "start_time": "2021-11-27T18:24:25.385Z"
   },
   {
    "duration": 864,
    "start_time": "2021-11-27T18:24:25.571Z"
   },
   {
    "duration": 1717,
    "start_time": "2021-11-27T18:24:26.437Z"
   },
   {
    "duration": 90,
    "start_time": "2021-11-27T18:24:28.155Z"
   },
   {
    "duration": 100,
    "start_time": "2021-11-27T18:24:28.248Z"
   },
   {
    "duration": 4,
    "start_time": "2021-11-27T18:43:51.659Z"
   },
   {
    "duration": 3203,
    "start_time": "2021-11-27T18:43:51.665Z"
   },
   {
    "duration": 57,
    "start_time": "2021-11-27T18:43:54.871Z"
   },
   {
    "duration": 3,
    "start_time": "2021-11-27T18:43:54.930Z"
   },
   {
    "duration": 9,
    "start_time": "2021-11-27T18:43:54.936Z"
   },
   {
    "duration": 4,
    "start_time": "2021-11-27T18:43:54.946Z"
   },
   {
    "duration": 11,
    "start_time": "2021-11-27T18:43:54.952Z"
   },
   {
    "duration": 10,
    "start_time": "2021-11-27T18:43:54.965Z"
   },
   {
    "duration": 299,
    "start_time": "2021-11-27T18:43:54.977Z"
   },
   {
    "duration": 304,
    "start_time": "2021-11-27T18:43:55.278Z"
   },
   {
    "duration": 297,
    "start_time": "2021-11-27T18:44:06.849Z"
   },
   {
    "duration": 459,
    "start_time": "2021-11-27T18:44:12.972Z"
   },
   {
    "duration": 261,
    "start_time": "2021-11-27T18:46:55.611Z"
   },
   {
    "duration": 235,
    "start_time": "2021-11-27T18:47:03.517Z"
   },
   {
    "duration": 256,
    "start_time": "2021-11-27T18:47:10.303Z"
   },
   {
    "duration": 350,
    "start_time": "2021-11-27T18:47:20.789Z"
   },
   {
    "duration": 259,
    "start_time": "2021-11-27T18:47:25.688Z"
   },
   {
    "duration": 891,
    "start_time": "2021-11-27T18:49:02.607Z"
   },
   {
    "duration": 2,
    "start_time": "2021-11-27T19:02:18.167Z"
   },
   {
    "duration": 38,
    "start_time": "2021-11-27T19:02:18.172Z"
   },
   {
    "duration": 75,
    "start_time": "2021-11-27T19:02:18.212Z"
   },
   {
    "duration": 2,
    "start_time": "2021-11-27T19:02:18.289Z"
   },
   {
    "duration": 42,
    "start_time": "2021-11-27T19:02:18.293Z"
   },
   {
    "duration": 19,
    "start_time": "2021-11-27T19:02:18.337Z"
   },
   {
    "duration": 27,
    "start_time": "2021-11-27T19:02:18.357Z"
   },
   {
    "duration": 38,
    "start_time": "2021-11-27T19:02:18.386Z"
   },
   {
    "duration": 268,
    "start_time": "2021-11-27T19:02:18.426Z"
   },
   {
    "duration": 295,
    "start_time": "2021-11-27T19:02:18.696Z"
   },
   {
    "duration": 267,
    "start_time": "2021-11-27T19:02:18.993Z"
   },
   {
    "duration": 930,
    "start_time": "2021-11-27T19:02:19.262Z"
   },
   {
    "duration": 8,
    "start_time": "2021-11-27T19:02:26.026Z"
   },
   {
    "duration": 5,
    "start_time": "2021-11-27T19:02:36.273Z"
   },
   {
    "duration": 6,
    "start_time": "2021-11-27T19:02:41.736Z"
   },
   {
    "duration": 4097,
    "start_time": "2021-11-27T19:02:48.059Z"
   },
   {
    "duration": 7,
    "start_time": "2021-11-27T19:06:04.341Z"
   },
   {
    "duration": 6,
    "start_time": "2021-11-27T19:06:05.108Z"
   },
   {
    "duration": 7,
    "start_time": "2021-11-27T19:06:34.429Z"
   },
   {
    "duration": 477,
    "start_time": "2021-11-27T19:07:06.439Z"
   },
   {
    "duration": 4,
    "start_time": "2021-11-27T19:07:31.262Z"
   },
   {
    "duration": 9,
    "start_time": "2021-11-27T19:07:36.143Z"
   },
   {
    "duration": 6,
    "start_time": "2021-11-27T19:09:16.584Z"
   },
   {
    "duration": 287,
    "start_time": "2021-11-27T19:13:25.388Z"
   },
   {
    "duration": 274,
    "start_time": "2021-11-27T19:13:54.740Z"
   },
   {
    "duration": 270,
    "start_time": "2021-11-27T19:14:11.076Z"
   },
   {
    "duration": 278,
    "start_time": "2021-11-27T19:14:39.796Z"
   },
   {
    "duration": 282,
    "start_time": "2021-11-27T19:15:19.430Z"
   },
   {
    "duration": 6,
    "start_time": "2021-11-27T19:15:25.644Z"
   },
   {
    "duration": 287,
    "start_time": "2021-11-27T19:15:34.812Z"
   },
   {
    "duration": 13,
    "start_time": "2021-11-27T19:15:56.445Z"
   },
   {
    "duration": 4,
    "start_time": "2021-11-27T19:17:19.942Z"
   },
   {
    "duration": 66010,
    "start_time": "2021-11-27T19:17:26.078Z"
   },
   {
    "duration": 107273,
    "start_time": "2021-11-27T19:19:06.623Z"
   },
   {
    "duration": 25549,
    "start_time": "2021-11-27T19:21:45.715Z"
   },
   {
    "duration": 108856,
    "start_time": "2021-11-27T19:22:21.171Z"
   },
   {
    "duration": 108715,
    "start_time": "2021-11-27T19:25:10.829Z"
   },
   {
    "duration": 106746,
    "start_time": "2021-11-27T19:27:02.374Z"
   },
   {
    "duration": 6,
    "start_time": "2021-11-27T19:28:53.302Z"
   },
   {
    "duration": 758,
    "start_time": "2021-11-27T19:29:29.925Z"
   },
   {
    "duration": 8,
    "start_time": "2021-11-27T19:29:56.816Z"
   },
   {
    "duration": 3,
    "start_time": "2021-11-27T19:30:21.783Z"
   },
   {
    "duration": 90,
    "start_time": "2021-11-27T19:30:27.719Z"
   },
   {
    "duration": 4,
    "start_time": "2021-11-27T19:31:06.166Z"
   },
   {
    "duration": 107313,
    "start_time": "2021-11-27T19:31:31.209Z"
   },
   {
    "duration": 3,
    "start_time": "2021-11-27T19:33:55.577Z"
   },
   {
    "duration": 4,
    "start_time": "2021-11-27T19:33:56.921Z"
   },
   {
    "duration": 2271,
    "start_time": "2021-11-27T19:34:07.819Z"
   },
   {
    "duration": 4,
    "start_time": "2021-11-27T19:34:12.755Z"
   },
   {
    "duration": 4,
    "start_time": "2021-11-27T19:34:15.852Z"
   },
   {
    "duration": 3,
    "start_time": "2021-11-27T19:34:54.418Z"
   },
   {
    "duration": 108042,
    "start_time": "2021-11-27T19:35:04.997Z"
   },
   {
    "duration": 373,
    "start_time": "2021-11-27T19:37:04.846Z"
   },
   {
    "duration": 1757380,
    "start_time": "2021-11-27T19:38:23.822Z"
   },
   {
    "duration": 315,
    "start_time": "2021-11-27T20:08:10.049Z"
   },
   {
    "duration": 392,
    "start_time": "2021-11-27T20:08:21.032Z"
   },
   {
    "duration": 66096,
    "start_time": "2021-11-27T20:08:31.759Z"
   },
   {
    "duration": 3,
    "start_time": "2021-11-27T20:09:53.200Z"
   },
   {
    "duration": 6,
    "start_time": "2021-11-27T20:09:56.649Z"
   },
   {
    "duration": 277,
    "start_time": "2021-11-27T20:10:53.428Z"
   },
   {
    "duration": 296,
    "start_time": "2021-11-27T20:11:17.940Z"
   },
   {
    "duration": 51891,
    "start_time": "2021-11-27T20:11:23.310Z"
   },
   {
    "duration": 4,
    "start_time": "2021-11-27T20:12:21.410Z"
   },
   {
    "duration": 4,
    "start_time": "2021-11-27T20:12:23.825Z"
   },
   {
    "duration": 9,
    "start_time": "2021-11-27T20:13:01.907Z"
   },
   {
    "duration": 9,
    "start_time": "2021-11-27T20:13:13.537Z"
   },
   {
    "duration": 9,
    "start_time": "2021-11-27T20:13:23.850Z"
   },
   {
    "duration": 9,
    "start_time": "2021-11-27T20:13:32.041Z"
   },
   {
    "duration": 3,
    "start_time": "2021-11-27T20:32:35.814Z"
   },
   {
    "duration": 3062,
    "start_time": "2021-11-27T20:32:35.819Z"
   },
   {
    "duration": 44,
    "start_time": "2021-11-27T20:32:38.883Z"
   },
   {
    "duration": 3,
    "start_time": "2021-11-27T20:32:38.928Z"
   },
   {
    "duration": 24,
    "start_time": "2021-11-27T20:32:38.933Z"
   },
   {
    "duration": 20,
    "start_time": "2021-11-27T20:32:38.958Z"
   },
   {
    "duration": 24,
    "start_time": "2021-11-27T20:32:38.981Z"
   },
   {
    "duration": 35,
    "start_time": "2021-11-27T20:32:39.007Z"
   },
   {
    "duration": 282,
    "start_time": "2021-11-27T20:32:39.044Z"
   },
   {
    "duration": 297,
    "start_time": "2021-11-27T20:32:39.327Z"
   },
   {
    "duration": 184,
    "start_time": "2021-11-27T20:32:39.625Z"
   },
   {
    "duration": 913,
    "start_time": "2021-11-27T20:32:39.811Z"
   },
   {
    "duration": 1923,
    "start_time": "2021-11-27T20:32:40.726Z"
   },
   {
    "duration": 93,
    "start_time": "2021-11-27T20:32:42.652Z"
   },
   {
    "duration": 100,
    "start_time": "2021-11-27T20:32:42.748Z"
   },
   {
    "duration": 25,
    "start_time": "2021-11-27T20:32:42.850Z"
   },
   {
    "duration": 28942,
    "start_time": "2021-11-27T20:32:42.877Z"
   },
   {
    "duration": 3,
    "start_time": "2021-11-27T20:33:44.891Z"
   },
   {
    "duration": 4,
    "start_time": "2021-11-27T20:33:47.629Z"
   },
   {
    "duration": 467,
    "start_time": "2021-11-27T20:34:42.928Z"
   },
   {
    "duration": 369,
    "start_time": "2021-11-27T20:35:22.251Z"
   },
   {
    "duration": 232,
    "start_time": "2021-11-27T20:35:25.174Z"
   },
   {
    "duration": 376,
    "start_time": "2021-11-27T20:35:37.330Z"
   },
   {
    "duration": 350,
    "start_time": "2021-11-27T20:35:45.212Z"
   },
   {
    "duration": 336,
    "start_time": "2021-11-27T20:35:50.458Z"
   },
   {
    "duration": 6,
    "start_time": "2021-11-27T20:35:55.934Z"
   },
   {
    "duration": 275,
    "start_time": "2021-11-27T20:36:18.287Z"
   },
   {
    "duration": 92,
    "start_time": "2021-11-27T20:37:11.660Z"
   },
   {
    "duration": 542,
    "start_time": "2021-11-27T20:37:17.713Z"
   },
   {
    "duration": 7445,
    "start_time": "2021-11-27T20:37:34.247Z"
   },
   {
    "duration": 64093,
    "start_time": "2021-11-27T20:37:47.179Z"
   },
   {
    "duration": 3,
    "start_time": "2021-11-27T20:45:34.589Z"
   },
   {
    "duration": 3093,
    "start_time": "2021-11-27T20:45:34.594Z"
   },
   {
    "duration": 45,
    "start_time": "2021-11-27T20:45:37.689Z"
   },
   {
    "duration": 3,
    "start_time": "2021-11-27T20:45:37.736Z"
   },
   {
    "duration": 20,
    "start_time": "2021-11-27T20:45:37.740Z"
   },
   {
    "duration": 4,
    "start_time": "2021-11-27T20:45:37.762Z"
   },
   {
    "duration": 9,
    "start_time": "2021-11-27T20:45:37.769Z"
   },
   {
    "duration": 12,
    "start_time": "2021-11-27T20:45:37.780Z"
   },
   {
    "duration": 308,
    "start_time": "2021-11-27T20:45:37.795Z"
   },
   {
    "duration": 311,
    "start_time": "2021-11-27T20:45:38.106Z"
   },
   {
    "duration": 182,
    "start_time": "2021-11-27T20:45:38.419Z"
   },
   {
    "duration": 1423,
    "start_time": "2021-11-27T20:45:38.603Z"
   },
   {
    "duration": 349,
    "start_time": "2021-11-27T20:45:40.028Z"
   },
   {
    "duration": 2684,
    "start_time": "2021-11-27T20:45:40.379Z"
   },
   {
    "duration": 10,
    "start_time": "2021-11-27T20:45:43.146Z"
   },
   {
    "duration": 71,
    "start_time": "2021-11-27T20:45:43.177Z"
   },
   {
    "duration": 209038,
    "start_time": "2021-11-27T20:45:43.250Z"
   },
   {
    "duration": 4,
    "start_time": "2021-11-27T20:49:31.289Z"
   },
   {
    "duration": 354,
    "start_time": "2021-11-27T21:18:38.113Z"
   },
   {
    "duration": 2,
    "start_time": "2021-11-27T21:18:49.478Z"
   },
   {
    "duration": 3486,
    "start_time": "2021-11-27T21:18:49.484Z"
   },
   {
    "duration": 41,
    "start_time": "2021-11-27T21:18:52.972Z"
   },
   {
    "duration": 2,
    "start_time": "2021-11-27T21:18:53.015Z"
   },
   {
    "duration": 9,
    "start_time": "2021-11-27T21:18:53.019Z"
   },
   {
    "duration": 4,
    "start_time": "2021-11-27T21:18:53.029Z"
   },
   {
    "duration": 10,
    "start_time": "2021-11-27T21:18:53.034Z"
   },
   {
    "duration": 11,
    "start_time": "2021-11-27T21:18:53.048Z"
   },
   {
    "duration": 262,
    "start_time": "2021-11-27T21:18:53.062Z"
   },
   {
    "duration": 297,
    "start_time": "2021-11-27T21:18:53.326Z"
   },
   {
    "duration": 189,
    "start_time": "2021-11-27T21:18:53.624Z"
   },
   {
    "duration": 873,
    "start_time": "2021-11-27T21:18:53.815Z"
   },
   {
    "duration": 264,
    "start_time": "2021-11-27T21:18:54.689Z"
   },
   {
    "duration": 4609,
    "start_time": "2021-11-27T21:18:54.955Z"
   },
   {
    "duration": 78,
    "start_time": "2021-11-27T21:18:59.567Z"
   },
   {
    "duration": 103,
    "start_time": "2021-11-27T21:18:59.647Z"
   },
   {
    "duration": 3,
    "start_time": "2021-11-27T21:18:59.756Z"
   },
   {
    "duration": 364,
    "start_time": "2021-11-27T21:19:38.338Z"
   },
   {
    "duration": 287,
    "start_time": "2021-11-27T21:19:46.290Z"
   },
   {
    "duration": 3,
    "start_time": "2021-11-27T21:30:54.262Z"
   },
   {
    "duration": 3006,
    "start_time": "2021-11-27T21:30:54.267Z"
   },
   {
    "duration": 42,
    "start_time": "2021-11-27T21:30:57.276Z"
   },
   {
    "duration": 3,
    "start_time": "2021-11-27T21:30:57.320Z"
   },
   {
    "duration": 14,
    "start_time": "2021-11-27T21:30:57.324Z"
   },
   {
    "duration": 3,
    "start_time": "2021-11-27T21:30:57.340Z"
   },
   {
    "duration": 10,
    "start_time": "2021-11-27T21:30:57.348Z"
   },
   {
    "duration": 12,
    "start_time": "2021-11-27T21:30:57.361Z"
   },
   {
    "duration": 299,
    "start_time": "2021-11-27T21:30:57.374Z"
   },
   {
    "duration": 295,
    "start_time": "2021-11-27T21:30:57.675Z"
   },
   {
    "duration": 193,
    "start_time": "2021-11-27T21:30:57.971Z"
   },
   {
    "duration": 931,
    "start_time": "2021-11-27T21:30:58.166Z"
   },
   {
    "duration": 276,
    "start_time": "2021-11-27T21:30:59.099Z"
   },
   {
    "duration": 4177,
    "start_time": "2021-11-27T21:30:59.377Z"
   },
   {
    "duration": 8,
    "start_time": "2021-11-27T21:31:03.556Z"
   },
   {
    "duration": 79,
    "start_time": "2021-11-27T21:31:03.566Z"
   },
   {
    "duration": 428,
    "start_time": "2021-11-27T21:31:18.252Z"
   },
   {
    "duration": 107008,
    "start_time": "2021-11-27T21:31:35.691Z"
   },
   {
    "duration": 341,
    "start_time": "2021-11-27T21:33:53.624Z"
   },
   {
    "duration": 4,
    "start_time": "2021-11-27T21:34:09.406Z"
   },
   {
    "duration": 450,
    "start_time": "2021-11-27T21:34:21.973Z"
   },
   {
    "duration": 43148,
    "start_time": "2021-11-27T21:34:47.303Z"
   },
   {
    "duration": 4,
    "start_time": "2021-11-27T21:36:03.789Z"
   },
   {
    "duration": 5,
    "start_time": "2021-11-27T21:36:07.269Z"
   },
   {
    "duration": 85130,
    "start_time": "2021-11-27T21:36:20.736Z"
   },
   {
    "duration": 149838,
    "start_time": "2021-11-27T21:38:58.860Z"
   },
   {
    "duration": 11,
    "start_time": "2021-11-27T21:42:07.856Z"
   },
   {
    "duration": 8,
    "start_time": "2021-11-27T21:42:09.940Z"
   },
   {
    "duration": 221629,
    "start_time": "2021-11-27T21:42:23.675Z"
   },
   {
    "duration": 3,
    "start_time": "2021-11-27T21:46:15.870Z"
   },
   {
    "duration": 5,
    "start_time": "2021-11-27T21:46:16.368Z"
   },
   {
    "duration": 168716,
    "start_time": "2021-11-27T21:46:39.836Z"
   },
   {
    "duration": 3,
    "start_time": "2021-11-27T21:50:07.621Z"
   },
   {
    "duration": 4,
    "start_time": "2021-11-27T21:50:08.794Z"
   },
   {
    "duration": 90,
    "start_time": "2021-11-27T21:50:55.589Z"
   },
   {
    "duration": 309,
    "start_time": "2021-11-27T22:04:09.135Z"
   },
   {
    "duration": 2,
    "start_time": "2021-11-27T22:04:32.472Z"
   },
   {
    "duration": 2957,
    "start_time": "2021-11-27T22:04:32.478Z"
   },
   {
    "duration": 48,
    "start_time": "2021-11-27T22:04:35.437Z"
   },
   {
    "duration": 2,
    "start_time": "2021-11-27T22:04:35.487Z"
   },
   {
    "duration": 10,
    "start_time": "2021-11-27T22:04:35.491Z"
   },
   {
    "duration": 5,
    "start_time": "2021-11-27T22:04:35.503Z"
   },
   {
    "duration": 13,
    "start_time": "2021-11-27T22:04:35.509Z"
   },
   {
    "duration": 32,
    "start_time": "2021-11-27T22:04:35.524Z"
   },
   {
    "duration": 288,
    "start_time": "2021-11-27T22:04:35.559Z"
   },
   {
    "duration": 310,
    "start_time": "2021-11-27T22:04:35.849Z"
   },
   {
    "duration": 188,
    "start_time": "2021-11-27T22:04:36.161Z"
   },
   {
    "duration": 1019,
    "start_time": "2021-11-27T22:04:36.351Z"
   },
   {
    "duration": 300,
    "start_time": "2021-11-27T22:04:37.372Z"
   },
   {
    "duration": 3682,
    "start_time": "2021-11-27T22:04:37.673Z"
   },
   {
    "duration": 6,
    "start_time": "2021-11-27T22:04:41.361Z"
   },
   {
    "duration": 4,
    "start_time": "2021-11-27T22:04:59.388Z"
   },
   {
    "duration": 5,
    "start_time": "2021-11-27T22:05:00.132Z"
   },
   {
    "duration": 4,
    "start_time": "2021-11-27T22:05:15.915Z"
   },
   {
    "duration": 5,
    "start_time": "2021-11-27T22:05:17.183Z"
   },
   {
    "duration": 490,
    "start_time": "2021-11-27T22:05:20.128Z"
   },
   {
    "duration": 304,
    "start_time": "2021-11-27T22:07:47.009Z"
   },
   {
    "duration": 285,
    "start_time": "2021-11-27T22:07:58.022Z"
   },
   {
    "duration": 1613,
    "start_time": "2021-11-27T22:08:35.844Z"
   },
   {
    "duration": 285,
    "start_time": "2021-11-27T22:12:02.971Z"
   },
   {
    "duration": 338,
    "start_time": "2021-11-27T22:12:21.382Z"
   },
   {
    "duration": 4,
    "start_time": "2021-11-27T22:12:35.130Z"
   },
   {
    "duration": 290,
    "start_time": "2021-11-27T22:12:42.001Z"
   },
   {
    "duration": 458,
    "start_time": "2021-11-27T22:13:57.543Z"
   },
   {
    "duration": 1022,
    "start_time": "2021-11-27T22:14:24.046Z"
   },
   {
    "duration": 252,
    "start_time": "2021-11-27T22:14:38.376Z"
   },
   {
    "duration": 4,
    "start_time": "2021-11-27T22:15:44.695Z"
   },
   {
    "duration": 3,
    "start_time": "2021-11-27T22:15:45.429Z"
   },
   {
    "duration": 1372,
    "start_time": "2021-11-27T22:15:46.181Z"
   },
   {
    "duration": 1958,
    "start_time": "2021-11-27T22:16:16.488Z"
   },
   {
    "duration": 1568,
    "start_time": "2021-11-27T22:16:45.478Z"
   },
   {
    "duration": 1653,
    "start_time": "2021-11-27T22:16:50.792Z"
   },
   {
    "duration": 2,
    "start_time": "2021-11-27T22:25:43.752Z"
   },
   {
    "duration": 22,
    "start_time": "2021-11-27T22:25:43.756Z"
   },
   {
    "duration": 71,
    "start_time": "2021-11-27T22:25:43.780Z"
   },
   {
    "duration": 3,
    "start_time": "2021-11-27T22:25:43.853Z"
   },
   {
    "duration": 25,
    "start_time": "2021-11-27T22:25:43.857Z"
   },
   {
    "duration": 10,
    "start_time": "2021-11-27T22:25:43.884Z"
   },
   {
    "duration": 22,
    "start_time": "2021-11-27T22:25:43.896Z"
   },
   {
    "duration": 20,
    "start_time": "2021-11-27T22:25:43.919Z"
   },
   {
    "duration": 289,
    "start_time": "2021-11-27T22:25:43.941Z"
   },
   {
    "duration": 308,
    "start_time": "2021-11-27T22:25:44.232Z"
   },
   {
    "duration": 191,
    "start_time": "2021-11-27T22:25:44.542Z"
   },
   {
    "duration": 979,
    "start_time": "2021-11-27T22:25:44.735Z"
   },
   {
    "duration": 306,
    "start_time": "2021-11-27T22:25:45.716Z"
   },
   {
    "duration": 471,
    "start_time": "2021-11-27T22:25:46.025Z"
   },
   {
    "duration": 1455,
    "start_time": "2021-11-27T22:25:46.498Z"
   },
   {
    "duration": 94,
    "start_time": "2021-11-27T22:25:47.955Z"
   },
   {
    "duration": 4,
    "start_time": "2021-11-27T22:25:54.394Z"
   },
   {
    "duration": 3,
    "start_time": "2021-11-27T22:25:55.284Z"
   },
   {
    "duration": 1477,
    "start_time": "2021-11-27T22:25:55.869Z"
   },
   {
    "duration": 305,
    "start_time": "2021-11-27T22:26:57.537Z"
   },
   {
    "duration": 2,
    "start_time": "2021-11-27T22:27:09.931Z"
   },
   {
    "duration": 4,
    "start_time": "2021-11-27T22:27:09.938Z"
   },
   {
    "duration": 44,
    "start_time": "2021-11-27T22:27:09.944Z"
   },
   {
    "duration": 3,
    "start_time": "2021-11-27T22:27:09.990Z"
   },
   {
    "duration": 8,
    "start_time": "2021-11-27T22:27:09.995Z"
   },
   {
    "duration": 5,
    "start_time": "2021-11-27T22:27:10.004Z"
   },
   {
    "duration": 10,
    "start_time": "2021-11-27T22:27:10.010Z"
   },
   {
    "duration": 33,
    "start_time": "2021-11-27T22:27:10.022Z"
   },
   {
    "duration": 265,
    "start_time": "2021-11-27T22:27:10.243Z"
   },
   {
    "duration": 285,
    "start_time": "2021-11-27T22:27:10.510Z"
   },
   {
    "duration": 182,
    "start_time": "2021-11-27T22:27:10.797Z"
   },
   {
    "duration": 957,
    "start_time": "2021-11-27T22:27:10.981Z"
   },
   {
    "duration": 313,
    "start_time": "2021-11-27T22:27:11.944Z"
   },
   {
    "duration": 890,
    "start_time": "2021-11-27T22:27:12.258Z"
   },
   {
    "duration": 1796,
    "start_time": "2021-11-27T22:27:13.150Z"
   },
   {
    "duration": 96,
    "start_time": "2021-11-27T22:27:14.948Z"
   },
   {
    "duration": 4,
    "start_time": "2021-11-27T22:27:15.047Z"
   },
   {
    "duration": 308,
    "start_time": "2021-11-27T22:27:39.156Z"
   },
   {
    "duration": 277,
    "start_time": "2021-11-27T22:27:51.472Z"
   },
   {
    "duration": 9,
    "start_time": "2021-11-27T22:28:01.115Z"
   },
   {
    "duration": 139827,
    "start_time": "2021-11-27T22:28:38.391Z"
   },
   {
    "duration": 6,
    "start_time": "2021-11-27T22:31:16.274Z"
   },
   {
    "duration": 4,
    "start_time": "2021-11-27T22:32:00.384Z"
   },
   {
    "duration": 271,
    "start_time": "2021-11-27T22:32:16.579Z"
   },
   {
    "duration": 5,
    "start_time": "2021-11-27T22:32:20.083Z"
   },
   {
    "duration": 283,
    "start_time": "2021-11-27T22:32:27.930Z"
   },
   {
    "duration": 276,
    "start_time": "2021-11-27T22:33:11.068Z"
   },
   {
    "duration": 9,
    "start_time": "2021-11-27T22:33:37.453Z"
   },
   {
    "duration": 4,
    "start_time": "2021-11-27T22:33:41.037Z"
   },
   {
    "duration": 4,
    "start_time": "2021-11-27T22:33:48.276Z"
   },
   {
    "duration": 597,
    "start_time": "2021-11-27T22:34:05.492Z"
   },
   {
    "duration": 273,
    "start_time": "2021-11-27T22:34:21.603Z"
   },
   {
    "duration": 87,
    "start_time": "2021-11-27T22:34:25.075Z"
   },
   {
    "duration": 270,
    "start_time": "2021-11-27T22:34:28.431Z"
   },
   {
    "duration": 5,
    "start_time": "2021-11-27T22:35:51.811Z"
   },
   {
    "duration": 5,
    "start_time": "2021-11-27T22:36:07.808Z"
   },
   {
    "duration": 7,
    "start_time": "2021-11-27T22:36:20.136Z"
   },
   {
    "duration": 329,
    "start_time": "2021-11-27T22:36:59.926Z"
   },
   {
    "duration": 337,
    "start_time": "2021-11-27T22:37:16.568Z"
   },
   {
    "duration": 305,
    "start_time": "2021-11-27T22:37:23.764Z"
   },
   {
    "duration": 310,
    "start_time": "2021-11-27T22:40:14.173Z"
   },
   {
    "duration": 361,
    "start_time": "2021-11-27T22:40:22.082Z"
   },
   {
    "duration": 14,
    "start_time": "2021-11-27T22:41:00.161Z"
   },
   {
    "duration": 393,
    "start_time": "2021-11-27T22:41:07.262Z"
   },
   {
    "duration": 333,
    "start_time": "2021-11-27T22:41:37.077Z"
   },
   {
    "duration": 18,
    "start_time": "2021-11-27T22:41:51.764Z"
   },
   {
    "duration": 28,
    "start_time": "2021-11-27T22:42:43.188Z"
   },
   {
    "duration": 3,
    "start_time": "2021-11-27T22:44:04.038Z"
   },
   {
    "duration": 4,
    "start_time": "2021-11-27T22:44:04.053Z"
   },
   {
    "duration": 41,
    "start_time": "2021-11-27T22:44:04.059Z"
   },
   {
    "duration": 3,
    "start_time": "2021-11-27T22:44:04.102Z"
   },
   {
    "duration": 7,
    "start_time": "2021-11-27T22:44:04.107Z"
   },
   {
    "duration": 5,
    "start_time": "2021-11-27T22:44:04.116Z"
   },
   {
    "duration": 8,
    "start_time": "2021-11-27T22:44:04.122Z"
   },
   {
    "duration": 12,
    "start_time": "2021-11-27T22:44:04.144Z"
   },
   {
    "duration": 263,
    "start_time": "2021-11-27T22:44:04.158Z"
   },
   {
    "duration": 298,
    "start_time": "2021-11-27T22:44:04.424Z"
   },
   {
    "duration": 181,
    "start_time": "2021-11-27T22:44:04.725Z"
   },
   {
    "duration": 983,
    "start_time": "2021-11-27T22:44:04.908Z"
   },
   {
    "duration": 277,
    "start_time": "2021-11-27T22:44:05.892Z"
   },
   {
    "duration": 475,
    "start_time": "2021-11-27T22:44:06.171Z"
   },
   {
    "duration": 1505,
    "start_time": "2021-11-27T22:44:06.648Z"
   },
   {
    "duration": 5,
    "start_time": "2021-11-27T22:44:08.247Z"
   },
   {
    "duration": 136,
    "start_time": "2021-11-27T22:44:08.254Z"
   },
   {
    "duration": 321,
    "start_time": "2021-11-27T22:44:08.392Z"
   },
   {
    "duration": 8,
    "start_time": "2021-11-27T22:44:14.834Z"
   },
   {
    "duration": 4,
    "start_time": "2021-11-27T22:44:39.210Z"
   },
   {
    "duration": 3,
    "start_time": "2021-11-27T22:44:40.020Z"
   },
   {
    "duration": 273,
    "start_time": "2021-11-27T22:44:40.851Z"
   },
   {
    "duration": 9,
    "start_time": "2021-11-27T22:45:10.309Z"
   },
   {
    "duration": 27,
    "start_time": "2021-11-27T22:45:36.908Z"
   },
   {
    "duration": 307,
    "start_time": "2021-11-27T22:45:55.685Z"
   },
   {
    "duration": 301,
    "start_time": "2021-11-27T22:46:28.568Z"
   },
   {
    "duration": 300,
    "start_time": "2021-11-27T22:47:18.257Z"
   },
   {
    "duration": 439,
    "start_time": "2021-11-27T22:47:30.170Z"
   },
   {
    "duration": 27,
    "start_time": "2021-11-27T22:47:41.932Z"
   },
   {
    "duration": 26,
    "start_time": "2021-11-27T22:48:26.503Z"
   },
   {
    "duration": 26,
    "start_time": "2021-11-27T22:48:31.659Z"
   },
   {
    "duration": 26,
    "start_time": "2021-11-27T22:48:33.184Z"
   },
   {
    "duration": 3,
    "start_time": "2021-11-27T22:49:43.856Z"
   },
   {
    "duration": 5,
    "start_time": "2021-11-27T22:49:43.861Z"
   },
   {
    "duration": 40,
    "start_time": "2021-11-27T22:49:43.868Z"
   },
   {
    "duration": 3,
    "start_time": "2021-11-27T22:49:43.910Z"
   },
   {
    "duration": 7,
    "start_time": "2021-11-27T22:49:43.914Z"
   },
   {
    "duration": 4,
    "start_time": "2021-11-27T22:49:43.923Z"
   },
   {
    "duration": 15,
    "start_time": "2021-11-27T22:49:43.929Z"
   },
   {
    "duration": 11,
    "start_time": "2021-11-27T22:49:43.946Z"
   },
   {
    "duration": 285,
    "start_time": "2021-11-27T22:49:43.959Z"
   },
   {
    "duration": 309,
    "start_time": "2021-11-27T22:49:44.246Z"
   },
   {
    "duration": 187,
    "start_time": "2021-11-27T22:49:44.557Z"
   },
   {
    "duration": 968,
    "start_time": "2021-11-27T22:49:44.745Z"
   },
   {
    "duration": 308,
    "start_time": "2021-11-27T22:49:45.715Z"
   },
   {
    "duration": 465,
    "start_time": "2021-11-27T22:49:46.025Z"
   },
   {
    "duration": 4,
    "start_time": "2021-11-27T22:49:57.337Z"
   },
   {
    "duration": 1240,
    "start_time": "2021-11-27T22:49:59.009Z"
   },
   {
    "duration": 127,
    "start_time": "2021-11-27T22:51:15.920Z"
   },
   {
    "duration": 8,
    "start_time": "2021-11-27T22:51:19.531Z"
   },
   {
    "duration": 4,
    "start_time": "2021-11-27T22:51:25.941Z"
   },
   {
    "duration": 939,
    "start_time": "2021-11-27T22:51:48.686Z"
   },
   {
    "duration": 6,
    "start_time": "2021-11-27T22:52:05.040Z"
   },
   {
    "duration": 312,
    "start_time": "2021-11-27T22:54:05.887Z"
   },
   {
    "duration": 2,
    "start_time": "2021-11-27T22:54:52.998Z"
   },
   {
    "duration": 19,
    "start_time": "2021-11-27T22:54:53.003Z"
   },
   {
    "duration": 44,
    "start_time": "2021-11-27T22:54:53.024Z"
   },
   {
    "duration": 2,
    "start_time": "2021-11-27T22:54:53.070Z"
   },
   {
    "duration": 8,
    "start_time": "2021-11-27T22:54:53.074Z"
   },
   {
    "duration": 4,
    "start_time": "2021-11-27T22:54:53.083Z"
   },
   {
    "duration": 9,
    "start_time": "2021-11-27T22:54:53.089Z"
   },
   {
    "duration": 10,
    "start_time": "2021-11-27T22:54:53.100Z"
   },
   {
    "duration": 398,
    "start_time": "2021-11-27T22:54:53.112Z"
   },
   {
    "duration": 297,
    "start_time": "2021-11-27T22:54:53.512Z"
   },
   {
    "duration": 176,
    "start_time": "2021-11-27T22:54:53.811Z"
   },
   {
    "duration": 1057,
    "start_time": "2021-11-27T22:54:53.988Z"
   },
   {
    "duration": 328,
    "start_time": "2021-11-27T22:54:55.047Z"
   },
   {
    "duration": 610,
    "start_time": "2021-11-27T22:54:55.377Z"
   },
   {
    "duration": 4,
    "start_time": "2021-11-27T22:55:04.802Z"
   },
   {
    "duration": 4206,
    "start_time": "2021-11-27T22:55:06.844Z"
   },
   {
    "duration": 3,
    "start_time": "2021-11-27T22:56:00.293Z"
   },
   {
    "duration": 17,
    "start_time": "2021-11-27T22:56:00.297Z"
   },
   {
    "duration": 38,
    "start_time": "2021-11-27T22:56:00.464Z"
   },
   {
    "duration": 3,
    "start_time": "2021-11-27T22:56:00.504Z"
   },
   {
    "duration": 15,
    "start_time": "2021-11-27T22:56:00.509Z"
   },
   {
    "duration": 7,
    "start_time": "2021-11-27T22:56:00.526Z"
   },
   {
    "duration": 19,
    "start_time": "2021-11-27T22:56:00.534Z"
   },
   {
    "duration": 29,
    "start_time": "2021-11-27T22:56:00.555Z"
   },
   {
    "duration": 354,
    "start_time": "2021-11-27T22:56:00.586Z"
   },
   {
    "duration": 311,
    "start_time": "2021-11-27T22:56:00.944Z"
   },
   {
    "duration": 187,
    "start_time": "2021-11-27T22:56:01.257Z"
   },
   {
    "duration": 955,
    "start_time": "2021-11-27T22:56:01.446Z"
   },
   {
    "duration": 273,
    "start_time": "2021-11-27T22:56:02.403Z"
   },
   {
    "duration": 2175,
    "start_time": "2021-11-27T22:56:02.678Z"
   },
   {
    "duration": 4,
    "start_time": "2021-11-27T22:56:10.528Z"
   },
   {
    "duration": 6005,
    "start_time": "2021-11-27T22:56:12.368Z"
   },
   {
    "duration": 373,
    "start_time": "2021-11-27T22:56:28.607Z"
   },
   {
    "duration": 316,
    "start_time": "2021-11-27T22:56:36.112Z"
   },
   {
    "duration": 420,
    "start_time": "2021-11-27T22:57:41.590Z"
   },
   {
    "duration": 415,
    "start_time": "2021-11-27T23:03:53.070Z"
   },
   {
    "duration": 437,
    "start_time": "2021-11-27T23:04:04.340Z"
   },
   {
    "duration": 250,
    "start_time": "2021-11-27T23:04:55.098Z"
   },
   {
    "duration": 18,
    "start_time": "2021-11-27T23:08:28.423Z"
   },
   {
    "duration": 4,
    "start_time": "2021-11-27T23:08:33.137Z"
   },
   {
    "duration": 4,
    "start_time": "2021-11-27T23:08:39.561Z"
   },
   {
    "duration": 10,
    "start_time": "2021-11-27T23:17:04.506Z"
   },
   {
    "duration": 268,
    "start_time": "2021-11-27T23:18:26.386Z"
   },
   {
    "duration": 323,
    "start_time": "2021-11-27T23:18:54.044Z"
   },
   {
    "duration": 275,
    "start_time": "2021-11-27T23:19:33.608Z"
   },
   {
    "duration": 229,
    "start_time": "2021-11-27T23:19:48.141Z"
   },
   {
    "duration": 317,
    "start_time": "2021-11-27T23:20:27.295Z"
   },
   {
    "duration": 251,
    "start_time": "2021-11-27T23:21:34.269Z"
   },
   {
    "duration": 606,
    "start_time": "2021-11-27T23:21:58.552Z"
   },
   {
    "duration": 606,
    "start_time": "2021-11-27T23:22:05.836Z"
   },
   {
    "duration": 272,
    "start_time": "2021-11-27T23:22:26.967Z"
   },
   {
    "duration": 645,
    "start_time": "2021-11-27T23:22:30.331Z"
   },
   {
    "duration": 468,
    "start_time": "2021-11-27T23:23:55.621Z"
   },
   {
    "duration": 2,
    "start_time": "2021-11-27T23:25:34.836Z"
   },
   {
    "duration": 2365,
    "start_time": "2021-11-27T23:25:34.843Z"
   },
   {
    "duration": 48,
    "start_time": "2021-11-27T23:25:37.210Z"
   },
   {
    "duration": 2,
    "start_time": "2021-11-27T23:25:37.260Z"
   },
   {
    "duration": 8,
    "start_time": "2021-11-27T23:25:37.265Z"
   },
   {
    "duration": 3,
    "start_time": "2021-11-27T23:25:37.275Z"
   },
   {
    "duration": 9,
    "start_time": "2021-11-27T23:25:37.279Z"
   },
   {
    "duration": 9,
    "start_time": "2021-11-27T23:25:37.290Z"
   },
   {
    "duration": 279,
    "start_time": "2021-11-27T23:25:37.301Z"
   },
   {
    "duration": 289,
    "start_time": "2021-11-27T23:25:37.582Z"
   },
   {
    "duration": 182,
    "start_time": "2021-11-27T23:25:37.873Z"
   },
   {
    "duration": 911,
    "start_time": "2021-11-27T23:25:38.058Z"
   },
   {
    "duration": 430,
    "start_time": "2021-11-27T23:25:38.970Z"
   },
   {
    "duration": 883,
    "start_time": "2021-11-27T23:25:39.403Z"
   },
   {
    "duration": 3471,
    "start_time": "2021-11-27T23:25:40.289Z"
   },
   {
    "duration": 4,
    "start_time": "2021-11-27T23:25:43.845Z"
   },
   {
    "duration": 16,
    "start_time": "2021-11-27T23:25:43.853Z"
   },
   {
    "duration": 325,
    "start_time": "2021-11-27T23:25:43.870Z"
   },
   {
    "duration": 21798,
    "start_time": "2021-11-27T23:25:44.196Z"
   },
   {
    "duration": -3296,
    "start_time": "2021-11-27T23:26:09.292Z"
   },
   {
    "duration": -3300,
    "start_time": "2021-11-27T23:26:09.297Z"
   },
   {
    "duration": -3303,
    "start_time": "2021-11-27T23:26:09.301Z"
   },
   {
    "duration": -3306,
    "start_time": "2021-11-27T23:26:09.305Z"
   },
   {
    "duration": -3309,
    "start_time": "2021-11-27T23:26:09.309Z"
   },
   {
    "duration": -3312,
    "start_time": "2021-11-27T23:26:09.313Z"
   },
   {
    "duration": -3315,
    "start_time": "2021-11-27T23:26:09.317Z"
   },
   {
    "duration": 3,
    "start_time": "2021-11-27T23:26:46.529Z"
   },
   {
    "duration": 1917,
    "start_time": "2021-11-27T23:26:46.536Z"
   },
   {
    "duration": 43,
    "start_time": "2021-11-27T23:26:48.456Z"
   },
   {
    "duration": 3,
    "start_time": "2021-11-27T23:26:48.501Z"
   },
   {
    "duration": 9,
    "start_time": "2021-11-27T23:26:48.505Z"
   },
   {
    "duration": 4,
    "start_time": "2021-11-27T23:26:48.515Z"
   },
   {
    "duration": 9,
    "start_time": "2021-11-27T23:26:48.520Z"
   },
   {
    "duration": 23,
    "start_time": "2021-11-27T23:26:48.530Z"
   },
   {
    "duration": 276,
    "start_time": "2021-11-27T23:26:48.556Z"
   },
   {
    "duration": 293,
    "start_time": "2021-11-27T23:26:48.834Z"
   },
   {
    "duration": 181,
    "start_time": "2021-11-27T23:26:49.128Z"
   },
   {
    "duration": 872,
    "start_time": "2021-11-27T23:26:49.311Z"
   },
   {
    "duration": 404,
    "start_time": "2021-11-27T23:26:50.185Z"
   },
   {
    "duration": 672,
    "start_time": "2021-11-27T23:26:50.591Z"
   },
   {
    "duration": 3901,
    "start_time": "2021-11-27T23:26:51.265Z"
   },
   {
    "duration": 82,
    "start_time": "2021-11-27T23:26:55.168Z"
   },
   {
    "duration": 89,
    "start_time": "2021-11-27T23:26:55.256Z"
   },
   {
    "duration": 303,
    "start_time": "2021-11-27T23:26:55.347Z"
   },
   {
    "duration": 1921594,
    "start_time": "2021-11-27T23:26:55.652Z"
   },
   {
    "duration": 144923,
    "start_time": "2021-11-27T23:58:57.249Z"
   },
   {
    "duration": 4,
    "start_time": "2021-11-28T00:01:22.174Z"
   },
   {
    "duration": 6,
    "start_time": "2021-11-28T00:01:22.180Z"
   },
   {
    "duration": 5,
    "start_time": "2021-11-28T00:01:22.188Z"
   },
   {
    "duration": 6553,
    "start_time": "2021-11-28T00:01:22.197Z"
   },
   {
    "duration": 403,
    "start_time": "2021-11-28T00:01:28.752Z"
   },
   {
    "duration": 523,
    "start_time": "2021-11-28T00:01:29.158Z"
   },
   {
    "duration": 520,
    "start_time": "2021-11-28T00:03:08.386Z"
   },
   {
    "duration": 5,
    "start_time": "2021-11-28T00:03:27.859Z"
   },
   {
    "duration": 24,
    "start_time": "2021-11-28T00:03:27.866Z"
   },
   {
    "duration": 51,
    "start_time": "2021-11-28T00:03:27.892Z"
   },
   {
    "duration": 28,
    "start_time": "2021-11-28T00:03:27.945Z"
   },
   {
    "duration": 19,
    "start_time": "2021-11-28T00:03:27.975Z"
   },
   {
    "duration": 26,
    "start_time": "2021-11-28T00:03:27.995Z"
   },
   {
    "duration": 11,
    "start_time": "2021-11-28T00:03:28.023Z"
   },
   {
    "duration": 26,
    "start_time": "2021-11-28T00:03:28.036Z"
   },
   {
    "duration": 262,
    "start_time": "2021-11-28T00:03:28.065Z"
   },
   {
    "duration": 296,
    "start_time": "2021-11-28T00:03:28.329Z"
   },
   {
    "duration": 196,
    "start_time": "2021-11-28T00:03:28.627Z"
   },
   {
    "duration": 1040,
    "start_time": "2021-11-28T00:03:28.825Z"
   },
   {
    "duration": 442,
    "start_time": "2021-11-28T00:03:29.866Z"
   },
   {
    "duration": 660,
    "start_time": "2021-11-28T00:03:30.310Z"
   },
   {
    "duration": 3274,
    "start_time": "2021-11-28T00:03:30.972Z"
   },
   {
    "duration": 4,
    "start_time": "2021-11-28T00:03:34.248Z"
   },
   {
    "duration": 111,
    "start_time": "2021-11-28T00:03:34.254Z"
   },
   {
    "duration": 67285,
    "start_time": "2021-11-28T00:03:39.538Z"
   },
   {
    "duration": 3,
    "start_time": "2021-11-28T00:05:00.571Z"
   },
   {
    "duration": 5,
    "start_time": "2021-11-28T00:05:01.547Z"
   },
   {
    "duration": 3,
    "start_time": "2021-11-28T00:05:30.321Z"
   },
   {
    "duration": 15,
    "start_time": "2021-11-28T00:05:30.329Z"
   },
   {
    "duration": 57,
    "start_time": "2021-11-28T00:05:30.349Z"
   },
   {
    "duration": 2,
    "start_time": "2021-11-28T00:05:30.408Z"
   },
   {
    "duration": 25,
    "start_time": "2021-11-28T00:05:30.412Z"
   },
   {
    "duration": 9,
    "start_time": "2021-11-28T00:05:30.438Z"
   },
   {
    "duration": 21,
    "start_time": "2021-11-28T00:05:30.449Z"
   },
   {
    "duration": 27,
    "start_time": "2021-11-28T00:05:30.472Z"
   },
   {
    "duration": 276,
    "start_time": "2021-11-28T00:05:30.502Z"
   },
   {
    "duration": 397,
    "start_time": "2021-11-28T00:05:30.780Z"
   },
   {
    "duration": 189,
    "start_time": "2021-11-28T00:05:31.179Z"
   },
   {
    "duration": 1040,
    "start_time": "2021-11-28T00:05:31.370Z"
   },
   {
    "duration": 434,
    "start_time": "2021-11-28T00:05:32.412Z"
   },
   {
    "duration": 711,
    "start_time": "2021-11-28T00:05:32.848Z"
   },
   {
    "duration": 2584,
    "start_time": "2021-11-28T00:05:33.560Z"
   },
   {
    "duration": 11,
    "start_time": "2021-11-28T00:05:36.150Z"
   },
   {
    "duration": 92,
    "start_time": "2021-11-28T00:05:36.164Z"
   },
   {
    "duration": 301,
    "start_time": "2021-11-28T00:05:36.258Z"
   },
   {
    "duration": 326,
    "start_time": "2021-11-28T00:20:26.243Z"
   },
   {
    "duration": 3,
    "start_time": "2021-11-28T00:20:37.781Z"
   },
   {
    "duration": 3039,
    "start_time": "2021-11-28T00:20:37.785Z"
   },
   {
    "duration": 48,
    "start_time": "2021-11-28T00:20:40.826Z"
   },
   {
    "duration": 2,
    "start_time": "2021-11-28T00:20:40.876Z"
   },
   {
    "duration": 24,
    "start_time": "2021-11-28T00:20:40.879Z"
   },
   {
    "duration": 19,
    "start_time": "2021-11-28T00:20:40.905Z"
   },
   {
    "duration": 35,
    "start_time": "2021-11-28T00:20:40.926Z"
   },
   {
    "duration": 11,
    "start_time": "2021-11-28T00:20:40.963Z"
   },
   {
    "duration": 293,
    "start_time": "2021-11-28T00:20:40.975Z"
   },
   {
    "duration": 312,
    "start_time": "2021-11-28T00:20:41.270Z"
   },
   {
    "duration": 189,
    "start_time": "2021-11-28T00:20:41.583Z"
   },
   {
    "duration": 916,
    "start_time": "2021-11-28T00:20:41.774Z"
   },
   {
    "duration": 410,
    "start_time": "2021-11-28T00:20:42.691Z"
   },
   {
    "duration": 873,
    "start_time": "2021-11-28T00:20:43.103Z"
   },
   {
    "duration": 2982,
    "start_time": "2021-11-28T00:20:43.978Z"
   },
   {
    "duration": 85,
    "start_time": "2021-11-28T00:20:46.962Z"
   },
   {
    "duration": 10,
    "start_time": "2021-11-28T00:20:47.049Z"
   },
   {
    "duration": 399,
    "start_time": "2021-11-28T00:20:47.061Z"
   },
   {
    "duration": 1349098,
    "start_time": "2021-11-28T00:20:47.462Z"
   },
   {
    "duration": 4,
    "start_time": "2021-11-28T05:22:15.733Z"
   },
   {
    "duration": 1920,
    "start_time": "2021-11-28T05:22:15.739Z"
   },
   {
    "duration": -3715,
    "start_time": "2021-11-28T05:22:21.377Z"
   },
   {
    "duration": -3718,
    "start_time": "2021-11-28T05:22:21.382Z"
   },
   {
    "duration": -3806,
    "start_time": "2021-11-28T05:22:21.473Z"
   },
   {
    "duration": -3814,
    "start_time": "2021-11-28T05:22:21.483Z"
   },
   {
    "duration": -3814,
    "start_time": "2021-11-28T05:22:21.485Z"
   },
   {
    "duration": -3815,
    "start_time": "2021-11-28T05:22:21.488Z"
   },
   {
    "duration": -3815,
    "start_time": "2021-11-28T05:22:21.491Z"
   },
   {
    "duration": -3819,
    "start_time": "2021-11-28T05:22:21.497Z"
   },
   {
    "duration": -3819,
    "start_time": "2021-11-28T05:22:21.499Z"
   },
   {
    "duration": -3818,
    "start_time": "2021-11-28T05:22:21.501Z"
   },
   {
    "duration": -3818,
    "start_time": "2021-11-28T05:22:21.503Z"
   },
   {
    "duration": -3818,
    "start_time": "2021-11-28T05:22:21.505Z"
   },
   {
    "duration": 96,
    "start_time": "2021-11-28T05:23:05.929Z"
   },
   {
    "duration": 237,
    "start_time": "2021-11-28T05:23:26.292Z"
   },
   {
    "duration": 250,
    "start_time": "2021-11-28T05:23:34.114Z"
   },
   {
    "duration": 319,
    "start_time": "2021-11-28T05:23:46.074Z"
   },
   {
    "duration": 16137,
    "start_time": "2021-11-28T05:23:52.327Z"
   },
   {
    "duration": 3,
    "start_time": "2021-11-28T05:24:11.753Z"
   },
   {
    "duration": 714,
    "start_time": "2021-11-28T05:24:15.360Z"
   },
   {
    "duration": 57,
    "start_time": "2021-11-28T05:24:18.119Z"
   },
   {
    "duration": 4,
    "start_time": "2021-11-28T05:24:19.272Z"
   },
   {
    "duration": 9,
    "start_time": "2021-11-28T05:24:20.487Z"
   },
   {
    "duration": 6,
    "start_time": "2021-11-28T05:24:21.759Z"
   },
   {
    "duration": 15,
    "start_time": "2021-11-28T05:24:22.447Z"
   },
   {
    "duration": 97,
    "start_time": "2021-11-28T05:24:23.815Z"
   },
   {
    "duration": 437,
    "start_time": "2021-11-28T05:24:27.128Z"
   },
   {
    "duration": 492,
    "start_time": "2021-11-28T05:24:30.904Z"
   },
   {
    "duration": 286,
    "start_time": "2021-11-28T05:24:37.998Z"
   },
   {
    "duration": 1555,
    "start_time": "2021-11-28T05:24:42.706Z"
   },
   {
    "duration": 638,
    "start_time": "2021-11-28T05:24:50.191Z"
   },
   {
    "duration": 583,
    "start_time": "2021-11-28T05:25:04.176Z"
   },
   {
    "duration": 2387,
    "start_time": "2021-11-28T05:25:08.344Z"
   },
   {
    "duration": 6,
    "start_time": "2021-11-28T05:25:18.152Z"
   },
   {
    "duration": 6,
    "start_time": "2021-11-28T05:25:19.329Z"
   },
   {
    "duration": 567,
    "start_time": "2021-11-28T05:25:21.291Z"
   },
   {
    "duration": 310,
    "start_time": "2021-11-28T05:25:26.890Z"
   },
   {
    "duration": 277,
    "start_time": "2021-11-28T05:26:19.364Z"
   },
   {
    "duration": 2345,
    "start_time": "2021-11-28T05:27:15.127Z"
   },
   {
    "duration": 321,
    "start_time": "2021-11-28T05:27:24.781Z"
   },
   {
    "duration": 3393,
    "start_time": "2021-11-28T05:27:39.677Z"
   },
   {
    "duration": 2336,
    "start_time": "2021-11-28T05:27:45.525Z"
   },
   {
    "duration": 269,
    "start_time": "2021-11-28T05:27:50.244Z"
   },
   {
    "duration": 3058,
    "start_time": "2021-11-28T05:28:08.139Z"
   },
   {
    "duration": 263,
    "start_time": "2021-11-28T05:28:13.837Z"
   },
   {
    "duration": 262,
    "start_time": "2021-11-28T05:28:53.350Z"
   },
   {
    "duration": 4,
    "start_time": "2021-11-28T05:29:01.744Z"
   },
   {
    "duration": 3284,
    "start_time": "2021-11-28T05:29:01.751Z"
   },
   {
    "duration": 3043,
    "start_time": "2021-11-28T05:29:05.038Z"
   },
   {
    "duration": 2251,
    "start_time": "2021-11-28T05:29:08.084Z"
   },
   {
    "duration": 56,
    "start_time": "2021-11-28T05:29:10.337Z"
   },
   {
    "duration": 4,
    "start_time": "2021-11-28T05:29:10.396Z"
   },
   {
    "duration": 12,
    "start_time": "2021-11-28T05:29:10.402Z"
   },
   {
    "duration": 15,
    "start_time": "2021-11-28T05:29:10.416Z"
   },
   {
    "duration": 13,
    "start_time": "2021-11-28T05:29:10.435Z"
   },
   {
    "duration": 15,
    "start_time": "2021-11-28T05:29:10.451Z"
   },
   {
    "duration": 525,
    "start_time": "2021-11-28T05:29:10.468Z"
   },
   {
    "duration": 493,
    "start_time": "2021-11-28T05:29:10.995Z"
   },
   {
    "duration": 301,
    "start_time": "2021-11-28T05:29:11.490Z"
   },
   {
    "duration": 1417,
    "start_time": "2021-11-28T05:29:11.793Z"
   },
   {
    "duration": 648,
    "start_time": "2021-11-28T05:29:13.213Z"
   },
   {
    "duration": 772,
    "start_time": "2021-11-28T05:29:13.863Z"
   },
   {
    "duration": 2199,
    "start_time": "2021-11-28T05:29:14.638Z"
   },
   {
    "duration": 92,
    "start_time": "2021-11-28T05:29:16.840Z"
   },
   {
    "duration": 101,
    "start_time": "2021-11-28T05:29:16.936Z"
   },
   {
    "duration": 486,
    "start_time": "2021-11-28T05:29:17.040Z"
   },
   {
    "duration": 30888,
    "start_time": "2021-11-28T05:29:17.529Z"
   },
   {
    "duration": -4565,
    "start_time": "2021-11-28T05:29:52.985Z"
   },
   {
    "duration": -4568,
    "start_time": "2021-11-28T05:29:52.989Z"
   },
   {
    "duration": -4569,
    "start_time": "2021-11-28T05:29:52.992Z"
   },
   {
    "duration": -4570,
    "start_time": "2021-11-28T05:29:52.994Z"
   },
   {
    "duration": -4571,
    "start_time": "2021-11-28T05:29:52.996Z"
   },
   {
    "duration": -4571,
    "start_time": "2021-11-28T05:29:52.998Z"
   },
   {
    "duration": -4575,
    "start_time": "2021-11-28T05:29:53.003Z"
   },
   {
    "duration": 53219,
    "start_time": "2021-11-28T05:29:52.522Z"
   },
   {
    "duration": 4,
    "start_time": "2021-11-28T05:31:20.738Z"
   },
   {
    "duration": 7,
    "start_time": "2021-11-28T05:31:21.434Z"
   },
   {
    "duration": 290722,
    "start_time": "2021-11-28T05:31:35.435Z"
   },
   {
    "duration": 92082,
    "start_time": "2021-11-28T05:38:05.962Z"
   },
   {
    "duration": 5,
    "start_time": "2021-11-28T05:40:55.018Z"
   },
   {
    "duration": 6,
    "start_time": "2021-11-28T05:40:55.826Z"
   },
   {
    "duration": 6685,
    "start_time": "2021-11-28T05:47:13.147Z"
   },
   {
    "duration": 4,
    "start_time": "2021-11-28T05:47:26.562Z"
   },
   {
    "duration": 3585,
    "start_time": "2021-11-28T05:47:26.572Z"
   },
   {
    "duration": 3179,
    "start_time": "2021-11-28T05:47:30.160Z"
   },
   {
    "duration": 2251,
    "start_time": "2021-11-28T05:47:33.344Z"
   },
   {
    "duration": 57,
    "start_time": "2021-11-28T05:47:35.598Z"
   },
   {
    "duration": 4,
    "start_time": "2021-11-28T05:47:35.657Z"
   },
   {
    "duration": 17,
    "start_time": "2021-11-28T05:47:35.663Z"
   },
   {
    "duration": 5,
    "start_time": "2021-11-28T05:47:35.683Z"
   },
   {
    "duration": 44,
    "start_time": "2021-11-28T05:47:35.692Z"
   },
   {
    "duration": 17,
    "start_time": "2021-11-28T05:47:35.740Z"
   },
   {
    "duration": 465,
    "start_time": "2021-11-28T05:47:35.759Z"
   },
   {
    "duration": 495,
    "start_time": "2021-11-28T05:47:36.226Z"
   },
   {
    "duration": 318,
    "start_time": "2021-11-28T05:47:36.724Z"
   },
   {
    "duration": 1434,
    "start_time": "2021-11-28T05:47:37.045Z"
   },
   {
    "duration": 661,
    "start_time": "2021-11-28T05:47:38.481Z"
   },
   {
    "duration": 726,
    "start_time": "2021-11-28T05:47:39.144Z"
   },
   {
    "duration": 2356,
    "start_time": "2021-11-28T05:47:39.873Z"
   },
   {
    "duration": 96,
    "start_time": "2021-11-28T05:47:42.233Z"
   },
   {
    "duration": 10,
    "start_time": "2021-11-28T05:47:42.332Z"
   },
   {
    "duration": 495,
    "start_time": "2021-11-28T05:47:42.344Z"
   },
   {
    "duration": 858667,
    "start_time": "2021-11-28T05:47:42.841Z"
   },
   {
    "duration": 92121,
    "start_time": "2021-11-28T06:02:01.512Z"
   },
   {
    "duration": 4,
    "start_time": "2021-11-28T06:03:33.636Z"
   },
   {
    "duration": 13,
    "start_time": "2021-11-28T06:03:33.645Z"
   },
   {
    "duration": 10,
    "start_time": "2021-11-28T06:03:33.661Z"
   },
   {
    "duration": 5958,
    "start_time": "2021-11-28T06:03:33.673Z"
   },
   {
    "duration": 400,
    "start_time": "2021-11-28T06:03:39.635Z"
   },
   {
    "duration": 691,
    "start_time": "2021-11-28T06:03:40.038Z"
   },
   {
    "duration": 10,
    "start_time": "2021-11-28T06:11:53.242Z"
   },
   {
    "duration": 2707,
    "start_time": "2021-11-28T06:14:18.332Z"
   },
   {
    "duration": 719,
    "start_time": "2021-11-28T06:16:38.127Z"
   },
   {
    "duration": 1881,
    "start_time": "2021-11-28T06:16:50.764Z"
   },
   {
    "duration": 1265,
    "start_time": "2021-11-28T06:16:57.173Z"
   },
   {
    "duration": 458,
    "start_time": "2021-11-28T06:17:53.367Z"
   },
   {
    "duration": 289,
    "start_time": "2021-11-28T06:18:43.238Z"
   },
   {
    "duration": 269,
    "start_time": "2021-11-28T06:18:52.344Z"
   },
   {
    "duration": 284,
    "start_time": "2021-11-28T06:19:03.641Z"
   },
   {
    "duration": 3,
    "start_time": "2021-11-28T06:19:13.028Z"
   },
   {
    "duration": 3359,
    "start_time": "2021-11-28T06:19:13.034Z"
   },
   {
    "duration": 3100,
    "start_time": "2021-11-28T06:19:16.396Z"
   },
   {
    "duration": 9,
    "start_time": "2021-11-28T06:19:19.501Z"
   },
   {
    "duration": 65,
    "start_time": "2021-11-28T06:19:19.513Z"
   },
   {
    "duration": 5,
    "start_time": "2021-11-28T06:19:19.581Z"
   },
   {
    "duration": 15,
    "start_time": "2021-11-28T06:19:19.588Z"
   },
   {
    "duration": 24,
    "start_time": "2021-11-28T06:19:19.606Z"
   },
   {
    "duration": 11,
    "start_time": "2021-11-28T06:19:19.634Z"
   },
   {
    "duration": 23,
    "start_time": "2021-11-28T06:19:19.648Z"
   },
   {
    "duration": 481,
    "start_time": "2021-11-28T06:19:19.674Z"
   },
   {
    "duration": 496,
    "start_time": "2021-11-28T06:19:20.158Z"
   },
   {
    "duration": 310,
    "start_time": "2021-11-28T06:19:20.657Z"
   },
   {
    "duration": 1644,
    "start_time": "2021-11-28T06:19:20.970Z"
   },
   {
    "duration": 987,
    "start_time": "2021-11-28T06:19:22.617Z"
   },
   {
    "duration": 1025,
    "start_time": "2021-11-28T06:19:23.607Z"
   },
   {
    "duration": 97,
    "start_time": "2021-11-28T06:19:24.637Z"
   },
   {
    "duration": 8,
    "start_time": "2021-11-28T06:19:24.736Z"
   },
   {
    "duration": 8,
    "start_time": "2021-11-28T06:19:24.747Z"
   },
   {
    "duration": 172766,
    "start_time": "2021-11-28T06:19:59.138Z"
   },
   {
    "duration": 478,
    "start_time": "2021-11-28T06:24:32.552Z"
   },
   {
    "duration": 1960,
    "start_time": "2021-11-28T06:24:39.980Z"
   },
   {
    "duration": 4,
    "start_time": "2021-11-28T06:28:55.702Z"
   },
   {
    "duration": 5,
    "start_time": "2021-11-28T06:28:56.590Z"
   },
   {
    "duration": 786002,
    "start_time": "2021-11-28T06:29:28.802Z"
   },
   {
    "duration": 12,
    "start_time": "2021-11-28T06:43:29.841Z"
   },
   {
    "duration": 423,
    "start_time": "2021-11-28T06:43:38.633Z"
   },
   {
    "duration": 6,
    "start_time": "2021-11-28T06:44:50.601Z"
   },
   {
    "duration": 6,
    "start_time": "2021-11-28T06:45:10.295Z"
   },
   {
    "duration": 6288,
    "start_time": "2021-11-28T06:45:12.260Z"
   },
   {
    "duration": 4,
    "start_time": "2021-11-28T06:45:45.656Z"
   },
   {
    "duration": 3908,
    "start_time": "2021-11-28T06:45:45.663Z"
   },
   {
    "duration": 3288,
    "start_time": "2021-11-28T06:45:49.574Z"
   },
   {
    "duration": 7,
    "start_time": "2021-11-28T06:45:52.866Z"
   },
   {
    "duration": 66,
    "start_time": "2021-11-28T06:45:52.876Z"
   },
   {
    "duration": 3,
    "start_time": "2021-11-28T06:45:52.945Z"
   },
   {
    "duration": 13,
    "start_time": "2021-11-28T06:45:52.950Z"
   },
   {
    "duration": 6,
    "start_time": "2021-11-28T06:45:52.965Z"
   },
   {
    "duration": 11,
    "start_time": "2021-11-28T06:45:52.975Z"
   },
   {
    "duration": 62,
    "start_time": "2021-11-28T06:45:52.989Z"
   },
   {
    "duration": 518,
    "start_time": "2021-11-28T06:45:53.053Z"
   },
   {
    "duration": 674,
    "start_time": "2021-11-28T06:45:53.574Z"
   },
   {
    "duration": 331,
    "start_time": "2021-11-28T06:45:54.251Z"
   },
   {
    "duration": 1598,
    "start_time": "2021-11-28T06:45:54.585Z"
   },
   {
    "duration": 988,
    "start_time": "2021-11-28T06:45:56.186Z"
   },
   {
    "duration": 1960,
    "start_time": "2021-11-28T06:45:57.176Z"
   },
   {
    "duration": 692,
    "start_time": "2021-11-28T06:45:59.139Z"
   },
   {
    "duration": 16,
    "start_time": "2021-11-28T06:45:59.928Z"
   },
   {
    "duration": 9,
    "start_time": "2021-11-28T06:45:59.946Z"
   },
   {
    "duration": 6,
    "start_time": "2021-11-28T06:46:10.606Z"
   },
   {
    "duration": 9678,
    "start_time": "2021-11-28T06:46:11.356Z"
   },
   {
    "duration": 786,
    "start_time": "2021-11-28T06:47:05.559Z"
   },
   {
    "duration": 559,
    "start_time": "2021-11-28T06:47:29.478Z"
   },
   {
    "duration": 274,
    "start_time": "2021-11-28T06:48:17.142Z"
   },
   {
    "duration": 3,
    "start_time": "2021-11-28T06:48:38.718Z"
   },
   {
    "duration": 3577,
    "start_time": "2021-11-28T06:48:38.723Z"
   },
   {
    "duration": 3444,
    "start_time": "2021-11-28T06:48:42.304Z"
   },
   {
    "duration": 7,
    "start_time": "2021-11-28T06:48:45.751Z"
   },
   {
    "duration": 60,
    "start_time": "2021-11-28T06:48:45.761Z"
   },
   {
    "duration": 3,
    "start_time": "2021-11-28T06:48:45.823Z"
   },
   {
    "duration": 21,
    "start_time": "2021-11-28T06:48:45.829Z"
   },
   {
    "duration": 6,
    "start_time": "2021-11-28T06:48:45.853Z"
   },
   {
    "duration": 14,
    "start_time": "2021-11-28T06:48:45.863Z"
   },
   {
    "duration": 68,
    "start_time": "2021-11-28T06:48:45.880Z"
   },
   {
    "duration": 507,
    "start_time": "2021-11-28T06:48:45.950Z"
   },
   {
    "duration": 702,
    "start_time": "2021-11-28T06:48:46.459Z"
   },
   {
    "duration": 327,
    "start_time": "2021-11-28T06:48:47.163Z"
   },
   {
    "duration": 1669,
    "start_time": "2021-11-28T06:48:47.493Z"
   },
   {
    "duration": 1070,
    "start_time": "2021-11-28T06:48:49.165Z"
   },
   {
    "duration": 2089,
    "start_time": "2021-11-28T06:48:50.239Z"
   },
   {
    "duration": 601,
    "start_time": "2021-11-28T06:48:52.332Z"
   },
   {
    "duration": 90,
    "start_time": "2021-11-28T06:48:52.945Z"
   },
   {
    "duration": 9,
    "start_time": "2021-11-28T06:48:53.039Z"
   },
   {
    "duration": 141262,
    "start_time": "2021-11-28T06:48:58.361Z"
   },
   {
    "duration": 4,
    "start_time": "2021-11-28T06:53:48.265Z"
   },
   {
    "duration": 6,
    "start_time": "2021-11-28T06:53:48.915Z"
   },
   {
    "duration": 4,
    "start_time": "2021-11-28T06:54:25.491Z"
   },
   {
    "duration": 3693,
    "start_time": "2021-11-28T06:54:25.497Z"
   },
   {
    "duration": 3510,
    "start_time": "2021-11-28T06:54:29.194Z"
   },
   {
    "duration": 1509,
    "start_time": "2021-11-28T06:54:32.707Z"
   },
   {
    "duration": -3969,
    "start_time": "2021-11-28T06:54:38.189Z"
   },
   {
    "duration": -3972,
    "start_time": "2021-11-28T06:54:38.193Z"
   },
   {
    "duration": -3973,
    "start_time": "2021-11-28T06:54:38.195Z"
   },
   {
    "duration": -3973,
    "start_time": "2021-11-28T06:54:38.197Z"
   },
   {
    "duration": -3973,
    "start_time": "2021-11-28T06:54:38.199Z"
   },
   {
    "duration": -3974,
    "start_time": "2021-11-28T06:54:38.201Z"
   },
   {
    "duration": -3975,
    "start_time": "2021-11-28T06:54:38.203Z"
   },
   {
    "duration": -3974,
    "start_time": "2021-11-28T06:54:38.205Z"
   },
   {
    "duration": -3972,
    "start_time": "2021-11-28T06:54:38.207Z"
   },
   {
    "duration": -3973,
    "start_time": "2021-11-28T06:54:38.210Z"
   },
   {
    "duration": -3973,
    "start_time": "2021-11-28T06:54:38.212Z"
   },
   {
    "duration": -3973,
    "start_time": "2021-11-28T06:54:38.214Z"
   },
   {
    "duration": -3973,
    "start_time": "2021-11-28T06:54:38.217Z"
   },
   {
    "duration": -3975,
    "start_time": "2021-11-28T06:54:38.221Z"
   },
   {
    "duration": -3975,
    "start_time": "2021-11-28T06:54:38.224Z"
   },
   {
    "duration": -3976,
    "start_time": "2021-11-28T06:54:38.227Z"
   },
   {
    "duration": -4236,
    "start_time": "2021-11-28T06:54:38.488Z"
   },
   {
    "duration": -4237,
    "start_time": "2021-11-28T06:54:38.490Z"
   },
   {
    "duration": -4239,
    "start_time": "2021-11-28T06:54:38.493Z"
   },
   {
    "duration": -4238,
    "start_time": "2021-11-28T06:54:38.494Z"
   },
   {
    "duration": -4239,
    "start_time": "2021-11-28T06:54:38.496Z"
   },
   {
    "duration": -4239,
    "start_time": "2021-11-28T06:54:38.498Z"
   },
   {
    "duration": -4239,
    "start_time": "2021-11-28T06:54:38.499Z"
   },
   {
    "duration": -4239,
    "start_time": "2021-11-28T06:54:38.501Z"
   },
   {
    "duration": 4,
    "start_time": "2021-11-28T06:54:50.480Z"
   },
   {
    "duration": 13,
    "start_time": "2021-11-28T06:54:50.487Z"
   },
   {
    "duration": 10,
    "start_time": "2021-11-28T06:54:50.503Z"
   },
   {
    "duration": 2325,
    "start_time": "2021-11-28T06:54:50.516Z"
   },
   {
    "duration": 55,
    "start_time": "2021-11-28T06:54:52.843Z"
   },
   {
    "duration": 3,
    "start_time": "2021-11-28T06:54:52.901Z"
   },
   {
    "duration": 27,
    "start_time": "2021-11-28T06:54:52.906Z"
   },
   {
    "duration": 5,
    "start_time": "2021-11-28T06:54:52.937Z"
   },
   {
    "duration": 16,
    "start_time": "2021-11-28T06:54:52.945Z"
   },
   {
    "duration": 18,
    "start_time": "2021-11-28T06:54:52.964Z"
   },
   {
    "duration": 506,
    "start_time": "2021-11-28T06:54:52.985Z"
   },
   {
    "duration": 485,
    "start_time": "2021-11-28T06:54:53.494Z"
   },
   {
    "duration": 299,
    "start_time": "2021-11-28T06:54:53.982Z"
   },
   {
    "duration": 1427,
    "start_time": "2021-11-28T06:54:54.283Z"
   },
   {
    "duration": 1080,
    "start_time": "2021-11-28T06:54:55.713Z"
   },
   {
    "duration": 2334,
    "start_time": "2021-11-28T06:54:56.795Z"
   },
   {
    "duration": 597,
    "start_time": "2021-11-28T06:54:59.133Z"
   },
   {
    "duration": 94,
    "start_time": "2021-11-28T06:54:59.736Z"
   },
   {
    "duration": 9,
    "start_time": "2021-11-28T06:54:59.833Z"
   },
   {
    "duration": 507,
    "start_time": "2021-11-28T06:54:59.845Z"
   },
   {
    "duration": 943802,
    "start_time": "2021-11-28T06:55:00.354Z"
   },
   {
    "duration": 175355,
    "start_time": "2021-11-28T07:10:44.160Z"
   },
   {
    "duration": 12,
    "start_time": "2021-11-28T07:13:39.519Z"
   },
   {
    "duration": 10,
    "start_time": "2021-11-28T07:13:39.535Z"
   },
   {
    "duration": 7,
    "start_time": "2021-11-28T07:13:39.547Z"
   },
   {
    "duration": 9174,
    "start_time": "2021-11-28T07:13:39.556Z"
   },
   {
    "duration": 702,
    "start_time": "2021-11-28T07:13:48.734Z"
   },
   {
    "duration": 666,
    "start_time": "2021-11-28T07:13:49.443Z"
   },
   {
    "duration": 43,
    "start_time": "2021-11-28T07:15:12.371Z"
   },
   {
    "duration": 406,
    "start_time": "2021-11-28T07:15:53.828Z"
   },
   {
    "duration": 423,
    "start_time": "2021-11-28T07:16:09.411Z"
   },
   {
    "duration": 3,
    "start_time": "2021-11-28T07:17:19.575Z"
   },
   {
    "duration": 9,
    "start_time": "2021-11-28T07:17:19.581Z"
   },
   {
    "duration": 6,
    "start_time": "2021-11-28T07:17:19.593Z"
   },
   {
    "duration": 8,
    "start_time": "2021-11-28T07:17:19.601Z"
   },
   {
    "duration": 63,
    "start_time": "2021-11-28T07:17:19.612Z"
   },
   {
    "duration": 3,
    "start_time": "2021-11-28T07:17:19.677Z"
   },
   {
    "duration": 15,
    "start_time": "2021-11-28T07:17:19.682Z"
   },
   {
    "duration": 5,
    "start_time": "2021-11-28T07:17:19.700Z"
   },
   {
    "duration": 24,
    "start_time": "2021-11-28T07:17:19.709Z"
   },
   {
    "duration": 19,
    "start_time": "2021-11-28T07:17:19.736Z"
   },
   {
    "duration": 458,
    "start_time": "2021-11-28T07:17:19.758Z"
   },
   {
    "duration": 483,
    "start_time": "2021-11-28T07:17:20.218Z"
   },
   {
    "duration": 332,
    "start_time": "2021-11-28T07:17:20.704Z"
   },
   {
    "duration": 1522,
    "start_time": "2021-11-28T07:17:21.040Z"
   },
   {
    "duration": 1082,
    "start_time": "2021-11-28T07:17:22.565Z"
   },
   {
    "duration": 2081,
    "start_time": "2021-11-28T07:17:23.650Z"
   },
   {
    "duration": 696,
    "start_time": "2021-11-28T07:17:25.734Z"
   },
   {
    "duration": 96,
    "start_time": "2021-11-28T07:17:26.436Z"
   },
   {
    "duration": 12,
    "start_time": "2021-11-28T07:17:26.536Z"
   },
   {
    "duration": 6,
    "start_time": "2021-11-28T07:17:32.476Z"
   },
   {
    "duration": 8343,
    "start_time": "2021-11-28T07:17:33.790Z"
   },
   {
    "duration": 469,
    "start_time": "2021-11-28T07:17:55.262Z"
   },
   {
    "duration": 3,
    "start_time": "2021-11-28T07:18:38.665Z"
   },
   {
    "duration": 16,
    "start_time": "2021-11-28T07:18:38.670Z"
   },
   {
    "duration": 12,
    "start_time": "2021-11-28T07:18:38.689Z"
   },
   {
    "duration": 39,
    "start_time": "2021-11-28T07:18:38.703Z"
   },
   {
    "duration": 78,
    "start_time": "2021-11-28T07:18:38.744Z"
   },
   {
    "duration": 4,
    "start_time": "2021-11-28T07:18:38.824Z"
   },
   {
    "duration": 14,
    "start_time": "2021-11-28T07:18:38.830Z"
   },
   {
    "duration": 6,
    "start_time": "2021-11-28T07:18:38.848Z"
   },
   {
    "duration": 33,
    "start_time": "2021-11-28T07:18:38.857Z"
   },
   {
    "duration": 35,
    "start_time": "2021-11-28T07:18:38.892Z"
   },
   {
    "duration": 459,
    "start_time": "2021-11-28T07:18:38.929Z"
   },
   {
    "duration": 479,
    "start_time": "2021-11-28T07:18:39.390Z"
   },
   {
    "duration": 322,
    "start_time": "2021-11-28T07:18:39.871Z"
   },
   {
    "duration": 1549,
    "start_time": "2021-11-28T07:18:40.195Z"
   },
   {
    "duration": 1092,
    "start_time": "2021-11-28T07:18:41.747Z"
   },
   {
    "duration": 1893,
    "start_time": "2021-11-28T07:18:42.841Z"
   },
   {
    "duration": 693,
    "start_time": "2021-11-28T07:18:44.738Z"
   },
   {
    "duration": 96,
    "start_time": "2021-11-28T07:18:45.435Z"
   },
   {
    "duration": 16,
    "start_time": "2021-11-28T07:18:45.533Z"
   },
   {
    "duration": 6,
    "start_time": "2021-11-28T07:18:50.964Z"
   },
   {
    "duration": 146,
    "start_time": "2021-11-28T07:18:54.384Z"
   },
   {
    "duration": 168,
    "start_time": "2021-11-28T07:19:10.382Z"
   },
   {
    "duration": 3,
    "start_time": "2021-11-28T07:19:45.152Z"
   },
   {
    "duration": 6,
    "start_time": "2021-11-28T07:19:45.159Z"
   },
   {
    "duration": 8,
    "start_time": "2021-11-28T07:19:45.169Z"
   },
   {
    "duration": 14,
    "start_time": "2021-11-28T07:19:45.179Z"
   },
   {
    "duration": 60,
    "start_time": "2021-11-28T07:19:45.196Z"
   },
   {
    "duration": 4,
    "start_time": "2021-11-28T07:19:45.259Z"
   },
   {
    "duration": 14,
    "start_time": "2021-11-28T07:19:45.266Z"
   },
   {
    "duration": 7,
    "start_time": "2021-11-28T07:19:45.283Z"
   },
   {
    "duration": 42,
    "start_time": "2021-11-28T07:19:45.293Z"
   },
   {
    "duration": 19,
    "start_time": "2021-11-28T07:19:45.338Z"
   },
   {
    "duration": 478,
    "start_time": "2021-11-28T07:19:45.360Z"
   },
   {
    "duration": 550,
    "start_time": "2021-11-28T07:19:45.841Z"
   },
   {
    "duration": 323,
    "start_time": "2021-11-28T07:19:46.393Z"
   },
   {
    "duration": 1639,
    "start_time": "2021-11-28T07:19:46.719Z"
   },
   {
    "duration": 1167,
    "start_time": "2021-11-28T07:19:48.362Z"
   },
   {
    "duration": 2015,
    "start_time": "2021-11-28T07:19:49.533Z"
   },
   {
    "duration": 712,
    "start_time": "2021-11-28T07:19:51.630Z"
   },
   {
    "duration": 88,
    "start_time": "2021-11-28T07:19:52.346Z"
   },
   {
    "duration": 109,
    "start_time": "2021-11-28T07:19:52.441Z"
   },
   {
    "duration": 7,
    "start_time": "2021-11-28T07:19:58.942Z"
   },
   {
    "duration": 568,
    "start_time": "2021-11-28T07:20:02.367Z"
   },
   {
    "duration": 8,
    "start_time": "2021-11-28T07:20:20.702Z"
   },
   {
    "duration": 6,
    "start_time": "2021-11-28T07:20:30.551Z"
   },
   {
    "duration": 10107,
    "start_time": "2021-11-28T07:20:31.328Z"
   },
   {
    "duration": 484,
    "start_time": "2021-11-28T07:20:44.255Z"
   },
   {
    "duration": 543,
    "start_time": "2021-11-28T07:20:48.999Z"
   },
   {
    "duration": 5,
    "start_time": "2021-11-28T07:22:09.812Z"
   },
   {
    "duration": 7,
    "start_time": "2021-11-28T07:22:09.819Z"
   },
   {
    "duration": 15,
    "start_time": "2021-11-28T07:22:09.830Z"
   },
   {
    "duration": 2562,
    "start_time": "2021-11-28T07:22:09.849Z"
   },
   {
    "duration": 62,
    "start_time": "2021-11-28T07:22:12.413Z"
   },
   {
    "duration": 4,
    "start_time": "2021-11-28T07:22:12.477Z"
   },
   {
    "duration": 17,
    "start_time": "2021-11-28T07:22:12.483Z"
   },
   {
    "duration": 30,
    "start_time": "2021-11-28T07:22:12.502Z"
   },
   {
    "duration": 16,
    "start_time": "2021-11-28T07:22:12.539Z"
   },
   {
    "duration": 18,
    "start_time": "2021-11-28T07:22:12.558Z"
   },
   {
    "duration": 523,
    "start_time": "2021-11-28T07:22:12.578Z"
   },
   {
    "duration": 530,
    "start_time": "2021-11-28T07:22:13.103Z"
   },
   {
    "duration": 329,
    "start_time": "2021-11-28T07:22:13.637Z"
   },
   {
    "duration": 1775,
    "start_time": "2021-11-28T07:22:13.969Z"
   },
   {
    "duration": 1119,
    "start_time": "2021-11-28T07:22:15.747Z"
   },
   {
    "duration": 2362,
    "start_time": "2021-11-28T07:22:16.869Z"
   },
   {
    "duration": 600,
    "start_time": "2021-11-28T07:22:19.234Z"
   },
   {
    "duration": 91,
    "start_time": "2021-11-28T07:22:19.840Z"
   },
   {
    "duration": 10,
    "start_time": "2021-11-28T07:22:19.940Z"
   },
   {
    "duration": 542,
    "start_time": "2021-11-28T07:22:19.953Z"
   },
   {
    "duration": 13871,
    "start_time": "2021-11-28T07:22:20.497Z"
   },
   {
    "duration": -4299,
    "start_time": "2021-11-28T07:22:38.671Z"
   },
   {
    "duration": -4299,
    "start_time": "2021-11-28T07:22:38.673Z"
   },
   {
    "duration": -4301,
    "start_time": "2021-11-28T07:22:38.677Z"
   },
   {
    "duration": -4302,
    "start_time": "2021-11-28T07:22:38.681Z"
   },
   {
    "duration": -4302,
    "start_time": "2021-11-28T07:22:38.683Z"
   },
   {
    "duration": -4408,
    "start_time": "2021-11-28T07:22:38.791Z"
   },
   {
    "duration": -4411,
    "start_time": "2021-11-28T07:22:38.796Z"
   },
   {
    "duration": 6819,
    "start_time": "2021-11-28T07:29:22.800Z"
   },
   {
    "duration": 369,
    "start_time": "2021-11-28T07:31:31.216Z"
   },
   {
    "duration": 3,
    "start_time": "2021-11-28T07:31:46.078Z"
   },
   {
    "duration": 8,
    "start_time": "2021-11-28T07:31:46.084Z"
   },
   {
    "duration": 5,
    "start_time": "2021-11-28T07:31:46.094Z"
   },
   {
    "duration": 13,
    "start_time": "2021-11-28T07:31:46.102Z"
   },
   {
    "duration": 58,
    "start_time": "2021-11-28T07:31:46.117Z"
   },
   {
    "duration": 5,
    "start_time": "2021-11-28T07:31:46.328Z"
   },
   {
    "duration": 14,
    "start_time": "2021-11-28T07:31:46.336Z"
   },
   {
    "duration": 5,
    "start_time": "2021-11-28T07:31:46.353Z"
   },
   {
    "duration": 15,
    "start_time": "2021-11-28T07:31:46.360Z"
   },
   {
    "duration": 15,
    "start_time": "2021-11-28T07:31:46.378Z"
   },
   {
    "duration": 526,
    "start_time": "2021-11-28T07:31:46.396Z"
   },
   {
    "duration": 279,
    "start_time": "2021-11-28T07:31:56.114Z"
   },
   {
    "duration": 538,
    "start_time": "2021-11-28T07:32:05.938Z"
   },
   {
    "duration": 541,
    "start_time": "2021-11-28T07:33:26.182Z"
   },
   {
    "duration": 2115,
    "start_time": "2021-11-28T07:35:07.951Z"
   },
   {
    "duration": 1610,
    "start_time": "2021-11-28T07:35:24.358Z"
   },
   {
    "duration": 5,
    "start_time": "2021-11-28T07:46:29.040Z"
   },
   {
    "duration": 7,
    "start_time": "2021-11-28T07:46:29.048Z"
   },
   {
    "duration": 8,
    "start_time": "2021-11-28T07:46:29.058Z"
   },
   {
    "duration": 2596,
    "start_time": "2021-11-28T07:46:29.069Z"
   },
   {
    "duration": 55,
    "start_time": "2021-11-28T07:46:31.668Z"
   },
   {
    "duration": 9,
    "start_time": "2021-11-28T07:46:31.726Z"
   },
   {
    "duration": 14,
    "start_time": "2021-11-28T07:46:31.739Z"
   },
   {
    "duration": 6,
    "start_time": "2021-11-28T07:46:31.757Z"
   },
   {
    "duration": 20,
    "start_time": "2021-11-28T07:46:31.765Z"
   },
   {
    "duration": 45,
    "start_time": "2021-11-28T07:46:31.787Z"
   },
   {
    "duration": 506,
    "start_time": "2021-11-28T07:46:31.835Z"
   },
   {
    "duration": 557,
    "start_time": "2021-11-28T07:46:32.345Z"
   },
   {
    "duration": 320,
    "start_time": "2021-11-28T07:46:32.905Z"
   },
   {
    "duration": 1622,
    "start_time": "2021-11-28T07:46:33.228Z"
   },
   {
    "duration": 1210,
    "start_time": "2021-11-28T07:46:34.852Z"
   },
   {
    "duration": 2281,
    "start_time": "2021-11-28T07:46:36.064Z"
   },
   {
    "duration": 515,
    "start_time": "2021-11-28T07:46:38.428Z"
   },
   {
    "duration": 92,
    "start_time": "2021-11-28T07:46:38.946Z"
   },
   {
    "duration": 94,
    "start_time": "2021-11-28T07:46:39.046Z"
   },
   {
    "duration": 513,
    "start_time": "2021-11-28T07:46:39.144Z"
   },
   {
    "duration": 900128,
    "start_time": "2021-11-28T07:46:39.660Z"
   },
   {
    "duration": 171468,
    "start_time": "2021-11-28T08:01:39.791Z"
   },
   {
    "duration": 4,
    "start_time": "2021-11-28T08:04:31.263Z"
   },
   {
    "duration": 26,
    "start_time": "2021-11-28T08:04:31.270Z"
   },
   {
    "duration": 25,
    "start_time": "2021-11-28T08:04:31.299Z"
   },
   {
    "duration": 8110,
    "start_time": "2021-11-28T08:04:31.327Z"
   },
   {
    "duration": 603,
    "start_time": "2021-11-28T08:04:39.531Z"
   },
   {
    "duration": 637,
    "start_time": "2021-11-28T08:04:40.138Z"
   },
   {
    "duration": 4,
    "start_time": "2021-11-28T17:07:31.588Z"
   },
   {
    "duration": 15,
    "start_time": "2021-11-28T17:07:31.595Z"
   },
   {
    "duration": 6,
    "start_time": "2021-11-28T17:07:31.613Z"
   },
   {
    "duration": 2107,
    "start_time": "2021-11-28T17:07:31.623Z"
   },
   {
    "duration": -3443,
    "start_time": "2021-11-28T17:07:37.177Z"
   },
   {
    "duration": -3445,
    "start_time": "2021-11-28T17:07:37.182Z"
   },
   {
    "duration": -3717,
    "start_time": "2021-11-28T17:07:37.456Z"
   },
   {
    "duration": -3725,
    "start_time": "2021-11-28T17:07:37.466Z"
   },
   {
    "duration": -3725,
    "start_time": "2021-11-28T17:07:37.468Z"
   },
   {
    "duration": -3724,
    "start_time": "2021-11-28T17:07:37.470Z"
   },
   {
    "duration": -3725,
    "start_time": "2021-11-28T17:07:37.473Z"
   },
   {
    "duration": -3726,
    "start_time": "2021-11-28T17:07:37.476Z"
   },
   {
    "duration": -3725,
    "start_time": "2021-11-28T17:07:37.478Z"
   },
   {
    "duration": -3726,
    "start_time": "2021-11-28T17:07:37.481Z"
   },
   {
    "duration": -3726,
    "start_time": "2021-11-28T17:07:37.483Z"
   },
   {
    "duration": -3726,
    "start_time": "2021-11-28T17:07:37.486Z"
   },
   {
    "duration": -3726,
    "start_time": "2021-11-28T17:07:37.488Z"
   },
   {
    "duration": -3726,
    "start_time": "2021-11-28T17:07:37.490Z"
   },
   {
    "duration": -3727,
    "start_time": "2021-11-28T17:07:37.493Z"
   },
   {
    "duration": 372,
    "start_time": "2021-11-28T17:07:57.280Z"
   },
   {
    "duration": 3,
    "start_time": "2021-11-28T17:08:28.361Z"
   },
   {
    "duration": 4667,
    "start_time": "2021-11-28T17:08:28.368Z"
   },
   {
    "duration": 3786,
    "start_time": "2021-11-28T17:08:33.039Z"
   },
   {
    "duration": 368,
    "start_time": "2021-11-28T17:08:36.828Z"
   },
   {
    "duration": -3451,
    "start_time": "2021-11-28T17:08:40.650Z"
   },
   {
    "duration": -3452,
    "start_time": "2021-11-28T17:08:40.653Z"
   },
   {
    "duration": -3457,
    "start_time": "2021-11-28T17:08:40.659Z"
   },
   {
    "duration": -3743,
    "start_time": "2021-11-28T17:08:40.946Z"
   },
   {
    "duration": -3750,
    "start_time": "2021-11-28T17:08:40.955Z"
   },
   {
    "duration": -3753,
    "start_time": "2021-11-28T17:08:40.959Z"
   },
   {
    "duration": -3755,
    "start_time": "2021-11-28T17:08:40.962Z"
   },
   {
    "duration": -3755,
    "start_time": "2021-11-28T17:08:40.964Z"
   },
   {
    "duration": -3757,
    "start_time": "2021-11-28T17:08:40.967Z"
   },
   {
    "duration": -3757,
    "start_time": "2021-11-28T17:08:40.969Z"
   },
   {
    "duration": -3758,
    "start_time": "2021-11-28T17:08:40.971Z"
   },
   {
    "duration": -3760,
    "start_time": "2021-11-28T17:08:40.974Z"
   },
   {
    "duration": -3760,
    "start_time": "2021-11-28T17:08:40.976Z"
   },
   {
    "duration": -3763,
    "start_time": "2021-11-28T17:08:40.980Z"
   },
   {
    "duration": -3763,
    "start_time": "2021-11-28T17:08:40.982Z"
   },
   {
    "duration": 17638,
    "start_time": "2021-11-28T17:08:47.850Z"
   },
   {
    "duration": 4140,
    "start_time": "2021-11-28T17:09:07.626Z"
   },
   {
    "duration": 3250,
    "start_time": "2021-11-28T17:09:13.698Z"
   },
   {
    "duration": 383,
    "start_time": "2021-11-28T17:09:21.749Z"
   },
   {
    "duration": 404,
    "start_time": "2021-11-28T17:09:54.723Z"
   },
   {
    "duration": 873,
    "start_time": "2021-11-28T17:10:16.293Z"
   },
   {
    "duration": 57,
    "start_time": "2021-11-28T17:10:21.196Z"
   },
   {
    "duration": 4,
    "start_time": "2021-11-28T17:10:23.931Z"
   },
   {
    "duration": 10,
    "start_time": "2021-11-28T17:10:25.404Z"
   },
   {
    "duration": 6,
    "start_time": "2021-11-28T17:10:27.364Z"
   },
   {
    "duration": 15,
    "start_time": "2021-11-28T17:10:28.580Z"
   },
   {
    "duration": 94,
    "start_time": "2021-11-28T17:10:32.699Z"
   },
   {
    "duration": 456,
    "start_time": "2021-11-28T17:10:35.411Z"
   },
   {
    "duration": 506,
    "start_time": "2021-11-28T17:10:37.796Z"
   },
   {
    "duration": 278,
    "start_time": "2021-11-28T17:10:41.466Z"
   },
   {
    "duration": 1667,
    "start_time": "2021-11-28T17:10:46.604Z"
   },
   {
    "duration": 957,
    "start_time": "2021-11-28T17:10:55.596Z"
   },
   {
    "duration": 2395,
    "start_time": "2021-11-28T17:11:00.966Z"
   },
   {
    "duration": 575,
    "start_time": "2021-11-28T17:11:05.791Z"
   },
   {
    "duration": 6,
    "start_time": "2021-11-28T17:11:09.923Z"
   },
   {
    "duration": 7,
    "start_time": "2021-11-28T17:11:12.257Z"
   },
   {
    "duration": 693,
    "start_time": "2021-11-28T17:11:37.241Z"
   },
   {
    "duration": 415,
    "start_time": "2021-11-28T17:11:45.464Z"
   },
   {
    "duration": 377,
    "start_time": "2021-11-28T17:12:04.030Z"
   },
   {
    "duration": 3330,
    "start_time": "2021-11-28T17:12:50.277Z"
   },
   {
    "duration": 561,
    "start_time": "2021-11-28T17:12:55.552Z"
   },
   {
    "duration": 122,
    "start_time": "2021-11-28T17:14:02.778Z"
   },
   {
    "duration": 3492,
    "start_time": "2021-11-28T17:14:09.077Z"
   },
   {
    "duration": 3598,
    "start_time": "2021-11-28T17:14:23.555Z"
   },
   {
    "duration": 3576,
    "start_time": "2021-11-28T17:14:27.156Z"
   },
   {
    "duration": 3373,
    "start_time": "2021-11-28T17:14:30.737Z"
   },
   {
    "duration": 2529,
    "start_time": "2021-11-28T17:14:34.114Z"
   },
   {
    "duration": 58,
    "start_time": "2021-11-28T17:14:36.645Z"
   },
   {
    "duration": 4,
    "start_time": "2021-11-28T17:14:36.706Z"
   },
   {
    "duration": 13,
    "start_time": "2021-11-28T17:14:36.714Z"
   },
   {
    "duration": 32,
    "start_time": "2021-11-28T17:14:36.731Z"
   },
   {
    "duration": 19,
    "start_time": "2021-11-28T17:14:36.768Z"
   },
   {
    "duration": 25,
    "start_time": "2021-11-28T17:14:36.791Z"
   },
   {
    "duration": 486,
    "start_time": "2021-11-28T17:14:36.819Z"
   },
   {
    "duration": 553,
    "start_time": "2021-11-28T17:14:37.308Z"
   },
   {
    "duration": 329,
    "start_time": "2021-11-28T17:14:37.864Z"
   },
   {
    "duration": 1444,
    "start_time": "2021-11-28T17:14:38.196Z"
   },
   {
    "duration": 1210,
    "start_time": "2021-11-28T17:14:39.643Z"
   },
   {
    "duration": 3130,
    "start_time": "2021-11-28T17:14:40.855Z"
   },
   {
    "duration": 607,
    "start_time": "2021-11-28T17:14:44.061Z"
   },
   {
    "duration": 93,
    "start_time": "2021-11-28T17:14:44.671Z"
   },
   {
    "duration": 99,
    "start_time": "2021-11-28T17:14:44.768Z"
   },
   {
    "duration": 497,
    "start_time": "2021-11-28T17:14:44.870Z"
   },
   {
    "duration": 7850,
    "start_time": "2021-11-28T17:14:45.369Z"
   },
   {
    "duration": -3952,
    "start_time": "2021-11-28T17:14:57.174Z"
   },
   {
    "duration": -3952,
    "start_time": "2021-11-28T17:14:57.176Z"
   },
   {
    "duration": -3954,
    "start_time": "2021-11-28T17:14:57.179Z"
   },
   {
    "duration": -3954,
    "start_time": "2021-11-28T17:14:57.181Z"
   },
   {
    "duration": -3954,
    "start_time": "2021-11-28T17:14:57.183Z"
   },
   {
    "duration": -3956,
    "start_time": "2021-11-28T17:14:57.186Z"
   },
   {
    "duration": -3956,
    "start_time": "2021-11-28T17:14:57.188Z"
   },
   {
    "duration": 173785,
    "start_time": "2021-11-28T17:14:59.008Z"
   },
   {
    "duration": 6,
    "start_time": "2021-11-28T17:18:16.154Z"
   },
   {
    "duration": 172869,
    "start_time": "2021-11-28T17:18:22.363Z"
   },
   {
    "duration": 173631,
    "start_time": "2021-11-28T17:28:56.835Z"
   },
   {
    "duration": 10,
    "start_time": "2021-11-28T17:32:03.209Z"
   },
   {
    "duration": 131,
    "start_time": "2021-11-28T17:32:25.428Z"
   },
   {
    "duration": 7,
    "start_time": "2021-11-28T17:32:30.310Z"
   },
   {
    "duration": 3451,
    "start_time": "2021-11-28T17:49:56.279Z"
   },
   {
    "duration": 3673,
    "start_time": "2021-11-28T17:49:59.733Z"
   },
   {
    "duration": 3238,
    "start_time": "2021-11-28T17:50:03.410Z"
   },
   {
    "duration": 3683,
    "start_time": "2021-11-28T17:50:06.651Z"
   },
   {
    "duration": 124,
    "start_time": "2021-11-28T17:50:10.336Z"
   },
   {
    "duration": 3,
    "start_time": "2021-11-28T17:50:10.463Z"
   },
   {
    "duration": 12,
    "start_time": "2021-11-28T17:50:10.469Z"
   },
   {
    "duration": 5,
    "start_time": "2021-11-28T17:50:10.483Z"
   },
   {
    "duration": 18,
    "start_time": "2021-11-28T17:50:10.492Z"
   },
   {
    "duration": 46,
    "start_time": "2021-11-28T17:50:10.513Z"
   },
   {
    "duration": 461,
    "start_time": "2021-11-28T17:50:10.561Z"
   },
   {
    "duration": 603,
    "start_time": "2021-11-28T17:50:11.024Z"
   },
   {
    "duration": 293,
    "start_time": "2021-11-28T17:50:11.629Z"
   },
   {
    "duration": 1462,
    "start_time": "2021-11-28T17:50:11.924Z"
   },
   {
    "duration": 1248,
    "start_time": "2021-11-28T17:50:13.389Z"
   },
   {
    "duration": 2626,
    "start_time": "2021-11-28T17:50:14.640Z"
   },
   {
    "duration": 692,
    "start_time": "2021-11-28T17:50:17.269Z"
   },
   {
    "duration": 96,
    "start_time": "2021-11-28T17:50:17.964Z"
   },
   {
    "duration": 8,
    "start_time": "2021-11-28T17:50:18.062Z"
   },
   {
    "duration": 498,
    "start_time": "2021-11-28T17:50:18.073Z"
   },
   {
    "duration": 10,
    "start_time": "2021-11-28T17:50:18.574Z"
   },
   {
    "duration": 500,
    "start_time": "2021-11-28T17:50:18.586Z"
   },
   {
    "duration": 142391,
    "start_time": "2021-11-28T17:53:11.122Z"
   },
   {
    "duration": 7,
    "start_time": "2021-11-28T17:56:08.669Z"
   },
   {
    "duration": 1056,
    "start_time": "2021-11-28T18:09:27.165Z"
   },
   {
    "duration": 8,
    "start_time": "2021-11-28T18:09:33.333Z"
   },
   {
    "duration": 423,
    "start_time": "2021-11-28T18:09:36.469Z"
   },
   {
    "duration": 906,
    "start_time": "2021-11-28T18:09:52.428Z"
   },
   {
    "duration": 430,
    "start_time": "2021-11-28T18:10:10.780Z"
   },
   {
    "duration": 3,
    "start_time": "2021-11-28T18:10:14.540Z"
   },
   {
    "duration": 4,
    "start_time": "2021-11-28T18:10:46.621Z"
   },
   {
    "duration": 7,
    "start_time": "2021-11-28T18:10:46.628Z"
   },
   {
    "duration": 7,
    "start_time": "2021-11-28T18:10:46.638Z"
   },
   {
    "duration": 7,
    "start_time": "2021-11-28T18:10:46.648Z"
   },
   {
    "duration": 53,
    "start_time": "2021-11-28T18:10:46.657Z"
   },
   {
    "duration": 3,
    "start_time": "2021-11-28T18:10:46.712Z"
   },
   {
    "duration": 13,
    "start_time": "2021-11-28T18:10:46.718Z"
   },
   {
    "duration": 9,
    "start_time": "2021-11-28T18:10:46.733Z"
   },
   {
    "duration": 11,
    "start_time": "2021-11-28T18:10:46.762Z"
   },
   {
    "duration": 16,
    "start_time": "2021-11-28T18:10:46.776Z"
   },
   {
    "duration": 471,
    "start_time": "2021-11-28T18:10:46.795Z"
   },
   {
    "duration": 535,
    "start_time": "2021-11-28T18:10:47.269Z"
   },
   {
    "duration": 301,
    "start_time": "2021-11-28T18:10:47.807Z"
   },
   {
    "duration": 1516,
    "start_time": "2021-11-28T18:10:48.111Z"
   },
   {
    "duration": 1042,
    "start_time": "2021-11-28T18:10:49.630Z"
   },
   {
    "duration": 2185,
    "start_time": "2021-11-28T18:10:50.674Z"
   },
   {
    "duration": 604,
    "start_time": "2021-11-28T18:10:52.863Z"
   },
   {
    "duration": 91,
    "start_time": "2021-11-28T18:10:53.470Z"
   },
   {
    "duration": 109,
    "start_time": "2021-11-28T18:10:53.564Z"
   },
   {
    "duration": 483,
    "start_time": "2021-11-28T18:10:53.676Z"
   },
   {
    "duration": 12,
    "start_time": "2021-11-28T18:10:54.163Z"
   },
   {
    "duration": 506,
    "start_time": "2021-11-28T18:10:54.178Z"
   },
   {
    "duration": 6,
    "start_time": "2021-11-28T18:11:03.512Z"
   },
   {
    "duration": 404,
    "start_time": "2021-11-28T18:11:07.054Z"
   },
   {
    "duration": 4,
    "start_time": "2021-11-28T18:11:12.229Z"
   },
   {
    "duration": 378,
    "start_time": "2021-11-28T18:11:16.740Z"
   },
   {
    "duration": 7,
    "start_time": "2021-11-28T18:11:55.733Z"
   },
   {
    "duration": 382,
    "start_time": "2021-11-28T18:12:05.104Z"
   },
   {
    "duration": 6,
    "start_time": "2021-11-28T18:12:13.686Z"
   },
   {
    "duration": 13,
    "start_time": "2021-11-28T18:12:15.044Z"
   },
   {
    "duration": 3,
    "start_time": "2021-11-28T18:12:36.535Z"
   },
   {
    "duration": 8,
    "start_time": "2021-11-28T18:12:36.541Z"
   },
   {
    "duration": 5,
    "start_time": "2021-11-28T18:12:36.552Z"
   },
   {
    "duration": 7,
    "start_time": "2021-11-28T18:12:36.560Z"
   },
   {
    "duration": 58,
    "start_time": "2021-11-28T18:12:36.569Z"
   },
   {
    "duration": 4,
    "start_time": "2021-11-28T18:12:36.630Z"
   },
   {
    "duration": 27,
    "start_time": "2021-11-28T18:12:36.636Z"
   },
   {
    "duration": 6,
    "start_time": "2021-11-28T18:12:36.668Z"
   },
   {
    "duration": 13,
    "start_time": "2021-11-28T18:12:36.677Z"
   },
   {
    "duration": 16,
    "start_time": "2021-11-28T18:12:36.692Z"
   },
   {
    "duration": 473,
    "start_time": "2021-11-28T18:12:36.710Z"
   },
   {
    "duration": 619,
    "start_time": "2021-11-28T18:12:37.185Z"
   },
   {
    "duration": 320,
    "start_time": "2021-11-28T18:12:37.807Z"
   },
   {
    "duration": 1439,
    "start_time": "2021-11-28T18:12:38.130Z"
   },
   {
    "duration": 1057,
    "start_time": "2021-11-28T18:12:39.572Z"
   },
   {
    "duration": 2629,
    "start_time": "2021-11-28T18:12:40.632Z"
   },
   {
    "duration": 1096,
    "start_time": "2021-11-28T18:12:43.264Z"
   },
   {
    "duration": 96,
    "start_time": "2021-11-28T18:12:44.364Z"
   },
   {
    "duration": 9,
    "start_time": "2021-11-28T18:12:44.462Z"
   },
   {
    "duration": 480,
    "start_time": "2021-11-28T18:12:44.473Z"
   },
   {
    "duration": 11,
    "start_time": "2021-11-28T18:12:44.960Z"
   },
   {
    "duration": 497,
    "start_time": "2021-11-28T18:12:44.973Z"
   },
   {
    "duration": 6,
    "start_time": "2021-11-28T18:12:50.624Z"
   },
   {
    "duration": 12,
    "start_time": "2021-11-28T18:12:54.493Z"
   },
   {
    "duration": 6,
    "start_time": "2021-11-28T18:12:59.206Z"
   },
   {
    "duration": 13,
    "start_time": "2021-11-28T18:13:02.478Z"
   },
   {
    "duration": 353,
    "start_time": "2021-11-28T18:13:05.390Z"
   },
   {
    "duration": 395,
    "start_time": "2021-11-28T18:13:32.664Z"
   },
   {
    "duration": 813,
    "start_time": "2021-11-28T18:13:55.687Z"
   },
   {
    "duration": 749,
    "start_time": "2021-11-28T18:14:06.065Z"
   },
   {
    "duration": 6,
    "start_time": "2021-11-28T18:14:14.566Z"
   },
   {
    "duration": 12,
    "start_time": "2021-11-28T18:14:21.303Z"
   },
   {
    "duration": 23,
    "start_time": "2021-11-28T18:14:36.519Z"
   },
   {
    "duration": 5,
    "start_time": "2021-11-28T18:14:47.151Z"
   },
   {
    "duration": 7,
    "start_time": "2021-11-28T18:16:13.179Z"
   },
   {
    "duration": 6,
    "start_time": "2021-11-28T18:16:44.459Z"
   },
   {
    "duration": 145,
    "start_time": "2021-11-28T18:17:19.347Z"
   },
   {
    "duration": 4,
    "start_time": "2021-11-28T18:17:42.922Z"
   },
   {
    "duration": 4,
    "start_time": "2021-11-28T18:17:45.379Z"
   },
   {
    "duration": 5,
    "start_time": "2021-11-28T18:17:49.795Z"
   },
   {
    "duration": 6,
    "start_time": "2021-11-28T18:18:02.972Z"
   },
   {
    "duration": 31629,
    "start_time": "2021-11-28T18:24:52.936Z"
   },
   {
    "duration": 6,
    "start_time": "2021-11-28T18:25:31.716Z"
   },
   {
    "duration": 6,
    "start_time": "2021-11-28T18:25:41.034Z"
   },
   {
    "duration": 35702,
    "start_time": "2021-11-28T18:25:49.465Z"
   },
   {
    "duration": 33504,
    "start_time": "2021-11-28T18:26:48.066Z"
   },
   {
    "duration": 7,
    "start_time": "2021-11-28T18:31:09.308Z"
   },
   {
    "duration": 26710,
    "start_time": "2021-11-28T18:31:59.950Z"
   },
   {
    "duration": 1625,
    "start_time": "2021-11-28T18:33:12.735Z"
   },
   {
    "duration": 6,
    "start_time": "2021-11-28T18:33:48.495Z"
   },
   {
    "duration": 1588,
    "start_time": "2021-11-28T18:33:52.272Z"
   },
   {
    "duration": 7,
    "start_time": "2021-11-28T18:34:20.328Z"
   },
   {
    "duration": 6,
    "start_time": "2021-11-28T18:34:32.278Z"
   },
   {
    "duration": 753,
    "start_time": "2021-11-28T18:34:33.201Z"
   },
   {
    "duration": 1367,
    "start_time": "2021-11-28T18:34:48.096Z"
   },
   {
    "duration": 6,
    "start_time": "2021-11-28T18:35:16.607Z"
   },
   {
    "duration": 1721,
    "start_time": "2021-11-28T18:35:19.040Z"
   },
   {
    "duration": 1384,
    "start_time": "2021-11-28T18:35:36.978Z"
   },
   {
    "duration": 8,
    "start_time": "2021-11-28T18:35:42.184Z"
   },
   {
    "duration": 98,
    "start_time": "2021-11-28T18:35:43.113Z"
   },
   {
    "duration": 6,
    "start_time": "2021-11-28T18:35:52.992Z"
   },
   {
    "duration": 1466,
    "start_time": "2021-11-28T18:35:53.897Z"
   },
   {
    "duration": 1984,
    "start_time": "2021-11-28T18:36:30.970Z"
   },
   {
    "duration": 7,
    "start_time": "2021-11-28T18:39:57.985Z"
   },
   {
    "duration": 1257,
    "start_time": "2021-11-28T18:40:17.103Z"
   },
   {
    "duration": 6,
    "start_time": "2021-11-28T18:40:22.101Z"
   },
   {
    "duration": 384,
    "start_time": "2021-11-28T18:43:07.672Z"
   },
   {
    "duration": 382,
    "start_time": "2021-11-28T18:43:26.417Z"
   },
   {
    "duration": -3605,
    "start_time": "2021-11-28T18:43:30.408Z"
   },
   {
    "duration": -3609,
    "start_time": "2021-11-28T18:43:30.413Z"
   },
   {
    "duration": -3613,
    "start_time": "2021-11-28T18:43:30.419Z"
   },
   {
    "duration": -3614,
    "start_time": "2021-11-28T18:43:30.421Z"
   },
   {
    "duration": -3918,
    "start_time": "2021-11-28T18:43:30.727Z"
   },
   {
    "duration": -3928,
    "start_time": "2021-11-28T18:43:30.738Z"
   },
   {
    "duration": -3931,
    "start_time": "2021-11-28T18:43:30.743Z"
   },
   {
    "duration": -3935,
    "start_time": "2021-11-28T18:43:30.748Z"
   },
   {
    "duration": -3935,
    "start_time": "2021-11-28T18:43:30.750Z"
   },
   {
    "duration": -3937,
    "start_time": "2021-11-28T18:43:30.753Z"
   },
   {
    "duration": -4089,
    "start_time": "2021-11-28T18:43:30.907Z"
   },
   {
    "duration": -4093,
    "start_time": "2021-11-28T18:43:30.912Z"
   },
   {
    "duration": -4094,
    "start_time": "2021-11-28T18:43:30.915Z"
   },
   {
    "duration": -4096,
    "start_time": "2021-11-28T18:43:30.918Z"
   },
   {
    "duration": 4,
    "start_time": "2021-11-28T18:43:40.936Z"
   },
   {
    "duration": 5,
    "start_time": "2021-11-28T18:43:40.944Z"
   },
   {
    "duration": 5,
    "start_time": "2021-11-28T18:43:40.953Z"
   },
   {
    "duration": 12,
    "start_time": "2021-11-28T18:43:40.962Z"
   },
   {
    "duration": 54,
    "start_time": "2021-11-28T18:43:40.976Z"
   },
   {
    "duration": 4,
    "start_time": "2021-11-28T18:43:41.033Z"
   },
   {
    "duration": 28,
    "start_time": "2021-11-28T18:43:41.040Z"
   },
   {
    "duration": 5,
    "start_time": "2021-11-28T18:43:41.074Z"
   },
   {
    "duration": 19,
    "start_time": "2021-11-28T18:43:41.084Z"
   },
   {
    "duration": 54,
    "start_time": "2021-11-28T18:43:41.106Z"
   },
   {
    "duration": 565,
    "start_time": "2021-11-28T18:43:41.162Z"
   },
   {
    "duration": 607,
    "start_time": "2021-11-28T18:43:41.729Z"
   },
   {
    "duration": 301,
    "start_time": "2021-11-28T18:43:42.339Z"
   },
   {
    "duration": 1658,
    "start_time": "2021-11-28T18:43:42.642Z"
   },
   {
    "duration": 1073,
    "start_time": "2021-11-28T18:43:44.303Z"
   },
   {
    "duration": 2390,
    "start_time": "2021-11-28T18:43:45.379Z"
   },
   {
    "duration": 602,
    "start_time": "2021-11-28T18:43:47.861Z"
   },
   {
    "duration": 95,
    "start_time": "2021-11-28T18:43:48.466Z"
   },
   {
    "duration": 13,
    "start_time": "2021-11-28T18:43:48.564Z"
   },
   {
    "duration": 554,
    "start_time": "2021-11-28T18:43:48.579Z"
   },
   {
    "duration": 10,
    "start_time": "2021-11-28T18:43:49.136Z"
   },
   {
    "duration": 606,
    "start_time": "2021-11-28T18:43:49.159Z"
   },
   {
    "duration": 141646,
    "start_time": "2021-11-28T18:43:56.513Z"
   },
   {
    "duration": 15,
    "start_time": "2021-11-28T18:46:23.330Z"
   },
   {
    "duration": 374,
    "start_time": "2021-11-28T18:46:26.562Z"
   },
   {
    "duration": 14,
    "start_time": "2021-11-28T18:46:38.867Z"
   },
   {
    "duration": 8,
    "start_time": "2021-11-28T18:46:42.753Z"
   },
   {
    "duration": 87517,
    "start_time": "2021-11-28T18:49:32.237Z"
   },
   {
    "duration": 13,
    "start_time": "2021-11-28T18:51:05.566Z"
   },
   {
    "duration": 6,
    "start_time": "2021-11-28T18:51:06.487Z"
   },
   {
    "duration": 9,
    "start_time": "2021-11-28T18:51:22.669Z"
   },
   {
    "duration": 6,
    "start_time": "2021-11-28T18:54:35.182Z"
   },
   {
    "duration": 6,
    "start_time": "2021-11-28T19:01:55.819Z"
   },
   {
    "duration": 5,
    "start_time": "2021-11-28T19:02:05.372Z"
   },
   {
    "duration": 14,
    "start_time": "2021-11-28T19:02:08.829Z"
   },
   {
    "duration": 1821,
    "start_time": "2021-11-28T19:05:20.473Z"
   },
   {
    "duration": 6,
    "start_time": "2021-11-28T19:05:28.216Z"
   },
   {
    "duration": 2060,
    "start_time": "2021-11-28T19:05:31.754Z"
   },
   {
    "duration": 16,
    "start_time": "2021-11-28T19:06:26.922Z"
   },
   {
    "duration": 1793,
    "start_time": "2021-11-28T19:06:52.453Z"
   },
   {
    "duration": 1566,
    "start_time": "2021-11-28T19:07:03.995Z"
   },
   {
    "duration": 5,
    "start_time": "2021-11-28T19:08:00.069Z"
   },
   {
    "duration": 19,
    "start_time": "2021-11-28T19:08:00.077Z"
   },
   {
    "duration": 16,
    "start_time": "2021-11-28T19:08:00.100Z"
   },
   {
    "duration": 2498,
    "start_time": "2021-11-28T19:08:00.120Z"
   },
   {
    "duration": 57,
    "start_time": "2021-11-28T19:08:02.620Z"
   },
   {
    "duration": 4,
    "start_time": "2021-11-28T19:08:02.679Z"
   },
   {
    "duration": 14,
    "start_time": "2021-11-28T19:08:02.685Z"
   },
   {
    "duration": 5,
    "start_time": "2021-11-28T19:08:02.703Z"
   },
   {
    "duration": 14,
    "start_time": "2021-11-28T19:08:02.711Z"
   },
   {
    "duration": 18,
    "start_time": "2021-11-28T19:08:02.759Z"
   },
   {
    "duration": 451,
    "start_time": "2021-11-28T19:08:02.779Z"
   },
   {
    "duration": 630,
    "start_time": "2021-11-28T19:08:03.232Z"
   },
   {
    "duration": 304,
    "start_time": "2021-11-28T19:08:03.864Z"
   },
   {
    "duration": 1621,
    "start_time": "2021-11-28T19:08:04.170Z"
   },
   {
    "duration": 1351,
    "start_time": "2021-11-28T19:08:05.794Z"
   },
   {
    "duration": 2711,
    "start_time": "2021-11-28T19:08:07.149Z"
   },
   {
    "duration": 601,
    "start_time": "2021-11-28T19:08:09.863Z"
   },
   {
    "duration": 98,
    "start_time": "2021-11-28T19:08:10.467Z"
   },
   {
    "duration": 108,
    "start_time": "2021-11-28T19:08:10.570Z"
   },
   {
    "duration": 482,
    "start_time": "2021-11-28T19:08:10.681Z"
   },
   {
    "duration": 684,
    "start_time": "2021-11-28T19:08:11.165Z"
   },
   {
    "duration": -4739,
    "start_time": "2021-11-28T19:08:16.591Z"
   },
   {
    "duration": -4741,
    "start_time": "2021-11-28T19:08:16.594Z"
   },
   {
    "duration": -5045,
    "start_time": "2021-11-28T19:08:16.899Z"
   },
   {
    "duration": -5051,
    "start_time": "2021-11-28T19:08:16.907Z"
   },
   {
    "duration": -5053,
    "start_time": "2021-11-28T19:08:16.910Z"
   },
   {
    "duration": -5054,
    "start_time": "2021-11-28T19:08:16.912Z"
   },
   {
    "duration": -5054,
    "start_time": "2021-11-28T19:08:16.914Z"
   },
   {
    "duration": -5055,
    "start_time": "2021-11-28T19:08:16.916Z"
   },
   {
    "duration": -5057,
    "start_time": "2021-11-28T19:08:16.919Z"
   },
   {
    "duration": -5058,
    "start_time": "2021-11-28T19:08:16.921Z"
   },
   {
    "duration": -5058,
    "start_time": "2021-11-28T19:08:16.923Z"
   },
   {
    "duration": -5060,
    "start_time": "2021-11-28T19:08:16.926Z"
   },
   {
    "duration": -5061,
    "start_time": "2021-11-28T19:08:16.928Z"
   },
   {
    "duration": -5062,
    "start_time": "2021-11-28T19:08:16.930Z"
   },
   {
    "duration": 5,
    "start_time": "2021-11-28T19:09:09.493Z"
   },
   {
    "duration": 15,
    "start_time": "2021-11-28T19:09:09.501Z"
   },
   {
    "duration": 11,
    "start_time": "2021-11-28T19:09:09.520Z"
   },
   {
    "duration": 2525,
    "start_time": "2021-11-28T19:09:09.534Z"
   },
   {
    "duration": 58,
    "start_time": "2021-11-28T19:09:12.061Z"
   },
   {
    "duration": 4,
    "start_time": "2021-11-28T19:09:12.121Z"
   },
   {
    "duration": 11,
    "start_time": "2021-11-28T19:09:12.128Z"
   },
   {
    "duration": 21,
    "start_time": "2021-11-28T19:09:12.142Z"
   },
   {
    "duration": 16,
    "start_time": "2021-11-28T19:09:12.165Z"
   },
   {
    "duration": 16,
    "start_time": "2021-11-28T19:09:12.183Z"
   },
   {
    "duration": 467,
    "start_time": "2021-11-28T19:09:12.202Z"
   },
   {
    "duration": 619,
    "start_time": "2021-11-28T19:09:12.671Z"
   },
   {
    "duration": 324,
    "start_time": "2021-11-28T19:09:13.292Z"
   },
   {
    "duration": 1491,
    "start_time": "2021-11-28T19:09:13.618Z"
   },
   {
    "duration": 1251,
    "start_time": "2021-11-28T19:09:15.111Z"
   },
   {
    "duration": 2396,
    "start_time": "2021-11-28T19:09:16.364Z"
   },
   {
    "duration": 597,
    "start_time": "2021-11-28T19:09:18.764Z"
   },
   {
    "duration": 95,
    "start_time": "2021-11-28T19:09:19.364Z"
   },
   {
    "duration": 7,
    "start_time": "2021-11-28T19:09:19.464Z"
   },
   {
    "duration": 496,
    "start_time": "2021-11-28T19:09:19.474Z"
   },
   {
    "duration": 11,
    "start_time": "2021-11-28T19:09:19.972Z"
   },
   {
    "duration": 508,
    "start_time": "2021-11-28T19:09:19.986Z"
   },
   {
    "duration": 2020551,
    "start_time": "2021-11-28T19:09:20.496Z"
   },
   {
    "duration": 174335,
    "start_time": "2021-11-28T19:43:01.050Z"
   },
   {
    "duration": 4,
    "start_time": "2021-11-28T19:45:55.388Z"
   },
   {
    "duration": 15,
    "start_time": "2021-11-28T19:45:55.394Z"
   },
   {
    "duration": 87863,
    "start_time": "2021-11-28T19:45:55.411Z"
   },
   {
    "duration": 5,
    "start_time": "2021-11-28T19:47:23.277Z"
   },
   {
    "duration": 474,
    "start_time": "2021-11-28T19:47:23.285Z"
   },
   {
    "duration": 9,
    "start_time": "2021-11-28T19:47:23.762Z"
   },
   {
    "duration": 12,
    "start_time": "2021-11-28T19:47:23.774Z"
   },
   {
    "duration": 26669,
    "start_time": "2021-11-28T19:47:23.789Z"
   },
   {
    "duration": 9,
    "start_time": "2021-11-28T19:47:50.462Z"
   },
   {
    "duration": 1399,
    "start_time": "2021-11-28T19:47:50.561Z"
   },
   {
    "duration": 96,
    "start_time": "2021-11-28T19:47:51.963Z"
   },
   {
    "duration": 70321,
    "start_time": "2021-11-28T19:51:58.329Z"
   },
   {
    "duration": 15,
    "start_time": "2021-11-28T19:54:39.401Z"
   },
   {
    "duration": 6,
    "start_time": "2021-11-28T19:54:41.234Z"
   },
   {
    "duration": 449,
    "start_time": "2021-11-28T19:54:43.274Z"
   },
   {
    "duration": 24,
    "start_time": "2021-11-28T19:54:53.434Z"
   },
   {
    "duration": 6,
    "start_time": "2021-11-28T19:54:54.290Z"
   },
   {
    "duration": 431,
    "start_time": "2021-11-28T19:54:55.108Z"
   },
   {
    "duration": 720,
    "start_time": "2021-11-28T20:02:55.322Z"
   },
   {
    "duration": 4,
    "start_time": "2021-11-28T20:03:10.990Z"
   },
   {
    "duration": 9,
    "start_time": "2021-11-28T20:03:10.997Z"
   },
   {
    "duration": 11,
    "start_time": "2021-11-28T20:03:11.011Z"
   },
   {
    "duration": 13,
    "start_time": "2021-11-28T20:03:11.027Z"
   },
   {
    "duration": 71,
    "start_time": "2021-11-28T20:03:11.043Z"
   },
   {
    "duration": 4,
    "start_time": "2021-11-28T20:03:11.117Z"
   },
   {
    "duration": 12,
    "start_time": "2021-11-28T20:03:11.124Z"
   },
   {
    "duration": 23,
    "start_time": "2021-11-28T20:03:11.140Z"
   },
   {
    "duration": 17,
    "start_time": "2021-11-28T20:03:11.167Z"
   },
   {
    "duration": 19,
    "start_time": "2021-11-28T20:03:11.187Z"
   },
   {
    "duration": 477,
    "start_time": "2021-11-28T20:03:11.209Z"
   },
   {
    "duration": 641,
    "start_time": "2021-11-28T20:03:11.689Z"
   },
   {
    "duration": 332,
    "start_time": "2021-11-28T20:03:12.333Z"
   },
   {
    "duration": 1656,
    "start_time": "2021-11-28T20:03:12.668Z"
   },
   {
    "duration": 1432,
    "start_time": "2021-11-28T20:03:14.327Z"
   },
   {
    "duration": 1811,
    "start_time": "2021-11-28T20:03:15.762Z"
   },
   {
    "duration": 700,
    "start_time": "2021-11-28T20:03:17.576Z"
   },
   {
    "duration": 8,
    "start_time": "2021-11-28T20:03:18.362Z"
   },
   {
    "duration": 97,
    "start_time": "2021-11-28T20:03:18.373Z"
   },
   {
    "duration": 506,
    "start_time": "2021-11-28T20:03:18.473Z"
   },
   {
    "duration": 12,
    "start_time": "2021-11-28T20:03:18.981Z"
   },
   {
    "duration": 59129,
    "start_time": "2021-11-28T20:03:39.842Z"
   },
   {
    "duration": 75259,
    "start_time": "2021-11-28T20:05:03.906Z"
   },
   {
    "duration": 8,
    "start_time": "2021-11-28T20:06:51.658Z"
   },
   {
    "duration": 6,
    "start_time": "2021-11-28T20:07:02.924Z"
   },
   {
    "duration": 9,
    "start_time": "2021-11-28T20:09:25.181Z"
   },
   {
    "duration": 6,
    "start_time": "2021-11-28T20:10:12.422Z"
   },
   {
    "duration": 6,
    "start_time": "2021-11-28T20:10:26.230Z"
   },
   {
    "duration": 1599,
    "start_time": "2021-11-28T20:10:27.768Z"
   },
   {
    "duration": 5,
    "start_time": "2021-11-28T20:10:36.788Z"
   },
   {
    "duration": 2012,
    "start_time": "2021-11-28T20:19:51.453Z"
   },
   {
    "duration": 736,
    "start_time": "2021-11-28T20:20:10.301Z"
   },
   {
    "duration": 616,
    "start_time": "2021-11-28T20:20:22.758Z"
   },
   {
    "duration": 6,
    "start_time": "2021-11-28T20:23:35.874Z"
   },
   {
    "duration": 1599,
    "start_time": "2021-11-28T20:28:06.869Z"
   },
   {
    "duration": 10,
    "start_time": "2021-11-28T20:28:15.029Z"
   },
   {
    "duration": 6,
    "start_time": "2021-11-28T20:28:19.509Z"
   },
   {
    "duration": 5,
    "start_time": "2021-11-28T20:29:08.885Z"
   },
   {
    "duration": 3,
    "start_time": "2021-11-28T20:31:14.711Z"
   },
   {
    "duration": 360,
    "start_time": "2021-11-28T20:31:35.898Z"
   },
   {
    "duration": 385,
    "start_time": "2021-11-28T20:32:04.471Z"
   },
   {
    "duration": 6,
    "start_time": "2021-11-28T20:52:20.833Z"
   },
   {
    "duration": 12,
    "start_time": "2021-11-28T20:57:22.188Z"
   },
   {
    "duration": 5,
    "start_time": "2021-11-28T20:58:50.693Z"
   },
   {
    "duration": 5,
    "start_time": "2021-11-28T20:58:53.421Z"
   },
   {
    "duration": 11,
    "start_time": "2021-11-28T20:58:56.636Z"
   },
   {
    "duration": 10157,
    "start_time": "2021-11-28T20:59:24.021Z"
   },
   {
    "duration": 14,
    "start_time": "2021-11-28T21:00:16.869Z"
   },
   {
    "duration": 20,
    "start_time": "2021-11-28T21:00:23.359Z"
   },
   {
    "duration": 7,
    "start_time": "2021-11-28T21:00:46.498Z"
   },
   {
    "duration": 1425,
    "start_time": "2021-11-28T21:00:58.935Z"
   },
   {
    "duration": 407,
    "start_time": "2021-11-28T21:01:07.175Z"
   },
   {
    "duration": 379,
    "start_time": "2021-11-28T21:01:28.766Z"
   },
   {
    "duration": 10,
    "start_time": "2021-11-28T21:01:39.247Z"
   },
   {
    "duration": 1034,
    "start_time": "2021-11-28T21:01:42.415Z"
   },
   {
    "duration": 8,
    "start_time": "2021-11-28T21:01:54.870Z"
   },
   {
    "duration": 13,
    "start_time": "2021-11-28T21:02:09.153Z"
   },
   {
    "duration": 28,
    "start_time": "2021-11-28T21:02:14.036Z"
   },
   {
    "duration": 6,
    "start_time": "2021-11-28T21:03:01.754Z"
   },
   {
    "duration": 14,
    "start_time": "2021-11-28T21:03:04.014Z"
   },
   {
    "duration": 359,
    "start_time": "2021-11-28T21:03:16.544Z"
   },
   {
    "duration": 5,
    "start_time": "2021-11-28T21:05:22.621Z"
   },
   {
    "duration": 8,
    "start_time": "2021-11-28T21:05:22.629Z"
   },
   {
    "duration": 8,
    "start_time": "2021-11-28T21:05:22.640Z"
   },
   {
    "duration": 2405,
    "start_time": "2021-11-28T21:05:22.651Z"
   },
   {
    "duration": 56,
    "start_time": "2021-11-28T21:05:25.059Z"
   },
   {
    "duration": 3,
    "start_time": "2021-11-28T21:05:25.117Z"
   },
   {
    "duration": 35,
    "start_time": "2021-11-28T21:05:25.123Z"
   },
   {
    "duration": 8,
    "start_time": "2021-11-28T21:05:25.162Z"
   },
   {
    "duration": 23,
    "start_time": "2021-11-28T21:05:25.173Z"
   },
   {
    "duration": 16,
    "start_time": "2021-11-28T21:05:25.199Z"
   },
   {
    "duration": 458,
    "start_time": "2021-11-28T21:05:25.217Z"
   },
   {
    "duration": 523,
    "start_time": "2021-11-28T21:05:25.677Z"
   },
   {
    "duration": 314,
    "start_time": "2021-11-28T21:05:26.203Z"
   },
   {
    "duration": 1443,
    "start_time": "2021-11-28T21:05:26.520Z"
   },
   {
    "duration": 1178,
    "start_time": "2021-11-28T21:05:27.965Z"
   },
   {
    "duration": 2614,
    "start_time": "2021-11-28T21:05:29.146Z"
   },
   {
    "duration": 503,
    "start_time": "2021-11-28T21:05:31.764Z"
   },
   {
    "duration": 8,
    "start_time": "2021-11-28T21:05:32.361Z"
   },
   {
    "duration": 10,
    "start_time": "2021-11-28T21:05:32.460Z"
   },
   {
    "duration": 498,
    "start_time": "2021-11-28T21:05:32.472Z"
   },
   {
    "duration": 10,
    "start_time": "2021-11-28T21:05:32.973Z"
   },
   {
    "duration": 518,
    "start_time": "2021-11-28T21:05:32.986Z"
   },
   {
    "duration": 1993313,
    "start_time": "2021-11-28T21:05:33.509Z"
   },
   {
    "duration": 172363,
    "start_time": "2021-11-28T21:38:46.825Z"
   },
   {
    "duration": 6,
    "start_time": "2021-11-28T21:41:39.191Z"
   },
   {
    "duration": 13,
    "start_time": "2021-11-28T21:41:39.200Z"
   },
   {
    "duration": 69449,
    "start_time": "2021-11-28T21:41:39.216Z"
   },
   {
    "duration": 6,
    "start_time": "2021-11-28T21:42:48.668Z"
   },
   {
    "duration": 9,
    "start_time": "2021-11-28T21:42:48.676Z"
   },
   {
    "duration": 462,
    "start_time": "2021-11-28T21:42:48.687Z"
   },
   {
    "duration": 6,
    "start_time": "2021-11-28T21:42:49.159Z"
   },
   {
    "duration": 8,
    "start_time": "2021-11-28T21:42:49.168Z"
   },
   {
    "duration": 24186,
    "start_time": "2021-11-28T21:42:49.179Z"
   },
   {
    "duration": 607,
    "start_time": "2021-11-28T22:04:35.774Z"
   },
   {
    "duration": 415,
    "start_time": "2021-11-28T22:04:43.061Z"
   },
   {
    "duration": 388,
    "start_time": "2021-11-28T22:04:57.408Z"
   },
   {
    "duration": 389,
    "start_time": "2021-11-28T22:05:12.139Z"
   },
   {
    "duration": 431,
    "start_time": "2021-11-28T22:06:16.503Z"
   },
   {
    "duration": 384,
    "start_time": "2021-11-28T22:06:53.537Z"
   },
   {
    "duration": 499,
    "start_time": "2021-11-28T22:07:17.185Z"
   },
   {
    "duration": 368,
    "start_time": "2021-11-28T22:07:32.859Z"
   },
   {
    "duration": 3,
    "start_time": "2021-11-29T09:43:40.426Z"
   },
   {
    "duration": 6,
    "start_time": "2021-11-29T09:43:40.431Z"
   },
   {
    "duration": 10,
    "start_time": "2021-11-29T09:43:40.439Z"
   },
   {
    "duration": 1562,
    "start_time": "2021-11-29T09:43:40.451Z"
   },
   {
    "duration": -4970,
    "start_time": "2021-11-29T09:43:46.985Z"
   },
   {
    "duration": -4975,
    "start_time": "2021-11-29T09:43:46.991Z"
   },
   {
    "duration": -5247,
    "start_time": "2021-11-29T09:43:47.263Z"
   },
   {
    "duration": -5259,
    "start_time": "2021-11-29T09:43:47.276Z"
   },
   {
    "duration": -5264,
    "start_time": "2021-11-29T09:43:47.282Z"
   },
   {
    "duration": -5269,
    "start_time": "2021-11-29T09:43:47.288Z"
   },
   {
    "duration": -5272,
    "start_time": "2021-11-29T09:43:47.293Z"
   },
   {
    "duration": -5278,
    "start_time": "2021-11-29T09:43:47.300Z"
   },
   {
    "duration": -5281,
    "start_time": "2021-11-29T09:43:47.304Z"
   },
   {
    "duration": -5284,
    "start_time": "2021-11-29T09:43:47.308Z"
   },
   {
    "duration": -5287,
    "start_time": "2021-11-29T09:43:47.312Z"
   },
   {
    "duration": -5291,
    "start_time": "2021-11-29T09:43:47.317Z"
   },
   {
    "duration": -5294,
    "start_time": "2021-11-29T09:43:47.321Z"
   },
   {
    "duration": -5297,
    "start_time": "2021-11-29T09:43:47.325Z"
   },
   {
    "duration": -5300,
    "start_time": "2021-11-29T09:43:47.329Z"
   },
   {
    "duration": -5303,
    "start_time": "2021-11-29T09:43:47.333Z"
   },
   {
    "duration": -5306,
    "start_time": "2021-11-29T09:43:47.337Z"
   },
   {
    "duration": 15507,
    "start_time": "2021-11-29T09:46:22.094Z"
   },
   {
    "duration": 3253,
    "start_time": "2021-11-29T09:46:37.604Z"
   },
   {
    "duration": 2858,
    "start_time": "2021-11-29T09:46:51.749Z"
   },
   {
    "duration": 266,
    "start_time": "2021-11-29T09:47:01.288Z"
   },
   {
    "duration": 2394,
    "start_time": "2021-11-29T09:47:08.795Z"
   },
   {
    "duration": 3040,
    "start_time": "2021-11-29T09:47:11.192Z"
   },
   {
    "duration": 2673,
    "start_time": "2021-11-29T09:47:14.235Z"
   },
   {
    "duration": 2377,
    "start_time": "2021-11-29T09:47:16.910Z"
   },
   {
    "duration": 46,
    "start_time": "2021-11-29T09:47:19.290Z"
   },
   {
    "duration": 3,
    "start_time": "2021-11-29T09:47:19.338Z"
   },
   {
    "duration": 22,
    "start_time": "2021-11-29T09:47:19.343Z"
   },
   {
    "duration": 5,
    "start_time": "2021-11-29T09:47:19.369Z"
   },
   {
    "duration": 13,
    "start_time": "2021-11-29T09:47:19.377Z"
   },
   {
    "duration": 14,
    "start_time": "2021-11-29T09:47:19.392Z"
   },
   {
    "duration": 360,
    "start_time": "2021-11-29T09:47:19.408Z"
   },
   {
    "duration": 438,
    "start_time": "2021-11-29T09:47:19.770Z"
   },
   {
    "duration": 237,
    "start_time": "2021-11-29T09:47:20.210Z"
   },
   {
    "duration": 1187,
    "start_time": "2021-11-29T09:47:20.449Z"
   },
   {
    "duration": 1596,
    "start_time": "2021-11-29T09:47:21.638Z"
   },
   {
    "duration": 1534,
    "start_time": "2021-11-29T09:47:23.236Z"
   },
   {
    "duration": 399,
    "start_time": "2021-11-29T09:47:24.772Z"
   },
   {
    "duration": 91,
    "start_time": "2021-11-29T09:47:25.173Z"
   },
   {
    "duration": 10,
    "start_time": "2021-11-29T09:47:25.267Z"
   },
   {
    "duration": 346,
    "start_time": "2021-11-29T09:47:25.365Z"
   },
   {
    "duration": 7,
    "start_time": "2021-11-29T09:47:25.712Z"
   },
   {
    "duration": 375,
    "start_time": "2021-11-29T09:47:25.721Z"
   },
   {
    "duration": 9217,
    "start_time": "2021-11-29T09:47:26.100Z"
   },
   {
    "duration": -5420,
    "start_time": "2021-11-29T09:47:40.740Z"
   },
   {
    "duration": -5432,
    "start_time": "2021-11-29T09:47:40.753Z"
   },
   {
    "duration": -5440,
    "start_time": "2021-11-29T09:47:40.762Z"
   },
   {
    "duration": -5444,
    "start_time": "2021-11-29T09:47:40.767Z"
   },
   {
    "duration": -5448,
    "start_time": "2021-11-29T09:47:40.772Z"
   },
   {
    "duration": -5452,
    "start_time": "2021-11-29T09:47:40.777Z"
   },
   {
    "duration": -5458,
    "start_time": "2021-11-29T09:47:40.783Z"
   },
   {
    "duration": -5461,
    "start_time": "2021-11-29T09:47:40.787Z"
   },
   {
    "duration": -5464,
    "start_time": "2021-11-29T09:47:40.791Z"
   },
   {
    "duration": -5468,
    "start_time": "2021-11-29T09:47:40.796Z"
   },
   {
    "duration": 7,
    "start_time": "2021-11-29T09:47:52.812Z"
   },
   {
    "duration": 5,
    "start_time": "2021-11-29T09:49:00.701Z"
   },
   {
    "duration": 71225,
    "start_time": "2021-11-29T09:49:12.894Z"
   },
   {
    "duration": 6,
    "start_time": "2021-11-29T09:50:43.421Z"
   },
   {
    "duration": 269,
    "start_time": "2021-11-29T09:50:47.374Z"
   },
   {
    "duration": 11,
    "start_time": "2021-11-29T09:51:22.026Z"
   },
   {
    "duration": 7,
    "start_time": "2021-11-29T09:51:28.223Z"
   },
   {
    "duration": 267,
    "start_time": "2021-11-29T09:51:42.928Z"
   },
   {
    "duration": 260,
    "start_time": "2021-11-29T09:52:48.873Z"
   },
   {
    "duration": 11,
    "start_time": "2021-11-29T09:53:03.234Z"
   },
   {
    "duration": 5,
    "start_time": "2021-11-29T09:53:09.369Z"
   },
   {
    "duration": 4,
    "start_time": "2021-11-29T10:01:42.426Z"
   },
   {
    "duration": 21184,
    "start_time": "2021-11-29T10:16:13.285Z"
   },
   {
    "duration": 4,
    "start_time": "2021-11-29T10:16:38.627Z"
   },
   {
    "duration": 21719,
    "start_time": "2021-11-29T10:16:43.047Z"
   },
   {
    "duration": 8,
    "start_time": "2021-11-29T10:17:49.471Z"
   },
   {
    "duration": 48,
    "start_time": "2021-11-29T10:19:23.472Z"
   },
   {
    "duration": 26,
    "start_time": "2021-11-29T10:19:26.470Z"
   },
   {
    "duration": 68,
    "start_time": "2021-11-29T10:20:18.397Z"
   },
   {
    "duration": 297,
    "start_time": "2021-11-29T10:20:47.006Z"
   },
   {
    "duration": 4,
    "start_time": "2021-11-29T10:31:13.649Z"
   },
   {
    "duration": 5,
    "start_time": "2021-11-29T10:31:16.719Z"
   },
   {
    "duration": 20556,
    "start_time": "2021-11-29T10:31:18.513Z"
   },
   {
    "duration": 250,
    "start_time": "2021-11-29T10:31:47.024Z"
   },
   {
    "duration": 272,
    "start_time": "2021-11-29T10:32:28.402Z"
   },
   {
    "duration": 5,
    "start_time": "2021-11-29T10:32:35.850Z"
   },
   {
    "duration": 21928,
    "start_time": "2021-11-29T10:51:56.338Z"
   },
   {
    "duration": 5,
    "start_time": "2021-11-29T10:54:36.314Z"
   },
   {
    "duration": 4,
    "start_time": "2021-11-29T10:54:54.293Z"
   },
   {
    "duration": 5,
    "start_time": "2021-11-29T10:55:06.468Z"
   },
   {
    "duration": 394,
    "start_time": "2021-11-29T10:59:02.016Z"
   },
   {
    "duration": 258,
    "start_time": "2021-11-29T11:01:24.082Z"
   },
   {
    "duration": 247,
    "start_time": "2021-11-29T11:01:28.321Z"
   },
   {
    "duration": 260,
    "start_time": "2021-11-29T11:01:36.136Z"
   },
   {
    "duration": 60,
    "start_time": "2021-11-29T11:03:05.393Z"
   },
   {
    "duration": 283,
    "start_time": "2021-11-29T11:03:08.876Z"
   },
   {
    "duration": 64,
    "start_time": "2021-11-29T11:03:37.465Z"
   },
   {
    "duration": 279,
    "start_time": "2021-11-29T11:03:40.923Z"
   },
   {
    "duration": 343,
    "start_time": "2021-11-29T11:04:36.740Z"
   },
   {
    "duration": 424,
    "start_time": "2021-11-29T11:04:42.132Z"
   },
   {
    "duration": 65,
    "start_time": "2021-11-29T11:04:51.300Z"
   },
   {
    "duration": 56,
    "start_time": "2021-11-29T11:04:56.310Z"
   },
   {
    "duration": 64,
    "start_time": "2021-11-29T11:05:23.051Z"
   },
   {
    "duration": 9,
    "start_time": "2021-11-29T11:05:33.111Z"
   },
   {
    "duration": 5,
    "start_time": "2021-11-29T11:06:23.317Z"
   },
   {
    "duration": 3017,
    "start_time": "2021-11-29T11:06:58.180Z"
   },
   {
    "duration": 2575,
    "start_time": "2021-11-29T11:07:01.200Z"
   },
   {
    "duration": 2294,
    "start_time": "2021-11-29T11:07:03.778Z"
   },
   {
    "duration": 5,
    "start_time": "2021-11-29T11:07:06.075Z"
   },
   {
    "duration": 50,
    "start_time": "2021-11-29T11:07:06.083Z"
   },
   {
    "duration": 79,
    "start_time": "2021-11-29T11:07:06.135Z"
   },
   {
    "duration": 20,
    "start_time": "2021-11-29T11:07:06.216Z"
   },
   {
    "duration": 12,
    "start_time": "2021-11-29T11:07:06.238Z"
   },
   {
    "duration": 26,
    "start_time": "2021-11-29T11:07:06.254Z"
   },
   {
    "duration": 24,
    "start_time": "2021-11-29T11:07:06.282Z"
   },
   {
    "duration": 284,
    "start_time": "2021-11-29T11:07:06.308Z"
   },
   {
    "duration": 340,
    "start_time": "2021-11-29T11:07:06.594Z"
   },
   {
    "duration": 190,
    "start_time": "2021-11-29T11:07:06.936Z"
   },
   {
    "duration": 1144,
    "start_time": "2021-11-29T11:07:07.128Z"
   },
   {
    "duration": 758,
    "start_time": "2021-11-29T11:07:08.275Z"
   },
   {
    "duration": 1733,
    "start_time": "2021-11-29T11:07:09.035Z"
   },
   {
    "duration": 597,
    "start_time": "2021-11-29T11:07:10.770Z"
   },
   {
    "duration": 95,
    "start_time": "2021-11-29T11:07:11.370Z"
   },
   {
    "duration": 22,
    "start_time": "2021-11-29T11:07:11.467Z"
   },
   {
    "duration": 376,
    "start_time": "2021-11-29T11:07:11.492Z"
   },
   {
    "duration": 7,
    "start_time": "2021-11-29T11:07:11.869Z"
   },
   {
    "duration": 336,
    "start_time": "2021-11-29T11:07:11.878Z"
   },
   {
    "duration": 5,
    "start_time": "2021-11-29T11:07:18.598Z"
   },
   {
    "duration": 5,
    "start_time": "2021-11-29T11:07:21.828Z"
   },
   {
    "duration": 21079,
    "start_time": "2021-11-29T11:07:23.686Z"
   },
   {
    "duration": 9,
    "start_time": "2021-11-29T11:08:07.349Z"
   },
   {
    "duration": 2,
    "start_time": "2021-11-29T11:08:55.796Z"
   },
   {
    "duration": 6,
    "start_time": "2021-11-29T11:08:55.800Z"
   },
   {
    "duration": 15,
    "start_time": "2021-11-29T11:08:55.808Z"
   },
   {
    "duration": 7,
    "start_time": "2021-11-29T11:08:55.825Z"
   },
   {
    "duration": 56,
    "start_time": "2021-11-29T11:08:55.834Z"
   },
   {
    "duration": 3,
    "start_time": "2021-11-29T11:08:55.891Z"
   },
   {
    "duration": 10,
    "start_time": "2021-11-29T11:08:55.896Z"
   },
   {
    "duration": 4,
    "start_time": "2021-11-29T11:08:55.908Z"
   },
   {
    "duration": 15,
    "start_time": "2021-11-29T11:08:55.914Z"
   },
   {
    "duration": 34,
    "start_time": "2021-11-29T11:08:55.930Z"
   },
   {
    "duration": 288,
    "start_time": "2021-11-29T11:08:55.966Z"
   },
   {
    "duration": 427,
    "start_time": "2021-11-29T11:08:56.256Z"
   },
   {
    "duration": 193,
    "start_time": "2021-11-29T11:08:56.684Z"
   },
   {
    "duration": 932,
    "start_time": "2021-11-29T11:08:56.880Z"
   },
   {
    "duration": 728,
    "start_time": "2021-11-29T11:08:57.815Z"
   },
   {
    "duration": 2226,
    "start_time": "2021-11-29T11:08:58.546Z"
   },
   {
    "duration": 503,
    "start_time": "2021-11-29T11:09:00.865Z"
   },
   {
    "duration": 91,
    "start_time": "2021-11-29T11:09:01.373Z"
   },
   {
    "duration": 108,
    "start_time": "2021-11-29T11:09:01.467Z"
   },
   {
    "duration": 331,
    "start_time": "2021-11-29T11:09:01.577Z"
   },
   {
    "duration": 9,
    "start_time": "2021-11-29T11:09:01.911Z"
   },
   {
    "duration": 4,
    "start_time": "2021-11-29T11:09:43.191Z"
   },
   {
    "duration": 9,
    "start_time": "2021-11-29T11:10:00.743Z"
   },
   {
    "duration": 21209,
    "start_time": "2021-11-29T11:10:11.456Z"
   },
   {
    "duration": 10,
    "start_time": "2021-11-29T11:10:36.161Z"
   },
   {
    "duration": 20810,
    "start_time": "2021-11-29T11:11:01.657Z"
   },
   {
    "duration": 29,
    "start_time": "2021-11-29T11:11:28.967Z"
   },
   {
    "duration": 84,
    "start_time": "2021-11-29T11:12:18.682Z"
   },
   {
    "duration": 22475,
    "start_time": "2021-11-29T11:12:23.490Z"
   },
   {
    "duration": 5,
    "start_time": "2021-11-29T11:12:51.986Z"
   },
   {
    "duration": 4,
    "start_time": "2021-11-29T11:12:59.763Z"
   },
   {
    "duration": 52,
    "start_time": "2021-11-29T11:13:07.113Z"
   },
   {
    "duration": 243,
    "start_time": "2021-11-29T11:34:45.831Z"
   },
   {
    "duration": 368,
    "start_time": "2021-11-29T11:38:48.768Z"
   },
   {
    "duration": 253,
    "start_time": "2021-11-29T11:41:07.675Z"
   },
   {
    "duration": 261,
    "start_time": "2021-11-29T11:41:53.921Z"
   },
   {
    "duration": 265,
    "start_time": "2021-11-29T11:42:04.362Z"
   },
   {
    "duration": 18,
    "start_time": "2021-11-29T11:42:12.034Z"
   },
   {
    "duration": 258,
    "start_time": "2021-11-29T11:59:02.230Z"
   },
   {
    "duration": 5,
    "start_time": "2021-11-29T11:59:07.789Z"
   },
   {
    "duration": 4,
    "start_time": "2021-11-29T12:33:19.912Z"
   },
   {
    "duration": 17,
    "start_time": "2021-11-29T12:33:19.919Z"
   },
   {
    "duration": 18,
    "start_time": "2021-11-29T12:33:19.938Z"
   },
   {
    "duration": 2112,
    "start_time": "2021-11-29T12:33:19.958Z"
   },
   {
    "duration": 45,
    "start_time": "2021-11-29T12:33:22.072Z"
   },
   {
    "duration": 2,
    "start_time": "2021-11-29T12:33:22.119Z"
   },
   {
    "duration": 11,
    "start_time": "2021-11-29T12:33:22.123Z"
   },
   {
    "duration": 5,
    "start_time": "2021-11-29T12:33:22.136Z"
   },
   {
    "duration": 22,
    "start_time": "2021-11-29T12:33:22.143Z"
   },
   {
    "duration": 12,
    "start_time": "2021-11-29T12:33:22.167Z"
   },
   {
    "duration": 299,
    "start_time": "2021-11-29T12:33:22.181Z"
   },
   {
    "duration": 338,
    "start_time": "2021-11-29T12:33:22.482Z"
   },
   {
    "duration": 196,
    "start_time": "2021-11-29T12:33:22.822Z"
   },
   {
    "duration": 900,
    "start_time": "2021-11-29T12:33:23.020Z"
   },
   {
    "duration": 842,
    "start_time": "2021-11-29T12:33:23.922Z"
   },
   {
    "duration": 2305,
    "start_time": "2021-11-29T12:33:24.766Z"
   },
   {
    "duration": 600,
    "start_time": "2021-11-29T12:33:27.073Z"
   },
   {
    "duration": 6,
    "start_time": "2021-11-29T12:33:27.765Z"
   },
   {
    "duration": 100,
    "start_time": "2021-11-29T12:33:27.774Z"
   },
   {
    "duration": 391,
    "start_time": "2021-11-29T12:33:27.876Z"
   },
   {
    "duration": 8,
    "start_time": "2021-11-29T12:33:28.269Z"
   },
   {
    "duration": 324,
    "start_time": "2021-11-29T12:33:28.279Z"
   },
   {
    "duration": 1734368,
    "start_time": "2021-11-29T12:33:28.604Z"
   },
   {
    "duration": 140901,
    "start_time": "2021-11-29T13:02:22.974Z"
   },
   {
    "duration": 4,
    "start_time": "2021-11-29T13:04:43.877Z"
   },
   {
    "duration": 10,
    "start_time": "2021-11-29T13:04:43.882Z"
   },
   {
    "duration": 69233,
    "start_time": "2021-11-29T13:04:43.893Z"
   },
   {
    "duration": 5,
    "start_time": "2021-11-29T13:05:53.127Z"
   },
   {
    "duration": 8,
    "start_time": "2021-11-29T13:05:53.134Z"
   },
   {
    "duration": 319,
    "start_time": "2021-11-29T13:05:53.144Z"
   },
   {
    "duration": 6,
    "start_time": "2021-11-29T13:05:53.465Z"
   },
   {
    "duration": 42,
    "start_time": "2021-11-29T13:05:53.473Z"
   },
   {
    "duration": 22249,
    "start_time": "2021-11-29T13:05:53.517Z"
   },
   {
    "duration": 4,
    "start_time": "2021-11-29T13:06:15.768Z"
   },
   {
    "duration": 4,
    "start_time": "2021-11-29T13:32:38.704Z"
   },
   {
    "duration": 468,
    "start_time": "2021-11-29T13:32:41.434Z"
   },
   {
    "duration": 23912,
    "start_time": "2021-11-29T13:32:52.855Z"
   },
   {
    "duration": 26,
    "start_time": "2021-11-29T13:33:28.992Z"
   },
   {
    "duration": 27,
    "start_time": "2021-11-29T13:33:31.984Z"
   },
   {
    "duration": 5,
    "start_time": "2021-11-29T13:33:45.498Z"
   },
   {
    "duration": 44,
    "start_time": "2021-11-29T13:35:31.962Z"
   },
   {
    "duration": 301,
    "start_time": "2021-11-29T13:37:04.572Z"
   },
   {
    "duration": 5,
    "start_time": "2021-11-29T13:39:12.541Z"
   },
   {
    "duration": 20990,
    "start_time": "2021-11-29T13:39:13.477Z"
   },
   {
    "duration": 418,
    "start_time": "2021-11-29T13:39:43.630Z"
   },
   {
    "duration": 136,
    "start_time": "2021-11-29T13:42:08.928Z"
   },
   {
    "duration": 124,
    "start_time": "2021-11-29T13:42:27.342Z"
   },
   {
    "duration": 4,
    "start_time": "2021-11-29T13:42:37.559Z"
   },
   {
    "duration": 6,
    "start_time": "2021-11-29T13:42:57.168Z"
   },
   {
    "duration": 8,
    "start_time": "2021-11-29T13:43:10.399Z"
   },
   {
    "duration": 49,
    "start_time": "2021-11-29T13:43:26.015Z"
   },
   {
    "duration": 6,
    "start_time": "2021-11-29T13:43:34.153Z"
   },
   {
    "duration": 9,
    "start_time": "2021-11-29T13:43:42.639Z"
   },
   {
    "duration": 8,
    "start_time": "2021-11-29T13:43:46.344Z"
   },
   {
    "duration": 8,
    "start_time": "2021-11-29T13:44:07.505Z"
   },
   {
    "duration": 299,
    "start_time": "2021-11-29T13:44:41.235Z"
   },
   {
    "duration": 10,
    "start_time": "2021-11-29T13:45:06.073Z"
   },
   {
    "duration": 5,
    "start_time": "2021-11-29T13:45:11.817Z"
   },
   {
    "duration": 7666,
    "start_time": "2021-11-29T13:45:31.193Z"
   },
   {
    "duration": 5,
    "start_time": "2021-11-29T13:45:44.226Z"
   },
   {
    "duration": 9,
    "start_time": "2021-11-29T13:45:48.000Z"
   },
   {
    "duration": 88,
    "start_time": "2021-11-29T13:46:11.179Z"
   },
   {
    "duration": 6,
    "start_time": "2021-11-29T13:46:12.355Z"
   },
   {
    "duration": 9,
    "start_time": "2021-11-29T13:48:40.997Z"
   },
   {
    "duration": 9,
    "start_time": "2021-11-29T13:49:53.655Z"
   },
   {
    "duration": 7,
    "start_time": "2021-11-29T13:50:00.342Z"
   },
   {
    "duration": 5,
    "start_time": "2021-11-29T13:50:50.526Z"
   },
   {
    "duration": 20768,
    "start_time": "2021-11-29T13:50:51.599Z"
   },
   {
    "duration": 188,
    "start_time": "2021-11-29T13:51:35.976Z"
   },
   {
    "duration": 5,
    "start_time": "2021-11-29T13:55:30.333Z"
   },
   {
    "duration": 20532,
    "start_time": "2021-11-29T13:55:30.340Z"
   },
   {
    "duration": 410,
    "start_time": "2021-11-29T13:55:50.965Z"
   },
   {
    "duration": 380,
    "start_time": "2021-11-29T13:55:51.463Z"
   },
   {
    "duration": 370,
    "start_time": "2021-11-29T13:56:13.766Z"
   },
   {
    "duration": 324,
    "start_time": "2021-11-29T13:57:25.662Z"
   },
   {
    "duration": 1065,
    "start_time": "2021-11-29T14:00:28.190Z"
   },
   {
    "duration": 5,
    "start_time": "2021-11-29T14:07:26.349Z"
   },
   {
    "duration": 4,
    "start_time": "2021-11-29T14:07:45.884Z"
   },
   {
    "duration": 5,
    "start_time": "2021-11-29T14:07:58.430Z"
   },
   {
    "duration": 3,
    "start_time": "2021-11-29T14:10:57.473Z"
   },
   {
    "duration": 11,
    "start_time": "2021-11-29T14:10:57.478Z"
   },
   {
    "duration": 8,
    "start_time": "2021-11-29T14:10:57.492Z"
   },
   {
    "duration": 1927,
    "start_time": "2021-11-29T14:10:57.503Z"
   },
   {
    "duration": 46,
    "start_time": "2021-11-29T14:10:59.432Z"
   },
   {
    "duration": 3,
    "start_time": "2021-11-29T14:10:59.480Z"
   },
   {
    "duration": 25,
    "start_time": "2021-11-29T14:10:59.484Z"
   },
   {
    "duration": 4,
    "start_time": "2021-11-29T14:10:59.512Z"
   },
   {
    "duration": 25,
    "start_time": "2021-11-29T14:10:59.518Z"
   },
   {
    "duration": 32,
    "start_time": "2021-11-29T14:10:59.544Z"
   },
   {
    "duration": 289,
    "start_time": "2021-11-29T14:10:59.578Z"
   },
   {
    "duration": 334,
    "start_time": "2021-11-29T14:10:59.869Z"
   },
   {
    "duration": 205,
    "start_time": "2021-11-29T14:11:00.205Z"
   },
   {
    "duration": 921,
    "start_time": "2021-11-29T14:11:00.412Z"
   },
   {
    "duration": 806,
    "start_time": "2021-11-29T14:11:01.335Z"
   },
   {
    "duration": 2025,
    "start_time": "2021-11-29T14:11:02.143Z"
   },
   {
    "duration": 502,
    "start_time": "2021-11-29T14:11:04.170Z"
   },
   {
    "duration": 6,
    "start_time": "2021-11-29T14:11:04.767Z"
   },
   {
    "duration": 123,
    "start_time": "2021-11-29T14:11:04.776Z"
   },
   {
    "duration": 329,
    "start_time": "2021-11-29T14:11:04.901Z"
   },
   {
    "duration": 8,
    "start_time": "2021-11-29T14:11:05.232Z"
   },
   {
    "duration": 335,
    "start_time": "2021-11-29T14:11:05.243Z"
   },
   {
    "duration": 1774886,
    "start_time": "2021-11-29T14:11:05.582Z"
   },
   {
    "duration": 140804,
    "start_time": "2021-11-29T14:40:40.470Z"
   },
   {
    "duration": 4,
    "start_time": "2021-11-29T14:43:01.276Z"
   },
   {
    "duration": 29,
    "start_time": "2021-11-29T14:43:01.281Z"
   },
   {
    "duration": 69903,
    "start_time": "2021-11-29T14:43:01.312Z"
   },
   {
    "duration": 5,
    "start_time": "2021-11-29T14:44:11.216Z"
   },
   {
    "duration": 8,
    "start_time": "2021-11-29T14:44:11.223Z"
   },
   {
    "duration": 299,
    "start_time": "2021-11-29T14:44:11.232Z"
   },
   {
    "duration": 4,
    "start_time": "2021-11-29T14:44:11.533Z"
   },
   {
    "duration": 29,
    "start_time": "2021-11-29T14:44:11.539Z"
   },
   {
    "duration": 19701,
    "start_time": "2021-11-29T14:44:11.570Z"
   },
   {
    "duration": 306,
    "start_time": "2021-11-29T14:44:31.364Z"
   },
   {
    "duration": 405,
    "start_time": "2021-11-29T14:44:31.673Z"
   },
   {
    "duration": 55172,
    "start_time": "2021-11-29T14:51:31.046Z"
   },
   {
    "duration": 6,
    "start_time": "2021-11-29T14:53:41.409Z"
   },
   {
    "duration": 5,
    "start_time": "2021-11-29T14:53:53.896Z"
   },
   {
    "duration": 141124,
    "start_time": "2021-11-29T14:54:18.039Z"
   },
   {
    "duration": 6,
    "start_time": "2021-11-29T14:56:46.328Z"
   },
   {
    "duration": 6,
    "start_time": "2021-11-29T14:56:48.462Z"
   },
   {
    "duration": 310,
    "start_time": "2021-11-29T14:56:54.153Z"
   },
   {
    "duration": 146420,
    "start_time": "2021-11-29T15:04:34.347Z"
   },
   {
    "duration": 4,
    "start_time": "2021-11-29T15:07:00.769Z"
   },
   {
    "duration": 69320,
    "start_time": "2021-11-29T15:07:00.776Z"
   },
   {
    "duration": 5,
    "start_time": "2021-11-29T15:08:10.098Z"
   },
   {
    "duration": 17,
    "start_time": "2021-11-29T15:08:10.105Z"
   },
   {
    "duration": 325,
    "start_time": "2021-11-29T15:08:10.124Z"
   },
   {
    "duration": 12,
    "start_time": "2021-11-29T15:08:10.452Z"
   },
   {
    "duration": 5,
    "start_time": "2021-11-29T15:08:10.465Z"
   },
   {
    "duration": 21699,
    "start_time": "2021-11-29T15:08:10.472Z"
   },
   {
    "duration": 294,
    "start_time": "2021-11-29T15:08:32.173Z"
   },
   {
    "duration": 437,
    "start_time": "2021-11-29T15:08:32.470Z"
   },
   {
    "duration": 7,
    "start_time": "2021-11-29T15:26:17.113Z"
   },
   {
    "duration": 69236,
    "start_time": "2021-11-29T15:26:28.588Z"
   },
   {
    "duration": 6,
    "start_time": "2021-11-29T15:27:40.145Z"
   },
   {
    "duration": 6,
    "start_time": "2021-11-29T15:27:43.113Z"
   },
   {
    "duration": 282,
    "start_time": "2021-11-29T15:27:44.891Z"
   },
   {
    "duration": 28,
    "start_time": "2021-11-29T15:37:24.907Z"
   },
   {
    "duration": 17,
    "start_time": "2021-11-29T15:37:47.061Z"
   },
   {
    "duration": 8158,
    "start_time": "2021-11-29T15:38:07.572Z"
   },
   {
    "duration": 25,
    "start_time": "2021-11-29T15:38:18.133Z"
   },
   {
    "duration": 135,
    "start_time": "2021-11-29T15:38:48.377Z"
   },
   {
    "duration": 18,
    "start_time": "2021-11-29T15:39:08.500Z"
   },
   {
    "duration": 270,
    "start_time": "2021-11-29T15:41:46.351Z"
   },
   {
    "duration": 274,
    "start_time": "2021-11-29T15:42:10.151Z"
   },
   {
    "duration": 4,
    "start_time": "2021-11-29T15:43:59.847Z"
   },
   {
    "duration": 18,
    "start_time": "2021-11-29T15:44:21.922Z"
   },
   {
    "duration": 246,
    "start_time": "2021-11-29T15:46:06.331Z"
   },
   {
    "duration": 251,
    "start_time": "2021-11-29T15:58:47.810Z"
   },
   {
    "duration": 18,
    "start_time": "2021-11-29T15:59:05.276Z"
   },
   {
    "duration": 14,
    "start_time": "2021-11-29T15:59:14.168Z"
   },
   {
    "duration": 24,
    "start_time": "2021-11-29T15:59:24.047Z"
   },
   {
    "duration": 295,
    "start_time": "2021-11-29T15:59:28.052Z"
   },
   {
    "duration": 20,
    "start_time": "2021-11-29T16:00:19.693Z"
   },
   {
    "duration": 5,
    "start_time": "2021-11-29T16:00:52.148Z"
   },
   {
    "duration": 20,
    "start_time": "2021-11-29T16:00:54.925Z"
   },
   {
    "duration": 5,
    "start_time": "2021-11-29T16:03:41.153Z"
   },
   {
    "duration": 255,
    "start_time": "2021-11-29T16:03:58.680Z"
   },
   {
    "duration": 3,
    "start_time": "2021-11-29T16:05:13.992Z"
   },
   {
    "duration": 250,
    "start_time": "2021-11-29T16:05:25.253Z"
   },
   {
    "duration": 3,
    "start_time": "2021-11-29T16:05:39.513Z"
   },
   {
    "duration": 244,
    "start_time": "2021-11-29T16:05:40.313Z"
   },
   {
    "duration": 277,
    "start_time": "2021-11-29T16:07:27.656Z"
   },
   {
    "duration": 5,
    "start_time": "2021-11-29T16:08:06.299Z"
   },
   {
    "duration": 245,
    "start_time": "2021-11-29T16:08:23.126Z"
   },
   {
    "duration": 257,
    "start_time": "2021-11-29T16:08:41.283Z"
   },
   {
    "duration": 374,
    "start_time": "2021-11-29T16:10:02.531Z"
   },
   {
    "duration": 250,
    "start_time": "2021-11-29T16:10:13.632Z"
   },
   {
    "duration": 3,
    "start_time": "2021-11-29T16:11:29.816Z"
   },
   {
    "duration": 5,
    "start_time": "2021-11-29T16:11:34.701Z"
   },
   {
    "duration": 4,
    "start_time": "2021-11-29T16:11:44.621Z"
   },
   {
    "duration": 5,
    "start_time": "2021-11-29T16:11:46.462Z"
   },
   {
    "duration": 5,
    "start_time": "2021-11-29T16:12:18.454Z"
   },
   {
    "duration": 256,
    "start_time": "2021-11-29T16:12:31.282Z"
   },
   {
    "duration": 4,
    "start_time": "2021-11-29T16:12:44.365Z"
   },
   {
    "duration": 437,
    "start_time": "2021-11-29T16:12:48.238Z"
   },
   {
    "duration": 3,
    "start_time": "2021-11-29T16:12:53.839Z"
   },
   {
    "duration": 5,
    "start_time": "2021-11-29T16:12:54.694Z"
   },
   {
    "duration": 4,
    "start_time": "2021-11-29T16:12:56.326Z"
   },
   {
    "duration": 19,
    "start_time": "2021-11-29T16:13:00.486Z"
   },
   {
    "duration": 6,
    "start_time": "2021-11-29T16:14:38.104Z"
   },
   {
    "duration": 18,
    "start_time": "2021-11-29T16:14:42.289Z"
   },
   {
    "duration": 265,
    "start_time": "2021-11-29T16:15:26.099Z"
   },
   {
    "duration": 339,
    "start_time": "2021-11-29T16:15:27.754Z"
   },
   {
    "duration": 255,
    "start_time": "2021-11-29T16:15:35.407Z"
   },
   {
    "duration": 7,
    "start_time": "2021-11-29T16:16:05.545Z"
   },
   {
    "duration": 5,
    "start_time": "2021-11-29T16:16:08.833Z"
   },
   {
    "duration": 5,
    "start_time": "2021-11-29T16:16:12.533Z"
   },
   {
    "duration": 4,
    "start_time": "2021-11-29T16:16:32.208Z"
   },
   {
    "duration": 4,
    "start_time": "2021-11-29T16:16:32.993Z"
   },
   {
    "duration": 3,
    "start_time": "2021-11-29T16:16:34.730Z"
   },
   {
    "duration": 7,
    "start_time": "2021-11-29T16:16:36.457Z"
   },
   {
    "duration": 5,
    "start_time": "2021-11-29T16:16:37.768Z"
   },
   {
    "duration": 4,
    "start_time": "2021-11-29T16:16:38.633Z"
   },
   {
    "duration": 19,
    "start_time": "2021-11-29T16:16:55.634Z"
   },
   {
    "duration": 4,
    "start_time": "2021-11-29T16:17:24.161Z"
   },
   {
    "duration": 5,
    "start_time": "2021-11-29T16:17:24.866Z"
   },
   {
    "duration": 3,
    "start_time": "2021-11-29T16:17:25.987Z"
   },
   {
    "duration": 7,
    "start_time": "2021-11-29T16:17:26.626Z"
   },
   {
    "duration": 6,
    "start_time": "2021-11-29T16:17:28.610Z"
   },
   {
    "duration": 5,
    "start_time": "2021-11-29T16:17:29.474Z"
   },
   {
    "duration": 20,
    "start_time": "2021-11-29T16:17:31.843Z"
   },
   {
    "duration": 14,
    "start_time": "2021-11-29T16:20:04.094Z"
   },
   {
    "duration": 435,
    "start_time": "2021-11-29T16:20:37.416Z"
   },
   {
    "duration": 11,
    "start_time": "2021-11-29T16:22:43.348Z"
   },
   {
    "duration": 528,
    "start_time": "2021-11-29T16:25:25.761Z"
   },
   {
    "duration": 321,
    "start_time": "2021-11-29T16:26:08.642Z"
   },
   {
    "duration": 497,
    "start_time": "2021-11-29T16:26:15.050Z"
   },
   {
    "duration": 10,
    "start_time": "2021-11-29T16:26:33.771Z"
   },
   {
    "duration": 7,
    "start_time": "2021-11-29T16:26:42.002Z"
   },
   {
    "duration": 9,
    "start_time": "2021-11-29T16:26:54.568Z"
   },
   {
    "duration": 8,
    "start_time": "2021-11-29T16:27:35.109Z"
   },
   {
    "duration": 303,
    "start_time": "2021-11-29T16:28:01.676Z"
   },
   {
    "duration": 299,
    "start_time": "2021-11-29T16:28:19.628Z"
   },
   {
    "duration": 303,
    "start_time": "2021-11-29T16:28:25.852Z"
   },
   {
    "duration": 323,
    "start_time": "2021-11-29T16:28:33.301Z"
   },
   {
    "duration": 252,
    "start_time": "2021-11-29T16:28:51.186Z"
   },
   {
    "duration": 11,
    "start_time": "2021-11-29T16:28:55.668Z"
   },
   {
    "duration": 277,
    "start_time": "2021-11-29T16:30:36.558Z"
   },
   {
    "duration": 11,
    "start_time": "2021-11-29T16:30:41.534Z"
   },
   {
    "duration": 272,
    "start_time": "2021-11-29T16:30:43.430Z"
   },
   {
    "duration": 4,
    "start_time": "2021-11-29T16:30:54.055Z"
   },
   {
    "duration": 6,
    "start_time": "2021-11-29T16:31:00.998Z"
   },
   {
    "duration": 6,
    "start_time": "2021-11-29T16:32:52.591Z"
   },
   {
    "duration": 14,
    "start_time": "2021-11-29T16:33:00.864Z"
   },
   {
    "duration": 3,
    "start_time": "2021-11-29T16:33:01.535Z"
   },
   {
    "duration": 6,
    "start_time": "2021-11-29T16:33:02.289Z"
   },
   {
    "duration": 6,
    "start_time": "2021-11-29T16:33:06.895Z"
   },
   {
    "duration": 287,
    "start_time": "2021-11-29T16:33:47.968Z"
   },
   {
    "duration": 259,
    "start_time": "2021-11-29T16:35:13.768Z"
   },
   {
    "duration": 12,
    "start_time": "2021-11-29T16:35:24.520Z"
   },
   {
    "duration": 4,
    "start_time": "2021-11-29T16:35:26.440Z"
   },
   {
    "duration": 6,
    "start_time": "2021-11-29T16:35:33.230Z"
   },
   {
    "duration": 6,
    "start_time": "2021-11-29T16:38:44.297Z"
   },
   {
    "duration": 289,
    "start_time": "2021-11-29T16:40:42.394Z"
   },
   {
    "duration": 92,
    "start_time": "2021-11-29T16:41:00.837Z"
   },
   {
    "duration": 524,
    "start_time": "2021-11-29T16:41:07.805Z"
   },
   {
    "duration": 175,
    "start_time": "2021-11-29T16:42:58.169Z"
   },
   {
    "duration": 306,
    "start_time": "2021-11-29T16:43:01.569Z"
   },
   {
    "duration": 19,
    "start_time": "2021-11-29T16:53:30.873Z"
   },
   {
    "duration": 19,
    "start_time": "2021-11-29T16:54:36.861Z"
   },
   {
    "duration": 10,
    "start_time": "2021-11-29T16:55:40.791Z"
   },
   {
    "duration": 10,
    "start_time": "2021-11-29T16:56:50.589Z"
   },
   {
    "duration": 30,
    "start_time": "2021-11-29T16:57:06.365Z"
   },
   {
    "duration": 27,
    "start_time": "2021-11-29T16:57:49.127Z"
   },
   {
    "duration": 7,
    "start_time": "2021-11-29T16:59:17.170Z"
   },
   {
    "duration": 4,
    "start_time": "2021-11-29T17:00:31.361Z"
   },
   {
    "duration": 91,
    "start_time": "2021-11-29T17:00:47.744Z"
   },
   {
    "duration": 7,
    "start_time": "2021-11-29T17:01:10.427Z"
   },
   {
    "duration": 9,
    "start_time": "2021-11-29T17:01:19.106Z"
   },
   {
    "duration": 4,
    "start_time": "2021-11-29T17:01:53.435Z"
   },
   {
    "duration": 13,
    "start_time": "2021-11-29T17:01:56.067Z"
   },
   {
    "duration": 4,
    "start_time": "2021-11-29T17:02:20.844Z"
   },
   {
    "duration": 15,
    "start_time": "2021-11-29T17:02:41.867Z"
   },
   {
    "duration": 10,
    "start_time": "2021-11-29T17:02:46.778Z"
   },
   {
    "duration": 261,
    "start_time": "2021-11-29T17:04:08.068Z"
   },
   {
    "duration": 54,
    "start_time": "2021-11-29T17:04:14.525Z"
   },
   {
    "duration": 21,
    "start_time": "2021-11-29T17:04:19.020Z"
   },
   {
    "duration": 4,
    "start_time": "2021-11-29T17:05:42.773Z"
   },
   {
    "duration": 10,
    "start_time": "2021-11-29T17:05:45.926Z"
   },
   {
    "duration": 4,
    "start_time": "2021-11-29T17:06:38.383Z"
   },
   {
    "duration": 7,
    "start_time": "2021-11-29T17:06:42.070Z"
   },
   {
    "duration": 3,
    "start_time": "2021-11-29T17:06:49.271Z"
   },
   {
    "duration": 8,
    "start_time": "2021-11-29T17:06:51.805Z"
   },
   {
    "duration": 6,
    "start_time": "2021-11-29T17:10:01.345Z"
   },
   {
    "duration": 8,
    "start_time": "2021-11-29T17:10:14.680Z"
   },
   {
    "duration": 348,
    "start_time": "2021-11-29T17:10:26.271Z"
   },
   {
    "duration": 300,
    "start_time": "2021-11-29T17:13:26.132Z"
   },
   {
    "duration": 7,
    "start_time": "2021-11-29T17:13:33.125Z"
   },
   {
    "duration": 4,
    "start_time": "2021-11-29T17:15:30.381Z"
   },
   {
    "duration": 10,
    "start_time": "2021-11-29T17:15:33.388Z"
   },
   {
    "duration": 3,
    "start_time": "2021-11-29T17:15:48.615Z"
   },
   {
    "duration": 8,
    "start_time": "2021-11-29T17:15:51.501Z"
   },
   {
    "duration": 10,
    "start_time": "2021-11-29T17:16:13.549Z"
   },
   {
    "duration": 7,
    "start_time": "2021-11-29T17:17:47.248Z"
   },
   {
    "duration": 6,
    "start_time": "2021-11-29T17:18:13.111Z"
   },
   {
    "duration": 8,
    "start_time": "2021-11-29T17:18:17.073Z"
   },
   {
    "duration": 5,
    "start_time": "2021-11-29T17:18:49.545Z"
   },
   {
    "duration": 8,
    "start_time": "2021-11-29T17:18:58.582Z"
   },
   {
    "duration": 256,
    "start_time": "2021-11-29T17:19:37.305Z"
   },
   {
    "duration": 4,
    "start_time": "2021-11-29T17:19:41.127Z"
   },
   {
    "duration": 12,
    "start_time": "2021-11-29T17:19:44.680Z"
   },
   {
    "duration": 46,
    "start_time": "2021-11-29T17:20:14.955Z"
   },
   {
    "duration": 53,
    "start_time": "2021-11-29T17:20:18.536Z"
   },
   {
    "duration": 22,
    "start_time": "2021-11-29T17:21:18.424Z"
   },
   {
    "duration": 280,
    "start_time": "2021-11-29T17:21:44.996Z"
   },
   {
    "duration": 51,
    "start_time": "2021-11-29T17:21:59.260Z"
   },
   {
    "duration": 22,
    "start_time": "2021-11-29T17:22:26.792Z"
   },
   {
    "duration": 20,
    "start_time": "2021-11-29T17:22:38.333Z"
   },
   {
    "duration": 8,
    "start_time": "2021-11-29T17:23:06.949Z"
   },
   {
    "duration": 223,
    "start_time": "2021-11-29T17:25:20.643Z"
   },
   {
    "duration": 144,
    "start_time": "2021-11-29T17:25:20.868Z"
   },
   {
    "duration": 4,
    "start_time": "2021-11-29T17:25:21.014Z"
   },
   {
    "duration": 328,
    "start_time": "2021-11-29T17:25:21.020Z"
   },
   {
    "duration": 4,
    "start_time": "2021-11-29T18:07:49.052Z"
   },
   {
    "duration": 15,
    "start_time": "2021-11-29T18:07:49.059Z"
   },
   {
    "duration": 41,
    "start_time": "2021-11-29T18:07:49.076Z"
   },
   {
    "duration": 1986,
    "start_time": "2021-11-29T18:07:49.119Z"
   },
   {
    "duration": 50,
    "start_time": "2021-11-29T18:07:51.107Z"
   },
   {
    "duration": 4,
    "start_time": "2021-11-29T18:07:51.159Z"
   },
   {
    "duration": 24,
    "start_time": "2021-11-29T18:07:51.165Z"
   },
   {
    "duration": 5,
    "start_time": "2021-11-29T18:07:51.193Z"
   },
   {
    "duration": 30,
    "start_time": "2021-11-29T18:07:51.200Z"
   },
   {
    "duration": 19,
    "start_time": "2021-11-29T18:07:51.232Z"
   },
   {
    "duration": 311,
    "start_time": "2021-11-29T18:07:51.253Z"
   },
   {
    "duration": 347,
    "start_time": "2021-11-29T18:07:51.566Z"
   },
   {
    "duration": 197,
    "start_time": "2021-11-29T18:07:51.915Z"
   },
   {
    "duration": 918,
    "start_time": "2021-11-29T18:07:52.115Z"
   },
   {
    "duration": 928,
    "start_time": "2021-11-29T18:07:53.035Z"
   },
   {
    "duration": 1805,
    "start_time": "2021-11-29T18:07:53.965Z"
   },
   {
    "duration": 507,
    "start_time": "2021-11-29T18:07:55.862Z"
   },
   {
    "duration": 96,
    "start_time": "2021-11-29T18:07:56.372Z"
   },
   {
    "duration": 96,
    "start_time": "2021-11-29T18:07:56.471Z"
   },
   {
    "duration": 326,
    "start_time": "2021-11-29T18:07:56.569Z"
   },
   {
    "duration": 8,
    "start_time": "2021-11-29T18:07:56.896Z"
   },
   {
    "duration": 435,
    "start_time": "2021-11-29T18:07:56.906Z"
   },
   {
    "duration": 1691023,
    "start_time": "2021-11-29T18:07:57.345Z"
   },
   {
    "duration": 144154,
    "start_time": "2021-11-29T18:36:08.371Z"
   },
   {
    "duration": 3,
    "start_time": "2021-11-29T18:38:32.527Z"
   },
   {
    "duration": 11,
    "start_time": "2021-11-29T18:38:32.531Z"
   },
   {
    "duration": 145348,
    "start_time": "2021-11-29T18:38:32.544Z"
   },
   {
    "duration": 4,
    "start_time": "2021-11-29T18:40:57.894Z"
   },
   {
    "duration": 68689,
    "start_time": "2021-11-29T18:40:57.900Z"
   },
   {
    "duration": 5,
    "start_time": "2021-11-29T18:42:06.591Z"
   },
   {
    "duration": 11,
    "start_time": "2021-11-29T18:42:06.598Z"
   },
   {
    "duration": 296,
    "start_time": "2021-11-29T18:42:06.612Z"
   },
   {
    "duration": 5,
    "start_time": "2021-11-29T18:42:06.910Z"
   },
   {
    "duration": 73,
    "start_time": "2021-11-29T18:42:06.917Z"
   },
   {
    "duration": 23980,
    "start_time": "2021-11-29T18:42:06.992Z"
   },
   {
    "duration": 591,
    "start_time": "2021-11-29T18:42:30.979Z"
   },
   {
    "duration": 146,
    "start_time": "2021-11-29T18:42:31.573Z"
   },
   {
    "duration": 6,
    "start_time": "2021-11-29T18:42:31.721Z"
   },
   {
    "duration": 341,
    "start_time": "2021-11-29T18:42:31.728Z"
   },
   {
    "duration": 55,
    "start_time": "2021-11-29T18:49:15.552Z"
   },
   {
    "duration": 7,
    "start_time": "2021-11-29T18:49:19.183Z"
   },
   {
    "duration": 300,
    "start_time": "2021-11-29T18:49:22.095Z"
   },
   {
    "duration": 84,
    "start_time": "2021-11-29T18:53:06.602Z"
   },
   {
    "duration": 81,
    "start_time": "2021-11-29T18:53:16.840Z"
   }
  ],
  "kernelspec": {
   "display_name": "Python 3",
   "language": "python",
   "name": "python3"
  },
  "language_info": {
   "codemirror_mode": {
    "name": "ipython",
    "version": 3
   },
   "file_extension": ".py",
   "mimetype": "text/x-python",
   "name": "python",
   "nbconvert_exporter": "python",
   "pygments_lexer": "ipython3",
   "version": "3.8.8"
  },
  "toc": {
   "base_numbering": 1,
   "nav_menu": {},
   "number_sections": true,
   "sideBar": true,
   "skip_h1_title": true,
   "title_cell": "Table of Contents",
   "title_sidebar": "Contents",
   "toc_cell": false,
   "toc_position": {},
   "toc_section_display": true,
   "toc_window_display": true
  }
 },
 "nbformat": 4,
 "nbformat_minor": 2
}
